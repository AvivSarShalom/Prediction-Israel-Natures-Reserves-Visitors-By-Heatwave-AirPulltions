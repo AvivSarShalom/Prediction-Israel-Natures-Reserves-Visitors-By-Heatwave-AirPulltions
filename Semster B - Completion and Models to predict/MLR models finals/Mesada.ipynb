{
 "cells": [
  {
   "cell_type": "code",
   "execution_count": 2,
   "metadata": {},
   "outputs": [],
   "source": [
    "import pandas as pd\n",
    "import numpy as np \n",
    "import sys\n",
    "sys.path.append('../../Function')\n",
    "import function\n",
    "from sklearn.metrics import mean_absolute_error\n",
    "from keras.layers import Dense, Dropout\n",
    "from keras.models import Sequential\n"
   ]
  },
  {
   "cell_type": "code",
   "execution_count": 3,
   "metadata": {},
   "outputs": [],
   "source": [
    "df = pd.read_excel('../../../site_info_ver_5.xlsx')"
   ]
  },
  {
   "cell_type": "code",
   "execution_count": 21,
   "metadata": {},
   "outputs": [
    {
     "name": "stdout",
     "output_type": "stream",
     "text": [
      "model on site The Masada\n",
      "Focus on  Israelis\n",
      "Add Last year visitors Successfully\n",
      "is_weekend                       int64\n",
      "operations                       int64\n",
      "is_jewish_holiday                int64\n",
      "pm10                           float64\n",
      "Temperature                    float64\n",
      "is_HeatWave                      int64\n",
      "Haifa_pm10                     float64\n",
      "Beer-Sheva_pm10                float64\n",
      "is_Site_exceeded_pm10            int64\n",
      "Tel_Aviv-Yafo_pm10_exceeded      int64\n",
      "Jerusalem_pm10_exceeded          int64\n",
      "Haifa_pm10_exceeded              int64\n",
      "Last_year_visitors             float64\n",
      "Israelis_Count                   int64\n",
      "dtype: object\n",
      "(1495, 14)\n",
      "shape of dataset (1495, 14)\n",
      "features : Index(['is_weekend', 'operations', 'is_jewish_holiday', 'pm10', 'Temperature',\n",
      "       'is_HeatWave', 'Haifa_pm10', 'Beer-Sheva_pm10', 'is_Site_exceeded_pm10',\n",
      "       'Tel_Aviv-Yafo_pm10_exceeded', 'Jerusalem_pm10_exceeded',\n",
      "       'Haifa_pm10_exceeded', 'Last_year_visitors', 'Israelis_Count'],\n",
      "      dtype='object')\n"
     ]
    },
    {
     "data": {
      "text/html": [
       "<div>\n",
       "<style scoped>\n",
       "    .dataframe tbody tr th:only-of-type {\n",
       "        vertical-align: middle;\n",
       "    }\n",
       "\n",
       "    .dataframe tbody tr th {\n",
       "        vertical-align: top;\n",
       "    }\n",
       "\n",
       "    .dataframe thead th {\n",
       "        text-align: right;\n",
       "    }\n",
       "</style>\n",
       "<table border=\"1\" class=\"dataframe\">\n",
       "  <thead>\n",
       "    <tr style=\"text-align: right;\">\n",
       "      <th></th>\n",
       "      <th>Israelis_Count</th>\n",
       "    </tr>\n",
       "  </thead>\n",
       "  <tbody>\n",
       "    <tr>\n",
       "      <th>count</th>\n",
       "      <td>1495.000000</td>\n",
       "    </tr>\n",
       "    <tr>\n",
       "      <th>mean</th>\n",
       "      <td>1577.650836</td>\n",
       "    </tr>\n",
       "    <tr>\n",
       "      <th>std</th>\n",
       "      <td>790.851670</td>\n",
       "    </tr>\n",
       "    <tr>\n",
       "      <th>min</th>\n",
       "      <td>61.000000</td>\n",
       "    </tr>\n",
       "    <tr>\n",
       "      <th>25%</th>\n",
       "      <td>959.000000</td>\n",
       "    </tr>\n",
       "    <tr>\n",
       "      <th>50%</th>\n",
       "      <td>1446.000000</td>\n",
       "    </tr>\n",
       "    <tr>\n",
       "      <th>75%</th>\n",
       "      <td>2106.500000</td>\n",
       "    </tr>\n",
       "    <tr>\n",
       "      <th>max</th>\n",
       "      <td>3982.000000</td>\n",
       "    </tr>\n",
       "  </tbody>\n",
       "</table>\n",
       "</div>"
      ],
      "text/plain": [
       "       Israelis_Count\n",
       "count     1495.000000\n",
       "mean      1577.650836\n",
       "std        790.851670\n",
       "min         61.000000\n",
       "25%        959.000000\n",
       "50%       1446.000000\n",
       "75%       2106.500000\n",
       "max       3982.000000"
      ]
     },
     "execution_count": 21,
     "metadata": {},
     "output_type": "execute_result"
    }
   ],
   "source": [
    "dataset = df.copy()\n",
    "sites = dataset.Site_Name.unique()\n",
    "site_name = 'The Masada'\n",
    "target = 'Israelis_Count'\n",
    "target_title = 'Israelis'\n",
    "dataset = dataset.loc[dataset.Site_Name==site_name]\n",
    "# dataset = dataset.loc[dataset[target]<2000]\n",
    "\n",
    "\n",
    "# dataset = function.remove_pollution_site(dataset)\n",
    "# dataset = dataset.drop(dataset.filter(regex='pm').columns, axis=1)\n",
    "# dataset = dataset.drop(dataset.filter(regex='Ashkelon').columns, axis=1)\n",
    "dataset = dataset.drop(['Total','Tourists_Count'],axis=1)\n",
    "dataset = dataset.drop(dataset.filter(regex='nox').columns, axis=1)\n",
    "dataset = dataset.drop(dataset.filter(regex='so2').columns, axis=1)\n",
    "dataset = dataset.drop(dataset.filter(regex='pm2.5').columns, axis=1)\n",
    "dataset = dataset.drop(dataset.filter(regex='Ashkelon').columns, axis=1)\n",
    "dataset = dataset.drop(dataset.filter(regex='Season').columns, axis=1)\n",
    "\n",
    "print('model on site',site_name)\n",
    "print('Focus on ',target_title)\n",
    "\n",
    "# dataset = function.remove_outliers(dataset, target)\n",
    "\n",
    "dataset = function.remove_unique_one(dataset)\n",
    "dataset = function.remove_high_corr(dataset, target,0.6)\n",
    "dataset = function.split_date(dataset)\n",
    "# dataset = function.get_weekday(dataset)\n",
    "dataset = function.last_year_entries_info(dataset,target)\n",
    "# dataset.set_index(\"Date\",inplace=True)\n",
    "dataset.drop(\"Date\",axis=1,inplace=True)\n",
    "# dataset = dataset.astype({'day': 'category'})\n",
    "# dataset = dataset.astype({'month': 'category'})\n",
    "# dataset = dataset.astype({'year': 'category'})\n",
    "dataset = dataset.drop('day', axis=1)\n",
    "dataset = dataset.drop('month', axis=1)\n",
    "dataset = dataset.drop('year', axis=1)\n",
    "dataset = dataset.drop('is_jewish_vacation', axis=1)\n",
    "dataset = dataset.drop('is_muslims_holiday', axis=1)\n",
    "\n",
    "print(dataset.dtypes)\n",
    "print(dataset.shape)\n",
    "dataset = pd.get_dummies(dataset)\n",
    "\n",
    "print('shape of dataset',dataset.shape)\n",
    "print('features :',dataset.columns)\n",
    "dataset[['Israelis_Count']].describe()"
   ]
  },
  {
   "cell_type": "code",
   "execution_count": 5,
   "metadata": {},
   "outputs": [],
   "source": [
    "#change more columns:\n"
   ]
  },
  {
   "cell_type": "code",
   "execution_count": null,
   "metadata": {},
   "outputs": [],
   "source": []
  },
  {
   "cell_type": "code",
   "execution_count": 22,
   "metadata": {},
   "outputs": [],
   "source": [
    "from sklearn.preprocessing import MinMaxScaler\n",
    "from sklearn.model_selection import train_test_split\n",
    "\n",
    "X = dataset.drop(target,axis=1)\n",
    "y = dataset[target]\n",
    "\n",
    "X_train,X_test,y_train,y_test = train_test_split(X,y,test_size=0.2,random_state=312148513)\n",
    "\n",
    "X_train_scaler = MinMaxScaler()\n",
    "X_test_scaler = MinMaxScaler()\n",
    "\n",
    "X_train_scaled = X_train_scaler.fit_transform(X_train)\n",
    "X_test_scaled = X_test_scaler.fit_transform(X_test)\n",
    "\n",
    "y_train_scaled = np.log(y_train+0.001)\n",
    "y_test_scaled = np.log(y_test+0.001)\n",
    "\n",
    "dataset_train = pd.merge(left=X_train, right=y_train, left_index=True, right_index=True)\n",
    "dataset_test = pd.merge(left=X_test, right=y_test, left_index=True, right_index=True)\n",
    "\n"
   ]
  },
  {
   "cell_type": "markdown",
   "metadata": {},
   "source": [
    "STDs"
   ]
  },
  {
   "cell_type": "code",
   "execution_count": 29,
   "metadata": {},
   "outputs": [
    {
     "name": "stdout",
     "output_type": "stream",
     "text": [
      "train STD 792.9475515905618\n",
      "test STD 779.7309992145478\n"
     ]
    }
   ],
   "source": [
    "print(\"train STD \" + str(np.std(y_train)))\n",
    "print(\"test STD \" + str(np.std(y_test)))"
   ]
  },
  {
   "cell_type": "markdown",
   "metadata": {},
   "source": [
    "MLR Test"
   ]
  },
  {
   "cell_type": "code",
   "execution_count": 23,
   "metadata": {},
   "outputs": [
    {
     "name": "stdout",
     "output_type": "stream",
     "text": [
      "rmse 708.7708573423363\n",
      "std 779.7309992145478\n"
     ]
    },
    {
     "data": {
      "text/plain": [
       "[(-496.496, 'Beer-Sheva_pm10'),\n",
       " (-293.846, 'Temperature'),\n",
       " (-233.077, 'is_HeatWave'),\n",
       " (-105.908, 'is_weekend'),\n",
       " (-63.673, 'operations'),\n",
       " (5.77, 'Haifa_pm10_exceeded'),\n",
       " (9.242, 'is_Site_exceeded_pm10'),\n",
       " (15.868, 'Jerusalem_pm10_exceeded'),\n",
       " (35.102, 'pm10'),\n",
       " (85.762, 'Tel_Aviv-Yafo_pm10_exceeded'),\n",
       " (149.01, 'Haifa_pm10'),\n",
       " (304.292, 'is_jewish_holiday'),\n",
       " (1724.364, 'Last_year_visitors')]"
      ]
     },
     "execution_count": 23,
     "metadata": {},
     "output_type": "execute_result"
    }
   ],
   "source": [
    "from sklearn.linear_model import LinearRegression\n",
    "\n",
    "mlr = LinearRegression()\n",
    "mlr.fit(X_train_scaled,y_train)\n",
    "\n",
    "prediction =mlr.predict(X_test_scaled)\n",
    "\n",
    "res = pd.DataFrame(\n",
    "    data={\n",
    "        'Prediction':prediction,\n",
    "        'Actual': y_test.values\n",
    "    },\n",
    "    index=y_test.index\n",
    ")\n",
    "\n",
    "print('rmse',function.get_rmse(res.Prediction, res.Actual))\n",
    "print('std',np.std(res.Actual))\n",
    "\n",
    "coef = sorted( list(zip(np.round(mlr.coef_,3).T,X_train.columns)))\n",
    "coef"
   ]
  },
  {
   "cell_type": "markdown",
   "metadata": {},
   "source": [
    "MLR Train"
   ]
  },
  {
   "cell_type": "code",
   "execution_count": 24,
   "metadata": {},
   "outputs": [
    {
     "name": "stdout",
     "output_type": "stream",
     "text": [
      "rmse 685.961788944731\n",
      "std 792.9475515905618\n"
     ]
    },
    {
     "data": {
      "text/plain": [
       "[(-496.496, 'Beer-Sheva_pm10'),\n",
       " (-293.846, 'Temperature'),\n",
       " (-233.077, 'is_HeatWave'),\n",
       " (-105.908, 'is_weekend'),\n",
       " (-63.673, 'operations'),\n",
       " (5.77, 'Haifa_pm10_exceeded'),\n",
       " (9.242, 'is_Site_exceeded_pm10'),\n",
       " (15.868, 'Jerusalem_pm10_exceeded'),\n",
       " (35.102, 'pm10'),\n",
       " (85.762, 'Tel_Aviv-Yafo_pm10_exceeded'),\n",
       " (149.01, 'Haifa_pm10'),\n",
       " (304.292, 'is_jewish_holiday'),\n",
       " (1724.364, 'Last_year_visitors')]"
      ]
     },
     "execution_count": 24,
     "metadata": {},
     "output_type": "execute_result"
    }
   ],
   "source": [
    "prediction =mlr.predict(X_train_scaled)\n",
    "\n",
    "res = pd.DataFrame(\n",
    "    data={\n",
    "        'Prediction':prediction,\n",
    "        'Actual': y_train.values\n",
    "    },\n",
    "    index=y_train.index\n",
    ")\n",
    "\n",
    "print('rmse',function.get_rmse(res.Prediction, res.Actual))\n",
    "print('std',np.std(res.Actual))\n",
    "\n",
    "coef = sorted( list(zip(np.round(mlr.coef_,3).T,X_train.columns)))\n",
    "coef"
   ]
  }
 ],
 "metadata": {
  "kernelspec": {
   "display_name": "Python 3.9.9 64-bit",
   "language": "python",
   "name": "python3"
  },
  "language_info": {
   "codemirror_mode": {
    "name": "ipython",
    "version": 3
   },
   "file_extension": ".py",
   "mimetype": "text/x-python",
   "name": "python",
   "nbconvert_exporter": "python",
   "pygments_lexer": "ipython3",
   "version": "3.9.9"
  },
  "orig_nbformat": 4,
  "vscode": {
   "interpreter": {
    "hash": "ddf3f600d40d2341c955235ce25b28b4350cbf03e579f97bb09eddb1e42d4194"
   }
  }
 },
 "nbformat": 4,
 "nbformat_minor": 2
}
