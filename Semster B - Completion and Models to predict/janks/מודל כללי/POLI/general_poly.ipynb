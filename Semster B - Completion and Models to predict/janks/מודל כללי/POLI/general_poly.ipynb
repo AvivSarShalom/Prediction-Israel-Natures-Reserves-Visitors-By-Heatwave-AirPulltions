{
 "cells": [
  {
   "cell_type": "code",
   "execution_count": 1,
   "metadata": {},
   "outputs": [],
   "source": [
    "import pandas as pd\n",
    "import numpy as np\n",
    "import seaborn as sns\n",
    "import matplotlib.pyplot as plt  \n",
    "import plotly.graph_objects as go\n",
    "from sklearn.linear_model import LinearRegression\n",
    "from sklearn.model_selection import train_test_split\n",
    "from sklearn.preprocessing import MinMaxScaler\n",
    "from sklearn.preprocessing import PolynomialFeatures\n",
    "from sklearn import metrics\n",
    "from sklearn.metrics import r2_score\n",
    "import sys\n",
    "sys.path.append(\"../../Function/\")\n",
    "import function\n",
    "import warnings\n",
    "from sklearn.feature_selection import SelectKBest\n",
    "from sklearn.feature_selection import f_regression\n"
   ]
  },
  {
   "cell_type": "code",
   "execution_count": 2,
   "metadata": {},
   "outputs": [],
   "source": [
    "df1 = pd.read_excel(\"../../../site_info_ver_3.3.xlsx\")"
   ]
  },
  {
   "cell_type": "code",
   "execution_count": 4,
   "metadata": {},
   "outputs": [
    {
     "name": "stdout",
     "output_type": "stream",
     "text": [
      "Split Data Successfully\n"
     ]
    },
    {
     "data": {
      "text/plain": [
       "(24323, 84)"
      ]
     },
     "execution_count": 4,
     "metadata": {},
     "output_type": "execute_result"
    }
   ],
   "source": [
    "df = df1.copy()\n",
    "df = df[df.region_South==1]\n",
    "df.drop( ['nox' , 'pm10', 'pm2.5','so2' ],axis=1,inplace=True)\n",
    "df.reset_index(drop=True,inplace=True)\n",
    "df = function.split_date(df)\n",
    "df.shape"
   ]
  },
  {
   "cell_type": "code",
   "execution_count": 5,
   "metadata": {},
   "outputs": [
    {
     "name": "stdout",
     "output_type": "stream",
     "text": [
      "(24323, 96)\n",
      "(24323, 95)\n",
      "(24323, 95)\n",
      "(24323, 95)\n"
     ]
    }
   ],
   "source": [
    "# df = df.dropna(axis = 1)\n",
    "dummies = pd.get_dummies(df, 'Site_Name')\n",
    "print(dummies.shape)\n",
    "dummies.set_index('Date',inplace=True)\n",
    "dummies.sort_index(inplace=True)\n",
    "print(dummies.shape)\n",
    "\n",
    "# dummies.drop(['Model_number'] , axis = 1, inplace = True)\n",
    "# dummies = dummies.astype({'Total':np.float64,'Israelis_Count':np.float64, 'Tourists_Count':np.float64})\n",
    "dummies.isna().any().sum()\n",
    "print(dummies.shape)\n",
    "\n",
    "# dummies = function.remove_outliers(dummies, 'Israelis_Count')\n",
    "dummies.dropna(inplace=True)\n",
    "print(dummies.shape)\n"
   ]
  },
  {
   "cell_type": "code",
   "execution_count": 6,
   "metadata": {},
   "outputs": [
    {
     "name": "stdout",
     "output_type": "stream",
     "text": [
      "(24323, 95)\n"
     ]
    }
   ],
   "source": [
    "poly_res = pd.read_excel(\"../POLI/poly.xlsx\")\n",
    "# writer = pd.ExcelWriter('../../poly.xlsx', engine='xlsxwriter')\n",
    "print(dummies.shape)"
   ]
  },
  {
   "cell_type": "code",
   "execution_count": 7,
   "metadata": {},
   "outputs": [
    {
     "data": {
      "text/plain": [
       "['special_activity',\n",
       " 'is_jewish_vacation',\n",
       " 'is_jewishHeritage',\n",
       " 'Beer-Sheva_pm10',\n",
       " 'is_muslims_vacation',\n",
       " 'is_heritage',\n",
       " 'Site_Name_En Avdat',\n",
       " 'year',\n",
       " 'is_Site_exceeded_nox',\n",
       " 'is_natureReserve',\n",
       " 'Site_Name_HaBsor(Eshkol Park)',\n",
       " 'Haifa_pm10',\n",
       " 'Site_Name_Hay-Bar Yotvata',\n",
       " 'Jerusalem_pm10_exceeded',\n",
       " 'Site_Name_Eilat Coral Beach',\n",
       " 'Jerusalem_pm2.5',\n",
       " 'Jerusalem_so2',\n",
       " 'Haifa_nox',\n",
       " 'Tel_Aviv-Yafo_so2',\n",
       " 'Site_Name_Khan Be’erot',\n",
       " 'Site_Name_Tel Beer Sheva',\n",
       " 'Beer-Sheva_nox_exceeded',\n",
       " 'Season_spring',\n",
       " 'Haifa_so2_exceeded',\n",
       " 'Site_Name_Tel Arad',\n",
       " 'Beer-Sheva_nox',\n",
       " 'Season_winter',\n",
       " 'Jerusalem_pm10',\n",
       " 'month',\n",
       " 'Site_Name_Mamshit',\n",
       " 'Jerusalem_pm2.5_exceeded',\n",
       " 'Site_Name_Hai Ramon',\n",
       " 'is_nationalPark',\n",
       " 'Tel_Aviv-Yafo_pm10',\n",
       " 'is_camping',\n",
       " 'Ashkelon_pm2.5',\n",
       " 'Beer-Sheva_pm2.5_exceeded',\n",
       " 'Tel_Aviv-Yafo_pm2.5',\n",
       " 'Haifa_pm2.5',\n",
       " 'Beer-Sheva_pm2.5',\n",
       " 'Ashkelon_nox_exceeded',\n",
       " 'Ashkelon_pm10',\n",
       " 'Temperature']"
      ]
     },
     "execution_count": 7,
     "metadata": {},
     "output_type": "execute_result"
    }
   ],
   "source": [
    "cols_corr = function.remove_high_corr(dummies.drop(['Total' , 'Tourists_Count' ],axis=1), 'Israelis_Count', 0.4)\n",
    "dummies.drop(cols_corr,axis=1,inplace=True)\n",
    "cols_corr\n"
   ]
  },
  {
   "cell_type": "code",
   "execution_count": 8,
   "metadata": {},
   "outputs": [],
   "source": [
    "dd = dict.fromkeys(dummies.select_dtypes(np.float64).columns, np.float32)\n",
    "d = dict.fromkeys(dummies.select_dtypes(np.int64).columns, np.int32)"
   ]
  },
  {
   "cell_type": "code",
   "execution_count": 9,
   "metadata": {},
   "outputs": [
    {
     "name": "stdout",
     "output_type": "stream",
     "text": [
      "<class 'pandas.core.frame.DataFrame'>\n",
      "DatetimeIndex: 24323 entries, 2016-01-01 to 2021-08-11\n",
      "Data columns (total 52 columns):\n",
      " #   Column                        Non-Null Count  Dtype  \n",
      "---  ------                        --------------  -----  \n",
      " 0   Israelis_Count                24323 non-null  int32  \n",
      " 1   Tourists_Count                24323 non-null  int32  \n",
      " 2   Total                         24323 non-null  int32  \n",
      " 3   region_Central                24323 non-null  int32  \n",
      " 4   region_Judea_Samaria          24323 non-null  int32  \n",
      " 5   region_North                  24323 non-null  int32  \n",
      " 6   region_South                  24323 non-null  int32  \n",
      " 7   is_weekend                    24323 non-null  int32  \n",
      " 8   operations                    24323 non-null  int32  \n",
      " 9   is_jewish_holiday             24323 non-null  int32  \n",
      " 10  is_muslims_holiday            24323 non-null  int32  \n",
      " 11  visit_duration                24323 non-null  int32  \n",
      " 12  is_muslimsHeritage            24323 non-null  int32  \n",
      " 13  is_christiansHeritage         24323 non-null  int32  \n",
      " 14  is_archaeology                24323 non-null  int32  \n",
      " 15  is_religion                   24323 non-null  int32  \n",
      " 16  is_animals                    24323 non-null  int32  \n",
      " 17  is_water                      24323 non-null  int32  \n",
      " 18  is_cave                       24323 non-null  int32  \n",
      " 19  is_lookout                    24323 non-null  int32  \n",
      " 20  is_HeatWave                   24323 non-null  int32  \n",
      " 21  Tel_Aviv-Yafo_nox             24323 non-null  float32\n",
      " 22  Jerusalem_nox                 24323 non-null  float32\n",
      " 23  Ashkelon_nox                  24323 non-null  float32\n",
      " 24  Haifa_so2                     24323 non-null  float32\n",
      " 25  Ashkelon_so2                  24323 non-null  float32\n",
      " 26  Beer-Sheva_so2                24323 non-null  float32\n",
      " 27  is_Site_exceeded_pm10         24323 non-null  int32  \n",
      " 28  is_Site_exceeded_pm2.5        24323 non-null  int32  \n",
      " 29  is_Site_exceeded_so2          24323 non-null  int32  \n",
      " 30  Tel_Aviv-Yafo_pm10_exceeded   24323 non-null  int32  \n",
      " 31  Haifa_pm10_exceeded           24323 non-null  int32  \n",
      " 32  Ashkelon_pm10_exceeded        24323 non-null  int32  \n",
      " 33  Beer-Sheva_pm10_exceeded      24323 non-null  int32  \n",
      " 34  Tel_Aviv-Yafo_pm2.5_exceeded  24323 non-null  int32  \n",
      " 35  Haifa_pm2.5_exceeded          24323 non-null  int32  \n",
      " 36  Ashkelon_pm2.5_exceeded       24323 non-null  int32  \n",
      " 37  Tel_Aviv-Yafo_so2_exceeded    24323 non-null  int32  \n",
      " 38  Jerusalem_so2_exceeded        24323 non-null  int32  \n",
      " 39  Ashkelon_so2_exceeded         24323 non-null  int32  \n",
      " 40  Beer-Sheva_so2_exceeded       24323 non-null  int32  \n",
      " 41  Tel_Aviv-Yafo_nox_exceeded    24323 non-null  int32  \n",
      " 42  Jerusalem_nox_exceeded        24323 non-null  int32  \n",
      " 43  Haifa_nox_exceeded            24323 non-null  int32  \n",
      " 44  Green_border                  24323 non-null  int32  \n",
      " 45  Season_autumn                 24323 non-null  int32  \n",
      " 46  Season_summer                 24323 non-null  int32  \n",
      " 47  day                           24323 non-null  int32  \n",
      " 48  Site_Name_Avdat               24323 non-null  uint8  \n",
      " 49  Site_Name_En Gedi             24323 non-null  uint8  \n",
      " 50  Site_Name_Makhtesh Ramon      24323 non-null  uint8  \n",
      " 51  Site_Name_The Masada          24323 non-null  uint8  \n",
      "dtypes: float32(6), int32(42), uint8(4)\n",
      "memory usage: 4.7 MB\n"
     ]
    }
   ],
   "source": [
    "dummies = dummies.astype(d)\n",
    "dummies = dummies.astype(dd)\n",
    "dummies.info()"
   ]
  },
  {
   "cell_type": "code",
   "execution_count": null,
   "metadata": {},
   "outputs": [],
   "source": []
  },
  {
   "cell_type": "code",
   "execution_count": 10,
   "metadata": {},
   "outputs": [
    {
     "name": "stdout",
     "output_type": "stream",
     "text": [
      "train x shape: (19458, 49)\n",
      "train y shape: (19458,)\n",
      "test x shape: (4865, 49)\n",
      "test y shape: (4865,)\n"
     ]
    }
   ],
   "source": [
    "size = round(len(dummies)*.8)\n",
    "dataset_train = dummies[:size]\n",
    "dataset_test = dummies[size:]\n",
    "\n",
    "targets = ['Total' , 'Israelis_Count', 'Tourists_Count' ]\n",
    "X_train = dataset_train.drop(targets,axis=1)\n",
    "y_train = dataset_train['Israelis_Count']\n",
    "\n",
    "X_test = dataset_test.drop(targets,axis=1)\n",
    "y_test = dataset_test['Israelis_Count']\n",
    "\n",
    "print('train x shape:',X_train.shape)\n",
    "print('train y shape:',y_train.shape)\n",
    "print('test x shape:',X_test.shape)\n",
    "print('test y shape:',y_test.shape)"
   ]
  },
  {
   "cell_type": "code",
   "execution_count": 18,
   "metadata": {},
   "outputs": [
    {
     "name": "stdout",
     "output_type": "stream",
     "text": [
      "train x shape: (19458, 49)\n",
      "train y shape: (19458, 1)\n",
      "test x shape: (4865, 49)\n",
      "test y shape: (4865, 1)\n"
     ]
    }
   ],
   "source": [
    "from sklearn.preprocessing import MinMaxScaler \n",
    "from sklearn.preprocessing import Normalizer \n",
    "train_scaler = MinMaxScaler()\n",
    "test_scaler = MinMaxScaler()\n",
    "test_scaler = MinMaxScaler()\n",
    "train_targer_scaler = MinMaxScaler()\n",
    "test_targer_scaler = MinMaxScaler()\n",
    "\n",
    "X_train_scaled = train_scaler.fit_transform(X_train)\n",
    "y_train_scaled = train_targer_scaler.fit_transform(np.log([y_train.values+0.01]).T)\n",
    "X_test_scaled = test_scaler.fit_transform(X_test)\n",
    "y_test_scaled = test_targer_scaler.fit_transform(np.log([y_test.values+0.01]).T)\n",
    "\n",
    "print('train x shape:',X_train_scaled.shape)\n",
    "print('train y shape:',y_train_scaled.shape)\n",
    "print('test x shape:',X_test_scaled.shape)\n",
    "print('test y shape:',y_test_scaled.shape)\n"
   ]
  },
  {
   "cell_type": "code",
   "execution_count": 19,
   "metadata": {},
   "outputs": [
    {
     "name": "stdout",
     "output_type": "stream",
     "text": [
      "<class 'pandas.core.frame.DataFrame'>\n",
      "DatetimeIndex: 19458 entries, 2016-01-01 to 2020-03-07\n",
      "Data columns (total 52 columns):\n",
      " #   Column                        Non-Null Count  Dtype  \n",
      "---  ------                        --------------  -----  \n",
      " 0   Israelis_Count                19458 non-null  int32  \n",
      " 1   Tourists_Count                19458 non-null  int32  \n",
      " 2   Total                         19458 non-null  int32  \n",
      " 3   region_Central                19458 non-null  int32  \n",
      " 4   region_Judea_Samaria          19458 non-null  int32  \n",
      " 5   region_North                  19458 non-null  int32  \n",
      " 6   region_South                  19458 non-null  int32  \n",
      " 7   is_weekend                    19458 non-null  int32  \n",
      " 8   operations                    19458 non-null  int32  \n",
      " 9   is_jewish_holiday             19458 non-null  int32  \n",
      " 10  is_muslims_holiday            19458 non-null  int32  \n",
      " 11  visit_duration                19458 non-null  int32  \n",
      " 12  is_muslimsHeritage            19458 non-null  int32  \n",
      " 13  is_christiansHeritage         19458 non-null  int32  \n",
      " 14  is_archaeology                19458 non-null  int32  \n",
      " 15  is_religion                   19458 non-null  int32  \n",
      " 16  is_animals                    19458 non-null  int32  \n",
      " 17  is_water                      19458 non-null  int32  \n",
      " 18  is_cave                       19458 non-null  int32  \n",
      " 19  is_lookout                    19458 non-null  int32  \n",
      " 20  is_HeatWave                   19458 non-null  int32  \n",
      " 21  Tel_Aviv-Yafo_nox             19458 non-null  float32\n",
      " 22  Jerusalem_nox                 19458 non-null  float32\n",
      " 23  Ashkelon_nox                  19458 non-null  float32\n",
      " 24  Haifa_so2                     19458 non-null  float32\n",
      " 25  Ashkelon_so2                  19458 non-null  float32\n",
      " 26  Beer-Sheva_so2                19458 non-null  float32\n",
      " 27  is_Site_exceeded_pm10         19458 non-null  int32  \n",
      " 28  is_Site_exceeded_pm2.5        19458 non-null  int32  \n",
      " 29  is_Site_exceeded_so2          19458 non-null  int32  \n",
      " 30  Tel_Aviv-Yafo_pm10_exceeded   19458 non-null  int32  \n",
      " 31  Haifa_pm10_exceeded           19458 non-null  int32  \n",
      " 32  Ashkelon_pm10_exceeded        19458 non-null  int32  \n",
      " 33  Beer-Sheva_pm10_exceeded      19458 non-null  int32  \n",
      " 34  Tel_Aviv-Yafo_pm2.5_exceeded  19458 non-null  int32  \n",
      " 35  Haifa_pm2.5_exceeded          19458 non-null  int32  \n",
      " 36  Ashkelon_pm2.5_exceeded       19458 non-null  int32  \n",
      " 37  Tel_Aviv-Yafo_so2_exceeded    19458 non-null  int32  \n",
      " 38  Jerusalem_so2_exceeded        19458 non-null  int32  \n",
      " 39  Ashkelon_so2_exceeded         19458 non-null  int32  \n",
      " 40  Beer-Sheva_so2_exceeded       19458 non-null  int32  \n",
      " 41  Tel_Aviv-Yafo_nox_exceeded    19458 non-null  int32  \n",
      " 42  Jerusalem_nox_exceeded        19458 non-null  int32  \n",
      " 43  Haifa_nox_exceeded            19458 non-null  int32  \n",
      " 44  Green_border                  19458 non-null  int32  \n",
      " 45  Season_autumn                 19458 non-null  int32  \n",
      " 46  Season_summer                 19458 non-null  int32  \n",
      " 47  day                           19458 non-null  int32  \n",
      " 48  Site_Name_Avdat               19458 non-null  uint8  \n",
      " 49  Site_Name_En Gedi             19458 non-null  uint8  \n",
      " 50  Site_Name_Makhtesh Ramon      19458 non-null  uint8  \n",
      " 51  Site_Name_The Masada          19458 non-null  uint8  \n",
      "dtypes: float32(6), int32(42), uint8(4)\n",
      "memory usage: 3.8 MB\n"
     ]
    }
   ],
   "source": [
    "dataset_train.info()"
   ]
  },
  {
   "cell_type": "code",
   "execution_count": 20,
   "metadata": {},
   "outputs": [
    {
     "name": "stdout",
     "output_type": "stream",
     "text": [
      "(19458, 1275)\n"
     ]
    },
    {
     "data": {
      "text/plain": [
       "LinearRegression()"
      ]
     },
     "execution_count": 20,
     "metadata": {},
     "output_type": "execute_result"
    }
   ],
   "source": [
    "poly = PolynomialFeatures(degree=2)\n",
    "        \n",
    "#fit the x variable to fit a 2rd degree polynomial value\n",
    "X_poly = poly.fit_transform(X_train_scaled)\n",
    "print(X_poly.shape)\n",
    "poly.fit(X_poly, y_train_scaled)\n",
    "\n",
    "pol_lin_reg = LinearRegression()\n",
    "pol_lin_reg.fit(X_poly, y_train_scaled)\n",
    "\n"
   ]
  },
  {
   "cell_type": "code",
   "execution_count": 26,
   "metadata": {},
   "outputs": [
    {
     "data": {
      "text/plain": [
       "Date\n",
       "2020-03-08    1.055461e+12\n",
       "2020-03-08    1.090469e+12\n",
       "2020-03-08    1.090469e+12\n",
       "2020-03-08    1.090469e+12\n",
       "2020-03-08    1.090469e+12\n",
       "                  ...     \n",
       "2021-08-11    1.161112e+12\n",
       "2021-08-11    1.161112e+12\n",
       "2021-08-11    1.208884e+12\n",
       "2021-08-11    1.173876e+12\n",
       "2021-08-11    1.161112e+12\n",
       "Name: predicted_entries_train, Length: 4865, dtype: float64"
      ]
     },
     "execution_count": 26,
     "metadata": {},
     "output_type": "execute_result"
    }
   ],
   "source": [
    "#predict the training data\n",
    "predicion_scaled = pol_lin_reg.predict(poly.fit_transform(X_test_scaled))\n",
    "#predicion = y_train_scaler.inverse_transform(predicion_scaled)\n",
    "predicion = predicion_scaled\n",
    "#create a pandas series of the results\n",
    "\n",
    "predicion = round(pd.Series(predicion.reshape(predicion.shape[0]), index=y_test.index, name='predicted_entries_train'),ndigits=2)\n",
    "predicion\n"
   ]
  },
  {
   "cell_type": "code",
   "execution_count": 22,
   "metadata": {},
   "outputs": [
    {
     "name": "stderr",
     "output_type": "stream",
     "text": [
      "C:\\Users\\asars\\AppData\\Local\\Temp/ipykernel_17088/977811463.py:5: SettingWithCopyWarning: \n",
      "A value is trying to be set on a copy of a slice from a DataFrame.\n",
      "Try using .loc[row_indexer,col_indexer] = value instead\n",
      "\n",
      "See the caveats in the documentation: https://pandas.pydata.org/pandas-docs/stable/user_guide/indexing.html#returning-a-view-versus-a-copy\n",
      "  res[['Predicion']][res.Predicion>10000] = max(res.Actual)+1000\n",
      "C:\\Users\\asars\\AppData\\Local\\Programs\\Python\\Python39\\lib\\site-packages\\pandas\\core\\indexing.py:1732: SettingWithCopyWarning: \n",
      "A value is trying to be set on a copy of a slice from a DataFrame\n",
      "\n",
      "See the caveats in the documentation: https://pandas.pydata.org/pandas-docs/stable/user_guide/indexing.html#returning-a-view-versus-a-copy\n",
      "  self._setitem_single_block(indexer, value, name)\n",
      "C:\\Users\\asars\\AppData\\Local\\Programs\\Python\\Python39\\lib\\site-packages\\pandas\\core\\indexing.py:723: SettingWithCopyWarning: \n",
      "A value is trying to be set on a copy of a slice from a DataFrame\n",
      "\n",
      "See the caveats in the documentation: https://pandas.pydata.org/pandas-docs/stable/user_guide/indexing.html#returning-a-view-versus-a-copy\n",
      "  iloc._setitem_with_indexer(indexer, value, self.name)\n"
     ]
    }
   ],
   "source": [
    "res = pd.DataFrame(data={\n",
    "    'Predicion':predicion.values,\n",
    "    'Actual':y_test.values}\n",
    "    ,index=y_test.index)\n",
    "res[['Predicion']][res.Predicion>10000] = max(res.Actual)+1000\n",
    "res[res.Predicion>10000]\n",
    "res.sort_index(inplace=True)"
   ]
  },
  {
   "cell_type": "code",
   "execution_count": 23,
   "metadata": {},
   "outputs": [
    {
     "data": {
      "text/html": [
       "<div>\n",
       "<style scoped>\n",
       "    .dataframe tbody tr th:only-of-type {\n",
       "        vertical-align: middle;\n",
       "    }\n",
       "\n",
       "    .dataframe tbody tr th {\n",
       "        vertical-align: top;\n",
       "    }\n",
       "\n",
       "    .dataframe thead th {\n",
       "        text-align: right;\n",
       "    }\n",
       "</style>\n",
       "<table border=\"1\" class=\"dataframe\">\n",
       "  <thead>\n",
       "    <tr style=\"text-align: right;\">\n",
       "      <th></th>\n",
       "      <th>Predicion</th>\n",
       "      <th>Actual</th>\n",
       "    </tr>\n",
       "    <tr>\n",
       "      <th>Date</th>\n",
       "      <th></th>\n",
       "      <th></th>\n",
       "    </tr>\n",
       "  </thead>\n",
       "  <tbody>\n",
       "    <tr>\n",
       "      <th>2020-03-08</th>\n",
       "      <td>inf</td>\n",
       "      <td>5</td>\n",
       "    </tr>\n",
       "    <tr>\n",
       "      <th>2020-03-08</th>\n",
       "      <td>inf</td>\n",
       "      <td>25</td>\n",
       "    </tr>\n",
       "    <tr>\n",
       "      <th>2020-03-08</th>\n",
       "      <td>inf</td>\n",
       "      <td>22</td>\n",
       "    </tr>\n",
       "    <tr>\n",
       "      <th>2020-03-08</th>\n",
       "      <td>inf</td>\n",
       "      <td>155</td>\n",
       "    </tr>\n",
       "    <tr>\n",
       "      <th>2020-03-08</th>\n",
       "      <td>inf</td>\n",
       "      <td>14</td>\n",
       "    </tr>\n",
       "    <tr>\n",
       "      <th>...</th>\n",
       "      <td>...</td>\n",
       "      <td>...</td>\n",
       "    </tr>\n",
       "    <tr>\n",
       "      <th>2021-08-11</th>\n",
       "      <td>inf</td>\n",
       "      <td>78</td>\n",
       "    </tr>\n",
       "    <tr>\n",
       "      <th>2021-08-11</th>\n",
       "      <td>inf</td>\n",
       "      <td>97</td>\n",
       "    </tr>\n",
       "    <tr>\n",
       "      <th>2021-08-11</th>\n",
       "      <td>inf</td>\n",
       "      <td>789</td>\n",
       "    </tr>\n",
       "    <tr>\n",
       "      <th>2021-08-11</th>\n",
       "      <td>inf</td>\n",
       "      <td>6</td>\n",
       "    </tr>\n",
       "    <tr>\n",
       "      <th>2021-08-11</th>\n",
       "      <td>inf</td>\n",
       "      <td>279</td>\n",
       "    </tr>\n",
       "  </tbody>\n",
       "</table>\n",
       "<p>4865 rows × 2 columns</p>\n",
       "</div>"
      ],
      "text/plain": [
       "            Predicion  Actual\n",
       "Date                         \n",
       "2020-03-08        inf       5\n",
       "2020-03-08        inf      25\n",
       "2020-03-08        inf      22\n",
       "2020-03-08        inf     155\n",
       "2020-03-08        inf      14\n",
       "...               ...     ...\n",
       "2021-08-11        inf      78\n",
       "2021-08-11        inf      97\n",
       "2021-08-11        inf     789\n",
       "2021-08-11        inf       6\n",
       "2021-08-11        inf     279\n",
       "\n",
       "[4865 rows x 2 columns]"
      ]
     },
     "execution_count": 23,
     "metadata": {},
     "output_type": "execute_result"
    }
   ],
   "source": [
    "res"
   ]
  },
  {
   "cell_type": "code",
   "execution_count": 24,
   "metadata": {},
   "outputs": [
    {
     "data": {
      "image/png": "[encoded data removed]",
      "text/plain": [
       "<Figure size 1296x576 with 1 Axes>"
      ]
     },
     "metadata": {
      "needs_background": "light"
     },
     "output_type": "display_data"
    },
    {
     "name": "stderr",
     "output_type": "stream",
     "text": [
      "No artists with labels found to put in legend.  Note that artists whose label start with an underscore are ignored when legend() is called with no argument.\n"
     ]
    },
    {
     "data": {
      "image/png": "[encoded data removed]",
      "text/plain": [
       "<Figure size 1296x576 with 1 Axes>"
      ]
     },
     "metadata": {
      "needs_background": "light"
     },
     "output_type": "display_data"
    }
   ],
   "source": [
    "function.plot_line(res.Predicion, res.Actual)\n",
    "function.plot_residuals(res.Predicion, res.Actual,ylim=(-2000,2000))"
   ]
  }
 ],
 "metadata": {
  "interpreter": {
   "hash": "0a3f26f005c805b8796d2eac51f643ea47324abf4ab930a59c0414331385d455"
  },
  "kernelspec": {
   "display_name": "Python 3.9.6 64-bit",
   "language": "python",
   "name": "python3"
  },
  "language_info": {
   "codemirror_mode": {
    "name": "ipython",
    "version": 3
   },
   "file_extension": ".py",
   "mimetype": "text/x-python",
   "name": "python",
   "nbconvert_exporter": "python",
   "pygments_lexer": "ipython3",
   "version": "3.9.9"
  },
  "orig_nbformat": 4
 },
 "nbformat": 4,
 "nbformat_minor": 2
}
