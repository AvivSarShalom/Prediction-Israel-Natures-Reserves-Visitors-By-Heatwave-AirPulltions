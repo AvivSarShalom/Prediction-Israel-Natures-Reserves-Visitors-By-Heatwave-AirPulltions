{
 "cells": [
  {
   "cell_type": "code",
   "execution_count": 10,
   "metadata": {},
   "outputs": [
    {
     "name": "stdout",
     "output_type": "stream",
     "text": [
      "The nb_black extension is already loaded. To reload it, use:\n",
      "  %reload_ext nb_black\n",
      "The blackcellmagic extension is already loaded. To reload it, use:\n",
      "  %reload_ext blackcellmagic\n"
     ]
    },
    {
     "data": {
      "application/javascript": "\n            setTimeout(function() {\n                var nbb_cell_id = 10;\n                var nbb_unformatted_code = \"import pandas as pd\\nimport dtale\\nimport numpy as np\\nfrom sklearn.preprocessing import PolynomialFeatures\\nimport plotly.graph_objects as go # for visualization\\nfrom sklearn.linear_model import LinearRegression\\nfrom sklearn.model_selection import train_test_split\\nfrom sklearn.linear_model import LinearRegression\\nfrom sklearn import metrics\\nimport os\\nimport statsmodels.api as sm\\n\\nimport matplotlib.pyplot as plt\\n%matplotlib inline\\n\\n%load_ext nb_black\\n%load_ext blackcellmagic\\n\\npd.set_option('display.max_rows', 500)\\npd.set_option('display.max_columns', 500)\\npd.set_option('display.width', 1000)\";\n                var nbb_formatted_code = \"import pandas as pd\\nimport dtale\\nimport numpy as np\\nfrom sklearn.preprocessing import PolynomialFeatures\\nimport plotly.graph_objects as go  # for visualization\\nfrom sklearn.linear_model import LinearRegression\\nfrom sklearn.model_selection import train_test_split\\nfrom sklearn.linear_model import LinearRegression\\nfrom sklearn import metrics\\nimport os\\nimport statsmodels.api as sm\\n\\nimport matplotlib.pyplot as plt\\n\\n%matplotlib inline\\n\\n%load_ext nb_black\\n%load_ext blackcellmagic\\n\\npd.set_option(\\\"display.max_rows\\\", 500)\\npd.set_option(\\\"display.max_columns\\\", 500)\\npd.set_option(\\\"display.width\\\", 1000)\";\n                var nbb_cells = Jupyter.notebook.get_cells();\n                for (var i = 0; i < nbb_cells.length; ++i) {\n                    if (nbb_cells[i].input_prompt_number == nbb_cell_id) {\n                        if (nbb_cells[i].get_text() == nbb_unformatted_code) {\n                             nbb_cells[i].set_text(nbb_formatted_code);\n                        }\n                        break;\n                    }\n                }\n            }, 500);\n            ",
      "text/plain": [
       "<IPython.core.display.Javascript object>"
      ]
     },
     "metadata": {},
     "output_type": "display_data"
    }
   ],
   "source": [
    "import pandas as pd\n",
    "import dtale\n",
    "import numpy as np\n",
    "from sklearn.preprocessing import PolynomialFeatures\n",
    "import plotly.graph_objects as go # for visualization\n",
    "from sklearn.linear_model import LinearRegression\n",
    "from sklearn.model_selection import train_test_split\n",
    "from sklearn.linear_model import LinearRegression\n",
    "from sklearn import metrics\n",
    "import os\n",
    "import statsmodels.api as sm\n",
    "\n",
    "import matplotlib.pyplot as plt\n",
    "%matplotlib inline\n",
    "\n",
    "%load_ext nb_black\n",
    "%load_ext blackcellmagic\n",
    "\n",
    "pd.set_option('display.max_rows', 500)\n",
    "pd.set_option('display.max_columns', 500)\n",
    "pd.set_option('display.width', 1000)\n"
   ]
  },
  {
   "cell_type": "code",
   "execution_count": 11,
   "metadata": {},
   "outputs": [
    {
     "data": {
      "application/javascript": "\n            setTimeout(function() {\n                var nbb_cell_id = 11;\n                var nbb_unformatted_code = \"df = pd.read_excel(\\\"../../../site_info_ver_3.2.xlsx\\\")\";\n                var nbb_formatted_code = \"df = pd.read_excel(\\\"../../../site_info_ver_3.2.xlsx\\\")\";\n                var nbb_cells = Jupyter.notebook.get_cells();\n                for (var i = 0; i < nbb_cells.length; ++i) {\n                    if (nbb_cells[i].input_prompt_number == nbb_cell_id) {\n                        if (nbb_cells[i].get_text() == nbb_unformatted_code) {\n                             nbb_cells[i].set_text(nbb_formatted_code);\n                        }\n                        break;\n                    }\n                }\n            }, 500);\n            ",
      "text/plain": [
       "<IPython.core.display.Javascript object>"
      ]
     },
     "metadata": {},
     "output_type": "display_data"
    }
   ],
   "source": [
    "df = pd.read_excel(\"../../../site_info_ver_3.2.xlsx\")\n"
   ]
  },
  {
   "cell_type": "code",
   "execution_count": 12,
   "metadata": {},
   "outputs": [
    {
     "data": {
      "application/javascript": "\n            setTimeout(function() {\n                var nbb_cell_id = 12;\n                var nbb_unformatted_code = \"df_sites = []\\nsites = df.Site_Name.unique()\\nfor site in sites:\\n    tmp = df[df.Site_Name==site]\\n    tmp.reset_index(drop=True,inplace=True)\\n    df_sites.append(tmp)\";\n                var nbb_formatted_code = \"df_sites = []\\nsites = df.Site_Name.unique()\\nfor site in sites:\\n    tmp = df[df.Site_Name == site]\\n    tmp.reset_index(drop=True, inplace=True)\\n    df_sites.append(tmp)\";\n                var nbb_cells = Jupyter.notebook.get_cells();\n                for (var i = 0; i < nbb_cells.length; ++i) {\n                    if (nbb_cells[i].input_prompt_number == nbb_cell_id) {\n                        if (nbb_cells[i].get_text() == nbb_unformatted_code) {\n                             nbb_cells[i].set_text(nbb_formatted_code);\n                        }\n                        break;\n                    }\n                }\n            }, 500);\n            ",
      "text/plain": [
       "<IPython.core.display.Javascript object>"
      ]
     },
     "metadata": {},
     "output_type": "display_data"
    }
   ],
   "source": [
    "df_sites = []\n",
    "sites = df.Site_Name.unique()\n",
    "for site in sites:\n",
    "    tmp = df[df.Site_Name==site]\n",
    "    tmp.reset_index(drop=True,inplace=True)\n",
    "    df_sites.append(tmp)"
   ]
  },
  {
   "cell_type": "markdown",
   "metadata": {},
   "source": [
    "Check Null"
   ]
  },
  {
   "cell_type": "code",
   "execution_count": 13,
   "metadata": {},
   "outputs": [
    {
     "data": {
      "application/javascript": "\n            setTimeout(function() {\n                var nbb_cell_id = 13;\n                var nbb_unformatted_code = \"# df.isna().sum()\\n# df=df.dropna()\\n# df.reset_index(inplace=True,drop=True)\\nfor d in df_sites:\\n    d.drop(['pm10','nox','so2','pm2.5',\\\"Site_Name\\\"],axis=1,inplace=True)\\n# len(df[df.isnull().any(axis=1)])/len(df)\";\n                var nbb_formatted_code = \"# df.isna().sum()\\n# df=df.dropna()\\n# df.reset_index(inplace=True,drop=True)\\nfor d in df_sites:\\n    d.drop([\\\"pm10\\\", \\\"nox\\\", \\\"so2\\\", \\\"pm2.5\\\", \\\"Site_Name\\\"], axis=1, inplace=True)\\n# len(df[df.isnull().any(axis=1)])/len(df)\";\n                var nbb_cells = Jupyter.notebook.get_cells();\n                for (var i = 0; i < nbb_cells.length; ++i) {\n                    if (nbb_cells[i].input_prompt_number == nbb_cell_id) {\n                        if (nbb_cells[i].get_text() == nbb_unformatted_code) {\n                             nbb_cells[i].set_text(nbb_formatted_code);\n                        }\n                        break;\n                    }\n                }\n            }, 500);\n            ",
      "text/plain": [
       "<IPython.core.display.Javascript object>"
      ]
     },
     "metadata": {},
     "output_type": "display_data"
    }
   ],
   "source": [
    "# df.isna().sum()\n",
    "# df=df.dropna()\n",
    "# df.reset_index(inplace=True,drop=True)\n",
    "for d in df_sites:\n",
    "    d.drop(['pm10','nox','so2','pm2.5',\"Site_Name\"],axis=1,inplace=True)\n",
    "# len(df[df.isnull().any(axis=1)])/len(df)"
   ]
  },
  {
   "cell_type": "markdown",
   "metadata": {},
   "source": [
    "Defiend X and y"
   ]
  },
  {
   "cell_type": "code",
   "execution_count": 14,
   "metadata": {},
   "outputs": [
    {
     "data": {
      "application/javascript": "\n            setTimeout(function() {\n                var nbb_cell_id = 14;\n                var nbb_unformatted_code = \"X_site = []\\ntargets_site = []\\nfor d in df_sites:\\n    X_site.append(d.drop(['Israelis_Count','Tourists_Count','Total',\\\"Date\\\",\\\"Model_number\\\"],axis=1))\\n    targets_site.append(d[['Israelis_Count','Tourists_Count','Total']])\";\n                var nbb_formatted_code = \"X_site = []\\ntargets_site = []\\nfor d in df_sites:\\n    X_site.append(\\n        d.drop(\\n            [\\\"Israelis_Count\\\", \\\"Tourists_Count\\\", \\\"Total\\\", \\\"Date\\\", \\\"Model_number\\\"],\\n            axis=1,\\n        )\\n    )\\n    targets_site.append(d[[\\\"Israelis_Count\\\", \\\"Tourists_Count\\\", \\\"Total\\\"]])\";\n                var nbb_cells = Jupyter.notebook.get_cells();\n                for (var i = 0; i < nbb_cells.length; ++i) {\n                    if (nbb_cells[i].input_prompt_number == nbb_cell_id) {\n                        if (nbb_cells[i].get_text() == nbb_unformatted_code) {\n                             nbb_cells[i].set_text(nbb_formatted_code);\n                        }\n                        break;\n                    }\n                }\n            }, 500);\n            ",
      "text/plain": [
       "<IPython.core.display.Javascript object>"
      ]
     },
     "metadata": {},
     "output_type": "display_data"
    }
   ],
   "source": [
    "X_site = []\n",
    "targets_site = []\n",
    "for d in df_sites:\n",
    "    X_site.append(d.drop(['Israelis_Count','Tourists_Count','Total',\"Date\",\"Model_number\"],axis=1))\n",
    "    targets_site.append(d[['Israelis_Count','Tourists_Count','Total']])"
   ]
  },
  {
   "cell_type": "markdown",
   "metadata": {},
   "source": [
    "Scaleing"
   ]
  },
  {
   "cell_type": "code",
   "execution_count": 15,
   "metadata": {},
   "outputs": [
    {
     "data": {
      "application/javascript": "\n            setTimeout(function() {\n                var nbb_cell_id = 15;\n                var nbb_unformatted_code = \"from sklearn.preprocessing import MinMaxScaler\\nscaled_X_sites=[]\\nscaled_targets_sites=[]\\nfor i in range(len(X_site)):\\n    #scale X\\n    scaler = MinMaxScaler()\\n    scaled_X_sites.append( pd.DataFrame(scaler.fit_transform(X_site[i]), columns=X_site[i].columns))\\n\\n    #scale y\\n    scaled_targets_sites.append( np.log(targets_site[i]+0.01))\";\n                var nbb_formatted_code = \"from sklearn.preprocessing import MinMaxScaler\\n\\nscaled_X_sites = []\\nscaled_targets_sites = []\\nfor i in range(len(X_site)):\\n    # scale X\\n    scaler = MinMaxScaler()\\n    scaled_X_sites.append(\\n        pd.DataFrame(scaler.fit_transform(X_site[i]), columns=X_site[i].columns)\\n    )\\n\\n    # scale y\\n    scaled_targets_sites.append(np.log(targets_site[i] + 0.01))\";\n                var nbb_cells = Jupyter.notebook.get_cells();\n                for (var i = 0; i < nbb_cells.length; ++i) {\n                    if (nbb_cells[i].input_prompt_number == nbb_cell_id) {\n                        if (nbb_cells[i].get_text() == nbb_unformatted_code) {\n                             nbb_cells[i].set_text(nbb_formatted_code);\n                        }\n                        break;\n                    }\n                }\n            }, 500);\n            ",
      "text/plain": [
       "<IPython.core.display.Javascript object>"
      ]
     },
     "metadata": {},
     "output_type": "display_data"
    }
   ],
   "source": [
    "from sklearn.preprocessing import MinMaxScaler\n",
    "scaled_X_sites=[]\n",
    "scaled_targets_sites=[]\n",
    "for i in range(len(X_site)):\n",
    "    #scale X\n",
    "    scaler = MinMaxScaler()\n",
    "    scaled_X_sites.append( pd.DataFrame(scaler.fit_transform(X_site[i]), columns=X_site[i].columns))\n",
    "\n",
    "    #scale y\n",
    "    scaled_targets_sites.append( np.log(targets_site[i]+0.01))"
   ]
  },
  {
   "cell_type": "markdown",
   "metadata": {},
   "source": [
    "Outliers"
   ]
  },
  {
   "cell_type": "code",
   "execution_count": 16,
   "metadata": {},
   "outputs": [
    {
     "data": {
      "application/javascript": "\n            setTimeout(function() {\n                var nbb_cell_id = 16;\n                var nbb_unformatted_code = \"# c = ['hsl('+str(h)+',50%'+',50%)' for h in np.linspace(0, 360, len(scaled_targets_sites[0].columns))]\\n# fig = go.Figure()\\n# fig.add_traces(data=[go.Box( \\n#     y=scaled_targets_sites[0].iloc[:, i], \\n#     marker_color=c[i],\\n#     name=scaled_targets_sites[0].columns[i])\\n#     for i in range(len(scaled_targets_sites[0].columns))\\n#     ])\";\n                var nbb_formatted_code = \"# c = ['hsl('+str(h)+',50%'+',50%)' for h in np.linspace(0, 360, len(scaled_targets_sites[0].columns))]\\n# fig = go.Figure()\\n# fig.add_traces(data=[go.Box(\\n#     y=scaled_targets_sites[0].iloc[:, i],\\n#     marker_color=c[i],\\n#     name=scaled_targets_sites[0].columns[i])\\n#     for i in range(len(scaled_targets_sites[0].columns))\\n#     ])\";\n                var nbb_cells = Jupyter.notebook.get_cells();\n                for (var i = 0; i < nbb_cells.length; ++i) {\n                    if (nbb_cells[i].input_prompt_number == nbb_cell_id) {\n                        if (nbb_cells[i].get_text() == nbb_unformatted_code) {\n                             nbb_cells[i].set_text(nbb_formatted_code);\n                        }\n                        break;\n                    }\n                }\n            }, 500);\n            ",
      "text/plain": [
       "<IPython.core.display.Javascript object>"
      ]
     },
     "metadata": {},
     "output_type": "display_data"
    }
   ],
   "source": [
    "# c = ['hsl('+str(h)+',50%'+',50%)' for h in np.linspace(0, 360, len(scaled_targets_sites[0].columns))]\n",
    "# fig = go.Figure()\n",
    "# fig.add_traces(data=[go.Box( \n",
    "#     y=scaled_targets_sites[0].iloc[:, i], \n",
    "#     marker_color=c[i],\n",
    "#     name=scaled_targets_sites[0].columns[i])\n",
    "#     for i in range(len(scaled_targets_sites[0].columns))\n",
    "#     ])\n",
    "\n"
   ]
  },
  {
   "cell_type": "code",
   "execution_count": 17,
   "metadata": {},
   "outputs": [
    {
     "data": {
      "image/png": "[encoded data removed]",
      "text/plain": [
       "<Figure size 432x288 with 1 Axes>"
      ]
     },
     "metadata": {
      "needs_background": "light"
     },
     "output_type": "display_data"
    },
    {
     "data": {
      "application/javascript": "\n            setTimeout(function() {\n                var nbb_cell_id = 17;\n                var nbb_unformatted_code = \"outliers_I_sites=[]\\noutliers_To_sites=[]\\noutliers_Tu_sites=[]\\n\\nfor j in range(len(scaled_targets_sites)):\\n    plt.cla()\\n    data=[scaled_targets_sites[j].Israelis_Count,scaled_targets_sites[j].Total,scaled_targets_sites[j].Tourists_Count]\\n    bp = plt.boxplot(data)\\n    minimums = [round(item.get_ydata()[0], 4) for item in bp['caps']][::2]\\n    maximums = [round(item.get_ydata()[0], 4) for item in bp['caps']][1::2]\\n    outliers_I_sites.append ( scaled_targets_sites[j][(scaled_targets_sites[j].Israelis_Count>maximums[0])  | (scaled_targets_sites[j].Israelis_Count<minimums[0])].index)\\n    outliers_To_sites.append (scaled_targets_sites[j][(scaled_targets_sites[j].Total>maximums[1]) | (scaled_targets_sites[j].Total<minimums[1])].index)\\n    outliers_Tu_sites.append (scaled_targets_sites[j][(scaled_targets_sites[j].Tourists_Count>maximums[2]) | (scaled_targets_sites[j].Tourists_Count<minimums[2])].index)\";\n                var nbb_formatted_code = \"outliers_I_sites = []\\noutliers_To_sites = []\\noutliers_Tu_sites = []\\n\\nfor j in range(len(scaled_targets_sites)):\\n    plt.cla()\\n    data = [\\n        scaled_targets_sites[j].Israelis_Count,\\n        scaled_targets_sites[j].Total,\\n        scaled_targets_sites[j].Tourists_Count,\\n    ]\\n    bp = plt.boxplot(data)\\n    minimums = [round(item.get_ydata()[0], 4) for item in bp[\\\"caps\\\"]][::2]\\n    maximums = [round(item.get_ydata()[0], 4) for item in bp[\\\"caps\\\"]][1::2]\\n    outliers_I_sites.append(\\n        scaled_targets_sites[j][\\n            (scaled_targets_sites[j].Israelis_Count > maximums[0])\\n            | (scaled_targets_sites[j].Israelis_Count < minimums[0])\\n        ].index\\n    )\\n    outliers_To_sites.append(\\n        scaled_targets_sites[j][\\n            (scaled_targets_sites[j].Total > maximums[1])\\n            | (scaled_targets_sites[j].Total < minimums[1])\\n        ].index\\n    )\\n    outliers_Tu_sites.append(\\n        scaled_targets_sites[j][\\n            (scaled_targets_sites[j].Tourists_Count > maximums[2])\\n            | (scaled_targets_sites[j].Tourists_Count < minimums[2])\\n        ].index\\n    )\";\n                var nbb_cells = Jupyter.notebook.get_cells();\n                for (var i = 0; i < nbb_cells.length; ++i) {\n                    if (nbb_cells[i].input_prompt_number == nbb_cell_id) {\n                        if (nbb_cells[i].get_text() == nbb_unformatted_code) {\n                             nbb_cells[i].set_text(nbb_formatted_code);\n                        }\n                        break;\n                    }\n                }\n            }, 500);\n            ",
      "text/plain": [
       "<IPython.core.display.Javascript object>"
      ]
     },
     "metadata": {},
     "output_type": "display_data"
    }
   ],
   "source": [
    "outliers_I_sites=[]\n",
    "outliers_To_sites=[]\n",
    "outliers_Tu_sites=[]\n",
    "\n",
    "for j in range(len(scaled_targets_sites)):\n",
    "    plt.cla()\n",
    "    data=[scaled_targets_sites[j].Israelis_Count,scaled_targets_sites[j].Total,scaled_targets_sites[j].Tourists_Count]\n",
    "    bp = plt.boxplot(data)\n",
    "    minimums = [round(item.get_ydata()[0], 4) for item in bp['caps']][::2]\n",
    "    maximums = [round(item.get_ydata()[0], 4) for item in bp['caps']][1::2]\n",
    "    outliers_I_sites.append ( scaled_targets_sites[j][(scaled_targets_sites[j].Israelis_Count>maximums[0])  | (scaled_targets_sites[j].Israelis_Count<minimums[0])].index)\n",
    "    outliers_To_sites.append (scaled_targets_sites[j][(scaled_targets_sites[j].Total>maximums[1]) | (scaled_targets_sites[j].Total<minimums[1])].index)\n",
    "    outliers_Tu_sites.append (scaled_targets_sites[j][(scaled_targets_sites[j].Tourists_Count>maximums[2]) | (scaled_targets_sites[j].Tourists_Count<minimums[2])].index)"
   ]
  },
  {
   "cell_type": "markdown",
   "metadata": {},
   "source": [
    "Model MLR with Pollutions droped Null rows"
   ]
  },
  {
   "cell_type": "code",
   "execution_count": 18,
   "metadata": {},
   "outputs": [
    {
     "name": "stdout",
     "output_type": "stream",
     "text": [
      "Alexander Stream-Bet Yannai\n",
      "1013 1013 46\n",
      "1013 1013 46\n",
      "1059 1059 46\n",
      "Apollonia\n",
      "1902 1902 14\n",
      "1895 1895 14\n",
      "1909 1909 14\n",
      "Arbel\n",
      "1876 1876 48\n",
      "1866 1866 48\n",
      "1914 1914 48\n",
      "Avdat\n",
      "1885 1885 20\n",
      "1878 1878 20\n",
      "1898 1898 20\n",
      "Ayun Stream\n",
      "1896 1896 22\n",
      "1897 1897 22\n",
      "1919 1919 22\n",
      "Bet Alpha\n",
      "1691 1691 31\n",
      "1695 1695 31\n",
      "1726 1726 31\n",
      "Bet Guvrin\n",
      "1892 1892 27\n",
      "1880 1880 27\n",
      "1907 1907 27\n",
      "Bet Shean\n",
      "1865 1865 69\n",
      "1846 1846 69\n",
      "1915 1915 69\n",
      "Bet Shearim\n",
      "1771 1771 35\n",
      "1770 1770 35\n",
      "1805 1805 35\n",
      "Caesarea\n",
      "1865 1865 98\n"
     ]
    },
    {
     "ename": "ValueError",
     "evalue": "Input contains NaN, infinity or a value too large for dtype('float64').",
     "output_type": "error",
     "traceback": [
      "\u001b[1;31m---------------------------------------------------------------------------\u001b[0m",
      "\u001b[1;31mValueError\u001b[0m                                Traceback (most recent call last)",
      "\u001b[1;32m~\\AppData\\Local\\Temp/ipykernel_14092/1313557705.py\u001b[0m in \u001b[0;36m<module>\u001b[1;34m\u001b[0m\n\u001b[0;32m    136\u001b[0m       \u001b[1;31m#  ACC_Test = round(correct_rows/len(test_df),3)\u001b[0m\u001b[1;33m\u001b[0m\u001b[1;33m\u001b[0m\u001b[0m\n\u001b[0;32m    137\u001b[0m \u001b[1;33m\u001b[0m\u001b[0m\n\u001b[1;32m--> 138\u001b[1;33m       \u001b[0mMSE_Test\u001b[0m \u001b[1;33m=\u001b[0m \u001b[0mmetrics\u001b[0m\u001b[1;33m.\u001b[0m\u001b[0mmean_squared_error\u001b[0m\u001b[1;33m(\u001b[0m\u001b[0mtest_df\u001b[0m\u001b[1;33m[\u001b[0m\u001b[0mtargets_list_name\u001b[0m\u001b[1;33m[\u001b[0m\u001b[0midx\u001b[0m\u001b[1;33m]\u001b[0m\u001b[1;33m]\u001b[0m\u001b[1;33m,\u001b[0m \u001b[0mtest_df\u001b[0m\u001b[1;33m[\u001b[0m\u001b[1;34m'Predicted_test_'\u001b[0m\u001b[1;33m+\u001b[0m\u001b[0mtargets_list_name\u001b[0m\u001b[1;33m[\u001b[0m\u001b[0midx\u001b[0m\u001b[1;33m]\u001b[0m\u001b[1;33m]\u001b[0m\u001b[1;33m)\u001b[0m\u001b[1;33m\u001b[0m\u001b[1;33m\u001b[0m\u001b[0m\n\u001b[0m\u001b[0;32m    139\u001b[0m       \u001b[0mRMSE_Test\u001b[0m \u001b[1;33m=\u001b[0m \u001b[0mnp\u001b[0m\u001b[1;33m.\u001b[0m\u001b[0msqrt\u001b[0m\u001b[1;33m(\u001b[0m\u001b[0mmetrics\u001b[0m\u001b[1;33m.\u001b[0m\u001b[0mmean_squared_error\u001b[0m\u001b[1;33m(\u001b[0m\u001b[0mtest_df\u001b[0m\u001b[1;33m[\u001b[0m\u001b[0mtargets_list_name\u001b[0m\u001b[1;33m[\u001b[0m\u001b[0midx\u001b[0m\u001b[1;33m]\u001b[0m\u001b[1;33m]\u001b[0m\u001b[1;33m,\u001b[0m \u001b[0mtest_df\u001b[0m\u001b[1;33m[\u001b[0m\u001b[1;34m'Predicted_test_'\u001b[0m\u001b[1;33m+\u001b[0m\u001b[0mtargets_list_name\u001b[0m\u001b[1;33m[\u001b[0m\u001b[0midx\u001b[0m\u001b[1;33m]\u001b[0m\u001b[1;33m]\u001b[0m\u001b[1;33m)\u001b[0m\u001b[1;33m)\u001b[0m\u001b[1;33m\u001b[0m\u001b[1;33m\u001b[0m\u001b[0m\n\u001b[0;32m    140\u001b[0m       \u001b[0mMAE_Test\u001b[0m \u001b[1;33m=\u001b[0m \u001b[0mmetrics\u001b[0m\u001b[1;33m.\u001b[0m\u001b[0mmean_absolute_error\u001b[0m\u001b[1;33m(\u001b[0m\u001b[0mtest_df\u001b[0m\u001b[1;33m[\u001b[0m\u001b[0mtargets_list_name\u001b[0m\u001b[1;33m[\u001b[0m\u001b[0midx\u001b[0m\u001b[1;33m]\u001b[0m\u001b[1;33m]\u001b[0m\u001b[1;33m,\u001b[0m \u001b[0mtest_df\u001b[0m\u001b[1;33m[\u001b[0m\u001b[1;34m'Predicted_test_'\u001b[0m\u001b[1;33m+\u001b[0m\u001b[0mtargets_list_name\u001b[0m\u001b[1;33m[\u001b[0m\u001b[0midx\u001b[0m\u001b[1;33m]\u001b[0m\u001b[1;33m]\u001b[0m\u001b[1;33m)\u001b[0m\u001b[1;33m\u001b[0m\u001b[1;33m\u001b[0m\u001b[0m\n",
      "\u001b[1;32m~\\AppData\\Local\\Programs\\Python\\Python39\\lib\\site-packages\\sklearn\\utils\\validation.py\u001b[0m in \u001b[0;36minner_f\u001b[1;34m(*args, **kwargs)\u001b[0m\n\u001b[0;32m     61\u001b[0m             \u001b[0mextra_args\u001b[0m \u001b[1;33m=\u001b[0m \u001b[0mlen\u001b[0m\u001b[1;33m(\u001b[0m\u001b[0margs\u001b[0m\u001b[1;33m)\u001b[0m \u001b[1;33m-\u001b[0m \u001b[0mlen\u001b[0m\u001b[1;33m(\u001b[0m\u001b[0mall_args\u001b[0m\u001b[1;33m)\u001b[0m\u001b[1;33m\u001b[0m\u001b[1;33m\u001b[0m\u001b[0m\n\u001b[0;32m     62\u001b[0m             \u001b[1;32mif\u001b[0m \u001b[0mextra_args\u001b[0m \u001b[1;33m<=\u001b[0m \u001b[1;36m0\u001b[0m\u001b[1;33m:\u001b[0m\u001b[1;33m\u001b[0m\u001b[1;33m\u001b[0m\u001b[0m\n\u001b[1;32m---> 63\u001b[1;33m                 \u001b[1;32mreturn\u001b[0m \u001b[0mf\u001b[0m\u001b[1;33m(\u001b[0m\u001b[1;33m*\u001b[0m\u001b[0margs\u001b[0m\u001b[1;33m,\u001b[0m \u001b[1;33m**\u001b[0m\u001b[0mkwargs\u001b[0m\u001b[1;33m)\u001b[0m\u001b[1;33m\u001b[0m\u001b[1;33m\u001b[0m\u001b[0m\n\u001b[0m\u001b[0;32m     64\u001b[0m \u001b[1;33m\u001b[0m\u001b[0m\n\u001b[0;32m     65\u001b[0m             \u001b[1;31m# extra_args > 0\u001b[0m\u001b[1;33m\u001b[0m\u001b[1;33m\u001b[0m\u001b[0m\n",
      "\u001b[1;32m~\\AppData\\Local\\Programs\\Python\\Python39\\lib\\site-packages\\sklearn\\metrics\\_regression.py\u001b[0m in \u001b[0;36mmean_squared_error\u001b[1;34m(y_true, y_pred, sample_weight, multioutput, squared)\u001b[0m\n\u001b[0;32m    333\u001b[0m     \u001b[1;36m0.825\u001b[0m\u001b[1;33m...\u001b[0m\u001b[1;33m\u001b[0m\u001b[1;33m\u001b[0m\u001b[0m\n\u001b[0;32m    334\u001b[0m     \"\"\"\n\u001b[1;32m--> 335\u001b[1;33m     y_type, y_true, y_pred, multioutput = _check_reg_targets(\n\u001b[0m\u001b[0;32m    336\u001b[0m         y_true, y_pred, multioutput)\n\u001b[0;32m    337\u001b[0m     \u001b[0mcheck_consistent_length\u001b[0m\u001b[1;33m(\u001b[0m\u001b[0my_true\u001b[0m\u001b[1;33m,\u001b[0m \u001b[0my_pred\u001b[0m\u001b[1;33m,\u001b[0m \u001b[0msample_weight\u001b[0m\u001b[1;33m)\u001b[0m\u001b[1;33m\u001b[0m\u001b[1;33m\u001b[0m\u001b[0m\n",
      "\u001b[1;32m~\\AppData\\Local\\Programs\\Python\\Python39\\lib\\site-packages\\sklearn\\metrics\\_regression.py\u001b[0m in \u001b[0;36m_check_reg_targets\u001b[1;34m(y_true, y_pred, multioutput, dtype)\u001b[0m\n\u001b[0;32m     88\u001b[0m     \u001b[0mcheck_consistent_length\u001b[0m\u001b[1;33m(\u001b[0m\u001b[0my_true\u001b[0m\u001b[1;33m,\u001b[0m \u001b[0my_pred\u001b[0m\u001b[1;33m)\u001b[0m\u001b[1;33m\u001b[0m\u001b[1;33m\u001b[0m\u001b[0m\n\u001b[0;32m     89\u001b[0m     \u001b[0my_true\u001b[0m \u001b[1;33m=\u001b[0m \u001b[0mcheck_array\u001b[0m\u001b[1;33m(\u001b[0m\u001b[0my_true\u001b[0m\u001b[1;33m,\u001b[0m \u001b[0mensure_2d\u001b[0m\u001b[1;33m=\u001b[0m\u001b[1;32mFalse\u001b[0m\u001b[1;33m,\u001b[0m \u001b[0mdtype\u001b[0m\u001b[1;33m=\u001b[0m\u001b[0mdtype\u001b[0m\u001b[1;33m)\u001b[0m\u001b[1;33m\u001b[0m\u001b[1;33m\u001b[0m\u001b[0m\n\u001b[1;32m---> 90\u001b[1;33m     \u001b[0my_pred\u001b[0m \u001b[1;33m=\u001b[0m \u001b[0mcheck_array\u001b[0m\u001b[1;33m(\u001b[0m\u001b[0my_pred\u001b[0m\u001b[1;33m,\u001b[0m \u001b[0mensure_2d\u001b[0m\u001b[1;33m=\u001b[0m\u001b[1;32mFalse\u001b[0m\u001b[1;33m,\u001b[0m \u001b[0mdtype\u001b[0m\u001b[1;33m=\u001b[0m\u001b[0mdtype\u001b[0m\u001b[1;33m)\u001b[0m\u001b[1;33m\u001b[0m\u001b[1;33m\u001b[0m\u001b[0m\n\u001b[0m\u001b[0;32m     91\u001b[0m \u001b[1;33m\u001b[0m\u001b[0m\n\u001b[0;32m     92\u001b[0m     \u001b[1;32mif\u001b[0m \u001b[0my_true\u001b[0m\u001b[1;33m.\u001b[0m\u001b[0mndim\u001b[0m \u001b[1;33m==\u001b[0m \u001b[1;36m1\u001b[0m\u001b[1;33m:\u001b[0m\u001b[1;33m\u001b[0m\u001b[1;33m\u001b[0m\u001b[0m\n",
      "\u001b[1;32m~\\AppData\\Local\\Programs\\Python\\Python39\\lib\\site-packages\\sklearn\\utils\\validation.py\u001b[0m in \u001b[0;36minner_f\u001b[1;34m(*args, **kwargs)\u001b[0m\n\u001b[0;32m     61\u001b[0m             \u001b[0mextra_args\u001b[0m \u001b[1;33m=\u001b[0m \u001b[0mlen\u001b[0m\u001b[1;33m(\u001b[0m\u001b[0margs\u001b[0m\u001b[1;33m)\u001b[0m \u001b[1;33m-\u001b[0m \u001b[0mlen\u001b[0m\u001b[1;33m(\u001b[0m\u001b[0mall_args\u001b[0m\u001b[1;33m)\u001b[0m\u001b[1;33m\u001b[0m\u001b[1;33m\u001b[0m\u001b[0m\n\u001b[0;32m     62\u001b[0m             \u001b[1;32mif\u001b[0m \u001b[0mextra_args\u001b[0m \u001b[1;33m<=\u001b[0m \u001b[1;36m0\u001b[0m\u001b[1;33m:\u001b[0m\u001b[1;33m\u001b[0m\u001b[1;33m\u001b[0m\u001b[0m\n\u001b[1;32m---> 63\u001b[1;33m                 \u001b[1;32mreturn\u001b[0m \u001b[0mf\u001b[0m\u001b[1;33m(\u001b[0m\u001b[1;33m*\u001b[0m\u001b[0margs\u001b[0m\u001b[1;33m,\u001b[0m \u001b[1;33m**\u001b[0m\u001b[0mkwargs\u001b[0m\u001b[1;33m)\u001b[0m\u001b[1;33m\u001b[0m\u001b[1;33m\u001b[0m\u001b[0m\n\u001b[0m\u001b[0;32m     64\u001b[0m \u001b[1;33m\u001b[0m\u001b[0m\n\u001b[0;32m     65\u001b[0m             \u001b[1;31m# extra_args > 0\u001b[0m\u001b[1;33m\u001b[0m\u001b[1;33m\u001b[0m\u001b[0m\n",
      "\u001b[1;32m~\\AppData\\Local\\Programs\\Python\\Python39\\lib\\site-packages\\sklearn\\utils\\validation.py\u001b[0m in \u001b[0;36mcheck_array\u001b[1;34m(array, accept_sparse, accept_large_sparse, dtype, order, copy, force_all_finite, ensure_2d, allow_nd, ensure_min_samples, ensure_min_features, estimator)\u001b[0m\n\u001b[0;32m    718\u001b[0m \u001b[1;33m\u001b[0m\u001b[0m\n\u001b[0;32m    719\u001b[0m         \u001b[1;32mif\u001b[0m \u001b[0mforce_all_finite\u001b[0m\u001b[1;33m:\u001b[0m\u001b[1;33m\u001b[0m\u001b[1;33m\u001b[0m\u001b[0m\n\u001b[1;32m--> 720\u001b[1;33m             _assert_all_finite(array,\n\u001b[0m\u001b[0;32m    721\u001b[0m                                allow_nan=force_all_finite == 'allow-nan')\n\u001b[0;32m    722\u001b[0m \u001b[1;33m\u001b[0m\u001b[0m\n",
      "\u001b[1;32m~\\AppData\\Local\\Programs\\Python\\Python39\\lib\\site-packages\\sklearn\\utils\\validation.py\u001b[0m in \u001b[0;36m_assert_all_finite\u001b[1;34m(X, allow_nan, msg_dtype)\u001b[0m\n\u001b[0;32m    101\u001b[0m                 not allow_nan and not np.isfinite(X).all()):\n\u001b[0;32m    102\u001b[0m             \u001b[0mtype_err\u001b[0m \u001b[1;33m=\u001b[0m \u001b[1;34m'infinity'\u001b[0m \u001b[1;32mif\u001b[0m \u001b[0mallow_nan\u001b[0m \u001b[1;32melse\u001b[0m \u001b[1;34m'NaN, infinity'\u001b[0m\u001b[1;33m\u001b[0m\u001b[1;33m\u001b[0m\u001b[0m\n\u001b[1;32m--> 103\u001b[1;33m             raise ValueError(\n\u001b[0m\u001b[0;32m    104\u001b[0m                     \u001b[0mmsg_err\u001b[0m\u001b[1;33m.\u001b[0m\u001b[0mformat\u001b[0m\u001b[1;33m\u001b[0m\u001b[1;33m\u001b[0m\u001b[0m\n\u001b[0;32m    105\u001b[0m                     (type_err,\n",
      "\u001b[1;31mValueError\u001b[0m: Input contains NaN, infinity or a value too large for dtype('float64')."
     ]
    },
    {
     "data": {
      "application/javascript": "\n            setTimeout(function() {\n                var nbb_cell_id = 18;\n                var nbb_unformatted_code = \"Model_type= \\\"MLR\\\"\\nres=pd.read_excel(\\\"../../../res.xlsx\\\")\\n\\n\\nfor j in range(len(scaled_X_sites)):\\n  Descripton = \\\"Without Pollutions Without outliers for each site \\\" + sites[j]\\n  print(sites[j])\\n  targets = [scaled_targets_sites[j].Israelis_Count,scaled_targets_sites[j].Total,scaled_targets_sites[j].Tourists_Count] # get target info of this site\\n  targets_list_name = ['Israelis_Count','Total','Tourists_Count']\\n  idx=0\\n  for y in targets:\\n\\n      #split the data, train the model and get prediction for the training and for the test  \\n      #######################################################################################################################\\n      X=scaled_X_sites[j] # get X info of this site\\n      # for outliers \\n      if idx==0:\\n        X=X.drop(outliers_I_sites[j])\\n        y.drop(outliers_I_sites[j],inplace=True)\\n      elif idx==1:\\n        X=X.drop(outliers_To_sites[j])\\n        y.drop(outliers_To_sites[j],inplace=True)\\n      # else :\\n      #   X=X.drop(outliers_Tu_sites[j])\\n      #   y.drop(outliers_Tu_sites[j],inplace=True)\\n      print(len(X),len(y),len(outliers_To_sites[j]))\\n      X_train, X_test, y_train, y_test = train_test_split(X, y, test_size=0.3, random_state=312148513)\\n      train_df_scaled = pd.merge(left=X_train, right=y_train, left_index=True, right_index=True)\\n      test_df_scaled = pd.merge(left=X_test, right=y_test, left_index=True, right_index=True)\\n\\n      lm = LinearRegression()  # define our model using least square method\\n      lm.fit(X_train,y_train)   # Fit our linear model\\n\\n      #train\\n      fitted = np.exp(lm.predict(X_train))\\n      predicted_train = round(pd.Series(fitted, index=y_train.index, name='Predicted_train_'+targets_list_name[idx]),ndigits=2)\\n      orignal_train=np.exp(train_df_scaled[[targets_list_name[idx]]])\\n      train_df = pd.merge(left=orignal_train, right=predicted_train, left_index=True, right_index=True)\\n      train_df\\n\\n      #test\\n      fitted = np.exp(lm.predict(X_test))\\n      predicted_test = round(pd.Series(fitted, index=y_test.index, name='Predicted_test_'+targets_list_name[idx]),ndigits=2)\\n      orignal_test = np.exp(test_df_scaled[[targets_list_name[idx]]])\\n      test_df = pd.merge(left=orignal_test, right=predicted_test, left_index=True, right_index=True)\\n      test_df\\n       #######################################################################################################################\\n\\n\\n\\n\\n\\n       #plot the residuals graph\\n       #######################################################################################################################\\n\\n       #calculate the residuals\\n      test_df['residuals'] = test_df['Predicted_test_'+targets_list_name[idx]] - test_df[targets_list_name[idx]]\\n      train_df['residuals'] = train_df['Predicted_train_'+targets_list_name[idx]] - train_df[targets_list_name[idx]]\\n\\n      fig= go.Figure()\\n      fig.add_trace(\\n        go.Scatter(\\n            x=train_df['Predicted_train_'+targets_list_name[idx]],\\n            y=train_df.residuals,\\n            mode='markers',\\n            name='train residuals',\\n            marker_color='blue',\\n            marker_size=1.5,\\n            marker_line_width=0,\\n         )\\n       )\\n      fig.add_trace(\\n        go.Scatter(\\n            x=test_df['Predicted_test_'+targets_list_name[idx]],\\n            y=test_df.residuals,\\n            mode='markers',\\n            name='test residuals',\\n            marker_color='red',\\n            marker_size=1.5,\\n            marker_line_width=0,\\n         )\\n       )\\n      fig.add_trace(\\n         go.Scatter(\\n            x=test_df['Predicted_test_'+targets_list_name[idx]],\\n            y=test_df.residuals*0,\\n            mode='lines',\\n            name='zero line',\\n            marker_color='black',\\n            marker_size=1.5,\\n            marker_line_width=0,\\n         )\\n       )\\n      fig.update_layout(\\n          title=\\\"Residuals of Predicted \\\"+targets_list_name[idx],\\n          xaxis_title=\\\"Predicted \\\"+targets_list_name[idx],\\n          yaxis_title=\\\"Residuals\\\",\\n          font=dict(\\n              size=14,\\n              color=\\\"RebeccaPurple\\\"\\n          )\\n      )\\n      # fig.show()\\n       #######################################################################################################################\\n\\n       #create folder\\n       ########################################\\n      if not os.path.exists(sites[j]):\\n        os.mkdir(sites[j])\\n\\n      if not os.path.exists(sites[j]+'/'+Descripton):\\n        os.mkdir(sites[j]+'/'+Descripton)\\n      fig.write_image(sites[j]+'/'+Descripton+\\\"/results_\\\"+targets_list_name[idx]+'_.png', width=1500, height=600)\\n      #########################################\\n\\n      #create txt file with the metrix result \\n      ################################################################################################################################################     \\n      f = open(sites[j]+'/'+Descripton+\\\"/results_\\\"+targets_list_name[idx]+'_.txt', 'w')\\n\\n      #  correct_rows = train_df.loc[abs(train_df['Predicted_train_'+targets_list_name[idx]]-train_df[targets_list_name[idx]])<=50].any(axis=1).count()\\n      #  ACC_Training = round(correct_rows/len(train_df),3)\\n\\n      MSE_Training = metrics.mean_squared_error(train_df[targets_list_name[idx]], train_df['Predicted_train_'+targets_list_name[idx]])\\n      RMSE_Training = np.sqrt(metrics.mean_squared_error(train_df[targets_list_name[idx]], train_df['Predicted_train_'+targets_list_name[idx]]))\\n      MAE_Training = metrics.mean_absolute_error(train_df[targets_list_name[idx]], train_df['Predicted_train_'+targets_list_name[idx]])\\n      R2_Training=metrics.r2_score(train_df[targets_list_name[idx]], train_df['Predicted_train_'+targets_list_name[idx]])\\n      std_Training = np.std(predicted_train)\\n\\n      f.write(\\\"------ TRAIN DATA ------\\\\n\\\")\\n      #f.write(\\\"Model \\\"+' mod0' +\\\" Accuracy: \\\"+str(ACC_Training)+\\\"\\\\n\\\")\\n      f.write(\\\"MSE : \\\"+str(MSE_Training)+\\\", RMSE: \\\"+str(RMSE_Training)+\\\", MAE : \\\"+str(MAE_Training)+\\\"\\\\n\\\")\\n      f.write(\\\"R2 TRAIN \\\"+ str(R2_Training)+\\\"\\\\n\\\")\\n\\n\\n      #  correct_rows = test_df.loc[abs(test_df['Predicted_test_'+targets_list_name[idx]]-test_df[targets_list_name[idx]])<=50].any(axis=1).count()\\n      #  ACC_Test = round(correct_rows/len(test_df),3)\\n\\n      MSE_Test = metrics.mean_squared_error(test_df[targets_list_name[idx]], test_df['Predicted_test_'+targets_list_name[idx]])\\n      RMSE_Test = np.sqrt(metrics.mean_squared_error(test_df[targets_list_name[idx]], test_df['Predicted_test_'+targets_list_name[idx]]))\\n      MAE_Test = metrics.mean_absolute_error(test_df[targets_list_name[idx]], test_df['Predicted_test_'+targets_list_name[idx]])\\n      R2_Test = metrics.r2_score(test_df[targets_list_name[idx]], test_df['Predicted_test_'+targets_list_name[idx]])\\n      std_test = np.std(predicted_test)\\n\\n      f.write(\\\"\\\\n\\\")\\n      f.write(\\\"------ TEST DATA ------\\\\n\\\")\\n      #f.write(\\\"Model \\\"+' mod0' +\\\" Accuracy: \\\"+str(ACC_Test)+\\\"\\\\n\\\")\\n      f.write(\\\"MSE : \\\"+str(MSE_Test)+\\\", RMSE: \\\"+str(RMSE_Test)+\\\", MAE : \\\"+str(MAE_Test)+\\\"\\\\n\\\")\\n      f.write(\\\"R2 TEST \\\"+ str(R2_Test)+\\\"\\\\n\\\")\\n      f.write(\\\"--------------------------------\\\\n\\\")\\n\\n      f.close()\\n      ################################################################################################################################################     \\n\\n      #Add to excel result the new line\\n      ################################################################################################################################################\\n      Target=targets_list_name[idx]\\n      Site_in_this_model=sites[j]\\n      new_row = {\\n        'Descripton':Descripton,\\n        \\\"Target\\\":Target,\\n        'Model_type':Model_type,\\n        # 'Model_number':Model_number,\\n        'Site_in_this_model':Site_in_this_model,\\n        \\\"Size Train\\\":len(train_df),\\n        # 'ACC_Training':ACC_Training,\\n        'MAE_Training':MAE_Training,\\n        'MSE_Training':MSE_Training,\\n        'RMSE_Training':RMSE_Training,\\n        'STD_Training':std_Training,\\n        'R2_Training':R2_Training,\\n        \\\"Size Test\\\":len(test_df),\\n        # 'ACC_Test':ACC_Test,\\n        'MAE_Test':MAE_Test,\\n        'MSE_Test':MSE_Test,\\n        'RMSE_Test':RMSE_Test,\\n        'STD_Test':std_test,\\n        'R2_Test':R2_Test \\n        }\\n\\n      res = res.append(new_row,ignore_index=True)\\n      ################################################################################################################################################     \\n\\n      # Index for the next target y\\n      idx+=1\\n\\n\\nres.to_excel(\\\"../../../res.xlsx\\\",index=False)\";\n                var nbb_formatted_code = \"Model_type = \\\"MLR\\\"\\nres = pd.read_excel(\\\"../../../res.xlsx\\\")\\n\\n\\nfor j in range(len(scaled_X_sites)):\\n    Descripton = \\\"Without Pollutions Without outliers for each site \\\" + sites[j]\\n    print(sites[j])\\n    targets = [\\n        scaled_targets_sites[j].Israelis_Count,\\n        scaled_targets_sites[j].Total,\\n        scaled_targets_sites[j].Tourists_Count,\\n    ]  # get target info of this site\\n    targets_list_name = [\\\"Israelis_Count\\\", \\\"Total\\\", \\\"Tourists_Count\\\"]\\n    idx = 0\\n    for y in targets:\\n\\n        # split the data, train the model and get prediction for the training and for the test\\n        #######################################################################################################################\\n        X = scaled_X_sites[j]  # get X info of this site\\n        # for outliers\\n        if idx == 0:\\n            X = X.drop(outliers_I_sites[j])\\n            y.drop(outliers_I_sites[j], inplace=True)\\n        elif idx == 1:\\n            X = X.drop(outliers_To_sites[j])\\n            y.drop(outliers_To_sites[j], inplace=True)\\n        # else :\\n        #   X=X.drop(outliers_Tu_sites[j])\\n        #   y.drop(outliers_Tu_sites[j],inplace=True)\\n        print(len(X), len(y), len(outliers_To_sites[j]))\\n        X_train, X_test, y_train, y_test = train_test_split(\\n            X, y, test_size=0.3, random_state=312148513\\n        )\\n        train_df_scaled = pd.merge(\\n            left=X_train, right=y_train, left_index=True, right_index=True\\n        )\\n        test_df_scaled = pd.merge(\\n            left=X_test, right=y_test, left_index=True, right_index=True\\n        )\\n\\n        lm = LinearRegression()  # define our model using least square method\\n        lm.fit(X_train, y_train)  # Fit our linear model\\n\\n        # train\\n        fitted = np.exp(lm.predict(X_train))\\n        predicted_train = round(\\n            pd.Series(\\n                fitted,\\n                index=y_train.index,\\n                name=\\\"Predicted_train_\\\" + targets_list_name[idx],\\n            ),\\n            ndigits=2,\\n        )\\n        orignal_train = np.exp(train_df_scaled[[targets_list_name[idx]]])\\n        train_df = pd.merge(\\n            left=orignal_train, right=predicted_train, left_index=True, right_index=True\\n        )\\n        train_df\\n\\n        # test\\n        fitted = np.exp(lm.predict(X_test))\\n        predicted_test = round(\\n            pd.Series(\\n                fitted,\\n                index=y_test.index,\\n                name=\\\"Predicted_test_\\\" + targets_list_name[idx],\\n            ),\\n            ndigits=2,\\n        )\\n        orignal_test = np.exp(test_df_scaled[[targets_list_name[idx]]])\\n        test_df = pd.merge(\\n            left=orignal_test, right=predicted_test, left_index=True, right_index=True\\n        )\\n        test_df\\n        #######################################################################################################################\\n\\n        # plot the residuals graph\\n        #######################################################################################################################\\n\\n        # calculate the residuals\\n        test_df[\\\"residuals\\\"] = (\\n            test_df[\\\"Predicted_test_\\\" + targets_list_name[idx]]\\n            - test_df[targets_list_name[idx]]\\n        )\\n        train_df[\\\"residuals\\\"] = (\\n            train_df[\\\"Predicted_train_\\\" + targets_list_name[idx]]\\n            - train_df[targets_list_name[idx]]\\n        )\\n\\n        fig = go.Figure()\\n        fig.add_trace(\\n            go.Scatter(\\n                x=train_df[\\\"Predicted_train_\\\" + targets_list_name[idx]],\\n                y=train_df.residuals,\\n                mode=\\\"markers\\\",\\n                name=\\\"train residuals\\\",\\n                marker_color=\\\"blue\\\",\\n                marker_size=1.5,\\n                marker_line_width=0,\\n            )\\n        )\\n        fig.add_trace(\\n            go.Scatter(\\n                x=test_df[\\\"Predicted_test_\\\" + targets_list_name[idx]],\\n                y=test_df.residuals,\\n                mode=\\\"markers\\\",\\n                name=\\\"test residuals\\\",\\n                marker_color=\\\"red\\\",\\n                marker_size=1.5,\\n                marker_line_width=0,\\n            )\\n        )\\n        fig.add_trace(\\n            go.Scatter(\\n                x=test_df[\\\"Predicted_test_\\\" + targets_list_name[idx]],\\n                y=test_df.residuals * 0,\\n                mode=\\\"lines\\\",\\n                name=\\\"zero line\\\",\\n                marker_color=\\\"black\\\",\\n                marker_size=1.5,\\n                marker_line_width=0,\\n            )\\n        )\\n        fig.update_layout(\\n            title=\\\"Residuals of Predicted \\\" + targets_list_name[idx],\\n            xaxis_title=\\\"Predicted \\\" + targets_list_name[idx],\\n            yaxis_title=\\\"Residuals\\\",\\n            font=dict(size=14, color=\\\"RebeccaPurple\\\"),\\n        )\\n        # fig.show()\\n        #######################################################################################################################\\n\\n        # create folder\\n        ########################################\\n        if not os.path.exists(sites[j]):\\n            os.mkdir(sites[j])\\n\\n        if not os.path.exists(sites[j] + \\\"/\\\" + Descripton):\\n            os.mkdir(sites[j] + \\\"/\\\" + Descripton)\\n        fig.write_image(\\n            sites[j]\\n            + \\\"/\\\"\\n            + Descripton\\n            + \\\"/results_\\\"\\n            + targets_list_name[idx]\\n            + \\\"_.png\\\",\\n            width=1500,\\n            height=600,\\n        )\\n        #########################################\\n\\n        # create txt file with the metrix result\\n        ################################################################################################################################################\\n        f = open(\\n            sites[j]\\n            + \\\"/\\\"\\n            + Descripton\\n            + \\\"/results_\\\"\\n            + targets_list_name[idx]\\n            + \\\"_.txt\\\",\\n            \\\"w\\\",\\n        )\\n\\n        #  correct_rows = train_df.loc[abs(train_df['Predicted_train_'+targets_list_name[idx]]-train_df[targets_list_name[idx]])<=50].any(axis=1).count()\\n        #  ACC_Training = round(correct_rows/len(train_df),3)\\n\\n        MSE_Training = metrics.mean_squared_error(\\n            train_df[targets_list_name[idx]],\\n            train_df[\\\"Predicted_train_\\\" + targets_list_name[idx]],\\n        )\\n        RMSE_Training = np.sqrt(\\n            metrics.mean_squared_error(\\n                train_df[targets_list_name[idx]],\\n                train_df[\\\"Predicted_train_\\\" + targets_list_name[idx]],\\n            )\\n        )\\n        MAE_Training = metrics.mean_absolute_error(\\n            train_df[targets_list_name[idx]],\\n            train_df[\\\"Predicted_train_\\\" + targets_list_name[idx]],\\n        )\\n        R2_Training = metrics.r2_score(\\n            train_df[targets_list_name[idx]],\\n            train_df[\\\"Predicted_train_\\\" + targets_list_name[idx]],\\n        )\\n        std_Training = np.std(predicted_train)\\n\\n        f.write(\\\"------ TRAIN DATA ------\\\\n\\\")\\n        # f.write(\\\"Model \\\"+' mod0' +\\\" Accuracy: \\\"+str(ACC_Training)+\\\"\\\\n\\\")\\n        f.write(\\n            \\\"MSE : \\\"\\n            + str(MSE_Training)\\n            + \\\", RMSE: \\\"\\n            + str(RMSE_Training)\\n            + \\\", MAE : \\\"\\n            + str(MAE_Training)\\n            + \\\"\\\\n\\\"\\n        )\\n        f.write(\\\"R2 TRAIN \\\" + str(R2_Training) + \\\"\\\\n\\\")\\n\\n        #  correct_rows = test_df.loc[abs(test_df['Predicted_test_'+targets_list_name[idx]]-test_df[targets_list_name[idx]])<=50].any(axis=1).count()\\n        #  ACC_Test = round(correct_rows/len(test_df),3)\\n\\n        MSE_Test = metrics.mean_squared_error(\\n            test_df[targets_list_name[idx]],\\n            test_df[\\\"Predicted_test_\\\" + targets_list_name[idx]],\\n        )\\n        RMSE_Test = np.sqrt(\\n            metrics.mean_squared_error(\\n                test_df[targets_list_name[idx]],\\n                test_df[\\\"Predicted_test_\\\" + targets_list_name[idx]],\\n            )\\n        )\\n        MAE_Test = metrics.mean_absolute_error(\\n            test_df[targets_list_name[idx]],\\n            test_df[\\\"Predicted_test_\\\" + targets_list_name[idx]],\\n        )\\n        R2_Test = metrics.r2_score(\\n            test_df[targets_list_name[idx]],\\n            test_df[\\\"Predicted_test_\\\" + targets_list_name[idx]],\\n        )\\n        std_test = np.std(predicted_test)\\n\\n        f.write(\\\"\\\\n\\\")\\n        f.write(\\\"------ TEST DATA ------\\\\n\\\")\\n        # f.write(\\\"Model \\\"+' mod0' +\\\" Accuracy: \\\"+str(ACC_Test)+\\\"\\\\n\\\")\\n        f.write(\\n            \\\"MSE : \\\"\\n            + str(MSE_Test)\\n            + \\\", RMSE: \\\"\\n            + str(RMSE_Test)\\n            + \\\", MAE : \\\"\\n            + str(MAE_Test)\\n            + \\\"\\\\n\\\"\\n        )\\n        f.write(\\\"R2 TEST \\\" + str(R2_Test) + \\\"\\\\n\\\")\\n        f.write(\\\"--------------------------------\\\\n\\\")\\n\\n        f.close()\\n        ################################################################################################################################################\\n\\n        # Add to excel result the new line\\n        ################################################################################################################################################\\n        Target = targets_list_name[idx]\\n        Site_in_this_model = sites[j]\\n        new_row = {\\n            \\\"Descripton\\\": Descripton,\\n            \\\"Target\\\": Target,\\n            \\\"Model_type\\\": Model_type,\\n            # 'Model_number':Model_number,\\n            \\\"Site_in_this_model\\\": Site_in_this_model,\\n            \\\"Size Train\\\": len(train_df),\\n            # 'ACC_Training':ACC_Training,\\n            \\\"MAE_Training\\\": MAE_Training,\\n            \\\"MSE_Training\\\": MSE_Training,\\n            \\\"RMSE_Training\\\": RMSE_Training,\\n            \\\"STD_Training\\\": std_Training,\\n            \\\"R2_Training\\\": R2_Training,\\n            \\\"Size Test\\\": len(test_df),\\n            # 'ACC_Test':ACC_Test,\\n            \\\"MAE_Test\\\": MAE_Test,\\n            \\\"MSE_Test\\\": MSE_Test,\\n            \\\"RMSE_Test\\\": RMSE_Test,\\n            \\\"STD_Test\\\": std_test,\\n            \\\"R2_Test\\\": R2_Test,\\n        }\\n\\n        res = res.append(new_row, ignore_index=True)\\n        ################################################################################################################################################\\n\\n        # Index for the next target y\\n        idx += 1\\n\\n\\nres.to_excel(\\\"../../../res.xlsx\\\", index=False)\";\n                var nbb_cells = Jupyter.notebook.get_cells();\n                for (var i = 0; i < nbb_cells.length; ++i) {\n                    if (nbb_cells[i].input_prompt_number == nbb_cell_id) {\n                        if (nbb_cells[i].get_text() == nbb_unformatted_code) {\n                             nbb_cells[i].set_text(nbb_formatted_code);\n                        }\n                        break;\n                    }\n                }\n            }, 500);\n            ",
      "text/plain": [
       "<IPython.core.display.Javascript object>"
      ]
     },
     "metadata": {},
     "output_type": "display_data"
    }
   ],
   "source": [
    "Model_type= \"MLR\"\n",
    "res=pd.read_excel(\"../../../res.xlsx\")\n",
    "\n",
    "\n",
    "for j in range(len(scaled_X_sites)):\n",
    "  Descripton = \"Without Pollutions Without outliers for each site \" + sites[j]\n",
    "  print(sites[j])\n",
    "  targets = [scaled_targets_sites[j].Israelis_Count,scaled_targets_sites[j].Total,scaled_targets_sites[j].Tourists_Count] # get target info of this site\n",
    "  targets_list_name = ['Israelis_Count','Total','Tourists_Count']\n",
    "  idx=0\n",
    "  for y in targets:\n",
    "\n",
    "      #split the data, train the model and get prediction for the training and for the test  \n",
    "      #######################################################################################################################\n",
    "      X=scaled_X_sites[j] # get X info of this site\n",
    "      # for outliers \n",
    "      if idx==0:\n",
    "        X=X.drop(outliers_I_sites[j])\n",
    "        y.drop(outliers_I_sites[j],inplace=True)\n",
    "      elif idx==1:\n",
    "        X=X.drop(outliers_To_sites[j])\n",
    "        y.drop(outliers_To_sites[j],inplace=True)\n",
    "      # else :\n",
    "      #   X=X.drop(outliers_Tu_sites[j])\n",
    "      #   y.drop(outliers_Tu_sites[j],inplace=True)\n",
    "      print(len(X),len(y),len(outliers_To_sites[j]))\n",
    "      X_train, X_test, y_train, y_test = train_test_split(X, y, test_size=0.3, random_state=312148513)\n",
    "      train_df_scaled = pd.merge(left=X_train, right=y_train, left_index=True, right_index=True)\n",
    "      test_df_scaled = pd.merge(left=X_test, right=y_test, left_index=True, right_index=True)\n",
    "\n",
    "      lm = LinearRegression()  # define our model using least square method\n",
    "      lm.fit(X_train,y_train)   # Fit our linear model\n",
    "\n",
    "      #train\n",
    "      fitted = np.exp(lm.predict(X_train))\n",
    "      predicted_train = round(pd.Series(fitted, index=y_train.index, name='Predicted_train_'+targets_list_name[idx]),ndigits=2)\n",
    "      orignal_train=np.exp(train_df_scaled[[targets_list_name[idx]]])\n",
    "      train_df = pd.merge(left=orignal_train, right=predicted_train, left_index=True, right_index=True)\n",
    "      train_df\n",
    "\n",
    "      #test\n",
    "      fitted = np.exp(lm.predict(X_test))\n",
    "      predicted_test = round(pd.Series(fitted, index=y_test.index, name='Predicted_test_'+targets_list_name[idx]),ndigits=2)\n",
    "      orignal_test = np.exp(test_df_scaled[[targets_list_name[idx]]])\n",
    "      test_df = pd.merge(left=orignal_test, right=predicted_test, left_index=True, right_index=True)\n",
    "      test_df\n",
    "       #######################################################################################################################\n",
    "\n",
    "\n",
    "\n",
    "\n",
    "\n",
    "       #plot the residuals graph\n",
    "       #######################################################################################################################\n",
    "\n",
    "       #calculate the residuals\n",
    "      test_df['residuals'] = test_df['Predicted_test_'+targets_list_name[idx]] - test_df[targets_list_name[idx]]\n",
    "      train_df['residuals'] = train_df['Predicted_train_'+targets_list_name[idx]] - train_df[targets_list_name[idx]]\n",
    "\n",
    "      fig= go.Figure()\n",
    "      fig.add_trace(\n",
    "        go.Scatter(\n",
    "            x=train_df['Predicted_train_'+targets_list_name[idx]],\n",
    "            y=train_df.residuals,\n",
    "            mode='markers',\n",
    "            name='train residuals',\n",
    "            marker_color='blue',\n",
    "            marker_size=1.5,\n",
    "            marker_line_width=0,\n",
    "         )\n",
    "       )\n",
    "      fig.add_trace(\n",
    "        go.Scatter(\n",
    "            x=test_df['Predicted_test_'+targets_list_name[idx]],\n",
    "            y=test_df.residuals,\n",
    "            mode='markers',\n",
    "            name='test residuals',\n",
    "            marker_color='red',\n",
    "            marker_size=1.5,\n",
    "            marker_line_width=0,\n",
    "         )\n",
    "       )\n",
    "      fig.add_trace(\n",
    "         go.Scatter(\n",
    "            x=test_df['Predicted_test_'+targets_list_name[idx]],\n",
    "            y=test_df.residuals*0,\n",
    "            mode='lines',\n",
    "            name='zero line',\n",
    "            marker_color='black',\n",
    "            marker_size=1.5,\n",
    "            marker_line_width=0,\n",
    "         )\n",
    "       )\n",
    "      fig.update_layout(\n",
    "          title=\"Residuals of Predicted \"+targets_list_name[idx],\n",
    "          xaxis_title=\"Predicted \"+targets_list_name[idx],\n",
    "          yaxis_title=\"Residuals\",\n",
    "          font=dict(\n",
    "              size=14,\n",
    "              color=\"RebeccaPurple\"\n",
    "          )\n",
    "      )\n",
    "      # fig.show()\n",
    "       #######################################################################################################################\n",
    "\n",
    "       #create folder\n",
    "       ########################################\n",
    "      if not os.path.exists(sites[j]):\n",
    "        os.mkdir(sites[j])\n",
    "\n",
    "      if not os.path.exists(sites[j]+'/'+Descripton):\n",
    "        os.mkdir(sites[j]+'/'+Descripton)\n",
    "      fig.write_image(sites[j]+'/'+Descripton+\"/results_\"+targets_list_name[idx]+'_.png', width=1500, height=600)\n",
    "      #########################################\n",
    "\n",
    "      #create txt file with the metrix result \n",
    "      ################################################################################################################################################     \n",
    "      f = open(sites[j]+'/'+Descripton+\"/results_\"+targets_list_name[idx]+'_.txt', 'w')\n",
    "\n",
    "      #  correct_rows = train_df.loc[abs(train_df['Predicted_train_'+targets_list_name[idx]]-train_df[targets_list_name[idx]])<=50].any(axis=1).count()\n",
    "      #  ACC_Training = round(correct_rows/len(train_df),3)\n",
    "\n",
    "      MSE_Training = metrics.mean_squared_error(train_df[targets_list_name[idx]], train_df['Predicted_train_'+targets_list_name[idx]])\n",
    "      RMSE_Training = np.sqrt(metrics.mean_squared_error(train_df[targets_list_name[idx]], train_df['Predicted_train_'+targets_list_name[idx]]))\n",
    "      MAE_Training = metrics.mean_absolute_error(train_df[targets_list_name[idx]], train_df['Predicted_train_'+targets_list_name[idx]])\n",
    "      R2_Training=metrics.r2_score(train_df[targets_list_name[idx]], train_df['Predicted_train_'+targets_list_name[idx]])\n",
    "      std_Training = np.std(predicted_train)\n",
    "\n",
    "      f.write(\"------ TRAIN DATA ------\\n\")\n",
    "      #f.write(\"Model \"+' mod0' +\" Accuracy: \"+str(ACC_Training)+\"\\n\")\n",
    "      f.write(\"MSE : \"+str(MSE_Training)+\", RMSE: \"+str(RMSE_Training)+\", MAE : \"+str(MAE_Training)+\"\\n\")\n",
    "      f.write(\"R2 TRAIN \"+ str(R2_Training)+\"\\n\")\n",
    "\n",
    "\n",
    "      #  correct_rows = test_df.loc[abs(test_df['Predicted_test_'+targets_list_name[idx]]-test_df[targets_list_name[idx]])<=50].any(axis=1).count()\n",
    "      #  ACC_Test = round(correct_rows/len(test_df),3)\n",
    "\n",
    "      MSE_Test = metrics.mean_squared_error(test_df[targets_list_name[idx]], test_df['Predicted_test_'+targets_list_name[idx]])\n",
    "      RMSE_Test = np.sqrt(metrics.mean_squared_error(test_df[targets_list_name[idx]], test_df['Predicted_test_'+targets_list_name[idx]]))\n",
    "      MAE_Test = metrics.mean_absolute_error(test_df[targets_list_name[idx]], test_df['Predicted_test_'+targets_list_name[idx]])\n",
    "      R2_Test = metrics.r2_score(test_df[targets_list_name[idx]], test_df['Predicted_test_'+targets_list_name[idx]])\n",
    "      std_test = np.std(predicted_test)\n",
    "\n",
    "      f.write(\"\\n\")\n",
    "      f.write(\"------ TEST DATA ------\\n\")\n",
    "      #f.write(\"Model \"+' mod0' +\" Accuracy: \"+str(ACC_Test)+\"\\n\")\n",
    "      f.write(\"MSE : \"+str(MSE_Test)+\", RMSE: \"+str(RMSE_Test)+\", MAE : \"+str(MAE_Test)+\"\\n\")\n",
    "      f.write(\"R2 TEST \"+ str(R2_Test)+\"\\n\")\n",
    "      f.write(\"--------------------------------\\n\")\n",
    "\n",
    "      f.close()\n",
    "      ################################################################################################################################################     \n",
    "\n",
    "      #Add to excel result the new line\n",
    "      ################################################################################################################################################\n",
    "      Target=targets_list_name[idx]\n",
    "      Site_in_this_model=sites[j]\n",
    "      new_row = {\n",
    "        'Descripton':Descripton,\n",
    "        \"Target\":Target,\n",
    "        'Model_type':Model_type,\n",
    "        # 'Model_number':Model_number,\n",
    "        'Site_in_this_model':Site_in_this_model,\n",
    "        \"Size Train\":len(train_df),\n",
    "        # 'ACC_Training':ACC_Training,\n",
    "        'MAE_Training':MAE_Training,\n",
    "        'MSE_Training':MSE_Training,\n",
    "        'RMSE_Training':RMSE_Training,\n",
    "        'STD_Training':std_Training,\n",
    "        'R2_Training':R2_Training,\n",
    "        \"Size Test\":len(test_df),\n",
    "        # 'ACC_Test':ACC_Test,\n",
    "        'MAE_Test':MAE_Test,\n",
    "        'MSE_Test':MSE_Test,\n",
    "        'RMSE_Test':RMSE_Test,\n",
    "        'STD_Test':std_test,\n",
    "        'R2_Test':R2_Test \n",
    "        }\n",
    "\n",
    "      res = res.append(new_row,ignore_index=True)\n",
    "      ################################################################################################################################################     \n",
    "\n",
    "      # Index for the next target y\n",
    "      idx+=1\n",
    "\n",
    "\n",
    "res.to_excel(\"../../../res.xlsx\",index=False)\n"
   ]
  }
 ],
 "metadata": {
  "interpreter": {
   "hash": "4ace568d36d830c5571f2829ec101ed577db7d1f44057a629faa8733711eb527"
  },
  "kernelspec": {
   "display_name": "Python 3.9.9 64-bit",
   "language": "python",
   "name": "python3"
  },
  "language_info": {
   "codemirror_mode": {
    "name": "ipython",
    "version": 3
   },
   "file_extension": ".py",
   "mimetype": "text/x-python",
   "name": "python",
   "nbconvert_exporter": "python",
   "pygments_lexer": "ipython3",
   "version": "3.9.9"
  },
  "orig_nbformat": 4
 },
 "nbformat": 4,
 "nbformat_minor": 2
}
