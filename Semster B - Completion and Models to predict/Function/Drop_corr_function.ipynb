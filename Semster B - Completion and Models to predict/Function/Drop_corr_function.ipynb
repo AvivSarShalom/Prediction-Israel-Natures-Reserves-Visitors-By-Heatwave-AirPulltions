{
 "cells": [
  {
   "cell_type": "code",
   "execution_count": 90,
   "metadata": {},
   "outputs": [
    {
     "name": "stderr",
     "output_type": "stream",
     "text": [
      "C:\\Users\\asars\\AppData\\Local\\Temp/ipykernel_4712/3585482932.py:8: DeprecationWarning: `np.bool` is a deprecated alias for the builtin `bool`. To silence this warning, use `bool` by itself. Doing this will not modify any behavior and is safe. If you specifically wanted the numpy scalar type, use `np.bool_` here.\n",
      "Deprecated in NumPy 1.20; for more details and guidance: https://numpy.org/devdocs/release/1.20.0-notes.html#deprecations\n",
      "  corr_df2 = cor_matrix.where(np.triu(np.ones(cor_matrix.shape),k=1).astype(np.bool))\n"
     ]
    },
    {
     "name": "stdout",
     "output_type": "stream",
     "text": [
      "['Green_border', 'region_Judea_Samaria']\n",
      "['is_water', 'visit_duration']\n",
      "['is_natureReserve', 'is_nationalPark']\n",
      "['Jerusalem_pm2.5', 'Jerusalem_pm10']\n",
      "['Haifa_pm2.5', 'Tel_Aviv-Yafo_pm2.5']\n",
      "['is_Site_exceeded_nox', 'is_Site_exceeded_pm2.5']\n",
      "['is_muslims_vacation', 'Season_summer', 'is_jewish_vacation']\n",
      "['Beer-Sheva_pm2.5', 'Beer-Sheva_pm10_exceeded', 'Beer-Sheva_pm10']\n",
      "['Ashkelon_pm2.5', 'Beer-Sheva_pm2.5', 'Jerusalem_pm2.5']\n",
      "['Beer-Sheva_pm2.5', 'Ashkelon_pm2.5_exceeded', 'Ashkelon_pm2.5']\n",
      "['Beer-Sheva_nox', 'Haifa_so2', 'Haifa_nox']\n",
      "['is_Site_exceeded_pm2.5', 'is_Site_exceeded_nox', 'is_Site_exceeded_pm10']\n",
      "['is_Site_exceeded_pm10', 'is_Site_exceeded_pm2.5', 'is_Site_exceeded_nox', 'nox']\n",
      "['Ashkelon_pm10', 'Haifa_pm2.5', 'Haifa_pm10_exceeded', 'Haifa_pm10']\n",
      "['Haifa_pm10', 'Ashkelon_pm10', 'Beer-Sheva_pm10', 'Jerusalem_pm2.5', 'Ashkelon_pm2.5', 'Tel_Aviv-Yafo_pm10']\n",
      "['Beer-Sheva_pm10', 'Jerusalem_pm2.5', 'Ashkelon_pm2.5', 'Beer-Sheva_pm2.5', 'Ashkelon_pm10_exceeded', 'Ashkelon_pm10']\n",
      "Green_border\n",
      "visit_duration\n",
      "is_natureReserve\n",
      "Jerusalem_pm10\n",
      "Haifa_pm2.5\n",
      "is_Site_exceeded_nox\n",
      "is_muslims_vacation\n",
      "Beer-Sheva_pm10\n",
      "Beer-Sheva_pm2.5\n",
      "Ashkelon_pm2.5_exceeded\n",
      "Beer-Sheva_nox\n",
      "is_Site_exceeded_nox\n",
      "is_Site_exceeded_nox\n",
      "Ashkelon_pm10\n",
      "Tel_Aviv-Yafo_pm10\n",
      "Ashkelon_pm10_exceeded\n"
     ]
    },
    {
     "data": {
      "text/plain": [
       "Beer-Sheva_pm10           0.005347\n",
       "Jerusalem_pm2.5           0.000675\n",
       "Ashkelon_pm2.5            0.001172\n",
       "Beer-Sheva_pm2.5          0.004038\n",
       "Ashkelon_pm10_exceeded    0.010477\n",
       "Ashkelon_pm10             0.008494\n",
       "Name: Israelis_Count, dtype: float64"
      ]
     },
     "execution_count": 90,
     "metadata": {},
     "output_type": "execute_result"
    }
   ],
   "source": [
    "def remove_high_corr(df2,target,threshold):\n",
    "  target_col = df2.pop(target)\n",
    "  df2.insert(len(df2.columns), target, target_col)\n",
    "  cor_matrix = df2.corr().abs()\n",
    "  corr_df2 = cor_matrix.where(np.triu(np.ones(cor_matrix.shape),k=1).astype(np.bool))\n",
    "  #מתודה שאומרת בי בקורלורציה עם מי\n",
    "  cols = corr_df2.columns.to_list()\n",
    "  list_corr_not_empty=[]\n",
    "\n",
    "  for i in range(len(cols)-1):\n",
    "      tmp = []\n",
    "      for j in range(len(cols)-1):\n",
    "        if abs(corr_df2.iloc[i,j]) >= threshold and cols[i] is not cols[j] :\n",
    "          tmp.append(cols[j])\n",
    "      if len(tmp)>0:\n",
    "          tmp.append(cols[i])\n",
    "          list_corr_not_empty.append(tmp)\n",
    "  def Key(p):\n",
    "   return  corr_df2[target][p]\n",
    "  stay = [max(sub,key=Key) for sub in list_corr_not_empty]\n",
    "  print(*stay, sep='\\n')\n",
    "  drops = [ c for sub in list_corr_not_empty for c in sub if c not in stay ]\n",
    "  return list(set(drops))\n",
    "\n",
    "\n",
    "drops = remove_high_corr(df1,'Israelis_Count',0.65)\n",
    "# drops.loc[['Beer-Sheva_pm10', 'Jerusalem_pm2.5', 'Ashkelon_pm2.5', 'Beer-Sheva_pm2.5', 'Ashkelon_pm10_exceeded', 'Ashkelon_pm10'],'Israelis_Count']\n"
   ]
  }
 ],
 "metadata": {
  "interpreter": {
   "hash": "4ace568d36d830c5571f2829ec101ed577db7d1f44057a629faa8733711eb527"
  },
  "kernelspec": {
   "display_name": "Python 3.9.9 64-bit",
   "language": "python",
   "name": "python3"
  },
  "language_info": {
   "codemirror_mode": {
    "name": "ipython",
    "version": 3
   },
   "file_extension": ".py",
   "mimetype": "text/x-python",
   "name": "python",
   "nbconvert_exporter": "python",
   "pygments_lexer": "ipython3",
   "version": "3.9.9"
  },
  "orig_nbformat": 4
 },
 "nbformat": 4,
 "nbformat_minor": 2
}
