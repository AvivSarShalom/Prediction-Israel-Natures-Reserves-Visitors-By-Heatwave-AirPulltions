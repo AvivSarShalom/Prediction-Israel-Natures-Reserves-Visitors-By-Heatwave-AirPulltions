{
 "cells": [
  {
   "cell_type": "markdown",
   "metadata": {},
   "source": [
    "Imports"
   ]
  },
  {
   "cell_type": "code",
   "execution_count": 1,
   "metadata": {},
   "outputs": [],
   "source": [
    "import numpy as np\n",
    "import pandas as pd"
   ]
  },
  {
   "cell_type": "markdown",
   "metadata": {},
   "source": [
    "read dfs"
   ]
  },
  {
   "cell_type": "code",
   "execution_count": 2,
   "metadata": {},
   "outputs": [],
   "source": [
    "pm25_df = pd.read_excel(\"pm25.xlsx\")\n",
    "pm10_df = pd.read_excel(\"pm10.xlsx\")\n",
    "Nox_df = pd.read_excel(\"Nox.xlsx\")\n",
    "So2_df = pd.read_excel(\"So2.xlsx\")"
   ]
  },
  {
   "cell_type": "code",
   "execution_count": 3,
   "metadata": {},
   "outputs": [
    {
     "data": {
      "text/html": [
       "<div>\n",
       "<style scoped>\n",
       "    .dataframe tbody tr th:only-of-type {\n",
       "        vertical-align: middle;\n",
       "    }\n",
       "\n",
       "    .dataframe tbody tr th {\n",
       "        vertical-align: top;\n",
       "    }\n",
       "\n",
       "    .dataframe thead th {\n",
       "        text-align: right;\n",
       "    }\n",
       "</style>\n",
       "<table border=\"1\" class=\"dataframe\">\n",
       "  <thead>\n",
       "    <tr style=\"text-align: right;\">\n",
       "      <th></th>\n",
       "      <th>סוג: ממוצע, זמן מיצוע: 24 שעות, Period:01/01/2016 00:01 - 22/12/2021 00:00</th>\n",
       "      <th>Unnamed: 1</th>\n",
       "      <th>Unnamed: 2</th>\n",
       "      <th>Unnamed: 3</th>\n",
       "      <th>Unnamed: 4</th>\n",
       "      <th>Unnamed: 5</th>\n",
       "      <th>Unnamed: 6</th>\n",
       "      <th>Unnamed: 7</th>\n",
       "      <th>Unnamed: 8</th>\n",
       "      <th>Unnamed: 9</th>\n",
       "      <th>...</th>\n",
       "      <th>Unnamed: 86</th>\n",
       "      <th>Unnamed: 87</th>\n",
       "      <th>Unnamed: 88</th>\n",
       "      <th>Unnamed: 89</th>\n",
       "      <th>Unnamed: 90</th>\n",
       "      <th>Unnamed: 91</th>\n",
       "      <th>Unnamed: 92</th>\n",
       "      <th>Unnamed: 93</th>\n",
       "      <th>Unnamed: 94</th>\n",
       "      <th>Unnamed: 95</th>\n",
       "    </tr>\n",
       "  </thead>\n",
       "  <tbody>\n",
       "    <tr>\n",
       "      <th>0</th>\n",
       "      <td>NaN</td>\n",
       "      <td>NaN</td>\n",
       "      <td>NaN</td>\n",
       "      <td>NaN</td>\n",
       "      <td>NaN</td>\n",
       "      <td>NaN</td>\n",
       "      <td>NaN</td>\n",
       "      <td>NaN</td>\n",
       "      <td>NaN</td>\n",
       "      <td>NaN</td>\n",
       "      <td>...</td>\n",
       "      <td>NaN</td>\n",
       "      <td>NaN</td>\n",
       "      <td>NaN</td>\n",
       "      <td>NaN</td>\n",
       "      <td>NaN</td>\n",
       "      <td>NaN</td>\n",
       "      <td>NaN</td>\n",
       "      <td>NaN</td>\n",
       "      <td>NaN</td>\n",
       "      <td>NaN</td>\n",
       "    </tr>\n",
       "    <tr>\n",
       "      <th>1</th>\n",
       "      <td>תאריך ושעה</td>\n",
       "      <td>תל אביב-יפו, רחוב לחי</td>\n",
       "      <td>ירושלים, רחוב בר אילן</td>\n",
       "      <td>באר שבע, שכונה ו</td>\n",
       "      <td>ירושלים, בקעה</td>\n",
       "      <td>אלון שבות, גוש עציון</td>\n",
       "      <td>חולון, חולון</td>\n",
       "      <td>תל אביב-יפו, רחוב יהודה המכבי</td>\n",
       "      <td>בני ברק, רחוב ז'בוטינסקי</td>\n",
       "      <td>בני ברק, כביש 4</td>\n",
       "      <td>...</td>\n",
       "      <td>ירושלים, רחוב דבורה הנביאה</td>\n",
       "      <td>אביגדור, אביגדור</td>\n",
       "      <td>תימורים, תימורים</td>\n",
       "      <td>נחשולים, נחשולים</td>\n",
       "      <td>חיפה, קרית חיים - מערבית</td>\n",
       "      <td>איבטין, איבטין</td>\n",
       "      <td>חריש, חריש</td>\n",
       "      <td>ירושלים, מלכי ישראל</td>\n",
       "      <td>אלעד, רובע א</td>\n",
       "      <td>רמלה, שכונת האמנים</td>\n",
       "    </tr>\n",
       "    <tr>\n",
       "      <th>2</th>\n",
       "      <td>NaN</td>\n",
       "      <td>PM2.5</td>\n",
       "      <td>PM2.5</td>\n",
       "      <td>PM2.5</td>\n",
       "      <td>PM2.5</td>\n",
       "      <td>PM2.5</td>\n",
       "      <td>PM2.5</td>\n",
       "      <td>PM2.5</td>\n",
       "      <td>PM2.5</td>\n",
       "      <td>PM2.5</td>\n",
       "      <td>...</td>\n",
       "      <td>PM2.5</td>\n",
       "      <td>PM2.5</td>\n",
       "      <td>PM2.5</td>\n",
       "      <td>PM2.5</td>\n",
       "      <td>PM2.5</td>\n",
       "      <td>PM2.5</td>\n",
       "      <td>PM2.5</td>\n",
       "      <td>PM2.5</td>\n",
       "      <td>PM2.5</td>\n",
       "      <td>PM2.5</td>\n",
       "    </tr>\n",
       "    <tr>\n",
       "      <th>3</th>\n",
       "      <td>NaN</td>\n",
       "      <td>µg/m³</td>\n",
       "      <td>µg/m³</td>\n",
       "      <td>µg/m³</td>\n",
       "      <td>µg/m³</td>\n",
       "      <td>µg/m³</td>\n",
       "      <td>µg/m³</td>\n",
       "      <td>µg/m³</td>\n",
       "      <td>µg/m³</td>\n",
       "      <td>µg/m³</td>\n",
       "      <td>...</td>\n",
       "      <td>µg/m³</td>\n",
       "      <td>µg/m³</td>\n",
       "      <td>µg/m³</td>\n",
       "      <td>µg/m³</td>\n",
       "      <td>µg/m³</td>\n",
       "      <td>µg/m³</td>\n",
       "      <td>µg/m³</td>\n",
       "      <td>µg/m³</td>\n",
       "      <td>µg/m³</td>\n",
       "      <td>µg/m³</td>\n",
       "    </tr>\n",
       "    <tr>\n",
       "      <th>4</th>\n",
       "      <td>24:00 01/01/2016</td>\n",
       "      <td>NoData</td>\n",
       "      <td>15.7</td>\n",
       "      <td>2.5</td>\n",
       "      <td>2.5</td>\n",
       "      <td>&amp;lt;Samp</td>\n",
       "      <td>5.8</td>\n",
       "      <td>6.3</td>\n",
       "      <td>&amp;lt;Samp</td>\n",
       "      <td>5.1</td>\n",
       "      <td>...</td>\n",
       "      <td>NoData</td>\n",
       "      <td>NoData</td>\n",
       "      <td>NoData</td>\n",
       "      <td>NoData</td>\n",
       "      <td>NoData</td>\n",
       "      <td>NoData</td>\n",
       "      <td>NoData</td>\n",
       "      <td>NoData</td>\n",
       "      <td>NoData</td>\n",
       "      <td>NoData</td>\n",
       "    </tr>\n",
       "    <tr>\n",
       "      <th>...</th>\n",
       "      <td>...</td>\n",
       "      <td>...</td>\n",
       "      <td>...</td>\n",
       "      <td>...</td>\n",
       "      <td>...</td>\n",
       "      <td>...</td>\n",
       "      <td>...</td>\n",
       "      <td>...</td>\n",
       "      <td>...</td>\n",
       "      <td>...</td>\n",
       "      <td>...</td>\n",
       "      <td>...</td>\n",
       "      <td>...</td>\n",
       "      <td>...</td>\n",
       "      <td>...</td>\n",
       "      <td>...</td>\n",
       "      <td>...</td>\n",
       "      <td>...</td>\n",
       "      <td>...</td>\n",
       "      <td>...</td>\n",
       "      <td>...</td>\n",
       "    </tr>\n",
       "    <tr>\n",
       "      <th>2191</th>\n",
       "      <td>תאריך נתון מקסימלי</td>\n",
       "      <td>25/03/2021</td>\n",
       "      <td>17/02/2018</td>\n",
       "      <td>09/01/2016</td>\n",
       "      <td>17/02/2018</td>\n",
       "      <td>09/01/2016</td>\n",
       "      <td>19/01/2016</td>\n",
       "      <td>19/01/2016</td>\n",
       "      <td>19/01/2016</td>\n",
       "      <td>09/01/2016</td>\n",
       "      <td>...</td>\n",
       "      <td>NoData</td>\n",
       "      <td>25/03/2021</td>\n",
       "      <td>01/11/2020</td>\n",
       "      <td>25/03/2020</td>\n",
       "      <td>25/03/2021</td>\n",
       "      <td>25/03/2021</td>\n",
       "      <td>25/03/2021</td>\n",
       "      <td>09/12/2021</td>\n",
       "      <td>25/03/2021</td>\n",
       "      <td>09/12/2021</td>\n",
       "    </tr>\n",
       "    <tr>\n",
       "      <th>2192</th>\n",
       "      <td>שעה נתון מקסימלי</td>\n",
       "      <td>00:00</td>\n",
       "      <td>00:00</td>\n",
       "      <td>00:00</td>\n",
       "      <td>00:00</td>\n",
       "      <td>00:00</td>\n",
       "      <td>00:00</td>\n",
       "      <td>00:00</td>\n",
       "      <td>00:00</td>\n",
       "      <td>00:00</td>\n",
       "      <td>...</td>\n",
       "      <td>NoData</td>\n",
       "      <td>00:00</td>\n",
       "      <td>00:00</td>\n",
       "      <td>00:00</td>\n",
       "      <td>00:00</td>\n",
       "      <td>00:00</td>\n",
       "      <td>00:00</td>\n",
       "      <td>00:00</td>\n",
       "      <td>00:00</td>\n",
       "      <td>00:00</td>\n",
       "    </tr>\n",
       "    <tr>\n",
       "      <th>2193</th>\n",
       "      <td>מינימלי</td>\n",
       "      <td>5.7</td>\n",
       "      <td>1.2</td>\n",
       "      <td>1.7</td>\n",
       "      <td>2.1</td>\n",
       "      <td>0.5</td>\n",
       "      <td>-0.4</td>\n",
       "      <td>0.4</td>\n",
       "      <td>-28.3</td>\n",
       "      <td>1.6</td>\n",
       "      <td>...</td>\n",
       "      <td>NoData</td>\n",
       "      <td>2.4</td>\n",
       "      <td>2.6</td>\n",
       "      <td>2.4</td>\n",
       "      <td>0.7</td>\n",
       "      <td>2.7</td>\n",
       "      <td>3.2</td>\n",
       "      <td>3.6</td>\n",
       "      <td>2.6</td>\n",
       "      <td>7.9</td>\n",
       "    </tr>\n",
       "    <tr>\n",
       "      <th>2194</th>\n",
       "      <td>תאריך נתון מינימלי</td>\n",
       "      <td>20/02/2021</td>\n",
       "      <td>21/05/2017</td>\n",
       "      <td>31/12/2016</td>\n",
       "      <td>28/12/2019</td>\n",
       "      <td>08/02/2016</td>\n",
       "      <td>11/04/2019</td>\n",
       "      <td>18/02/2021</td>\n",
       "      <td>09/01/2019</td>\n",
       "      <td>18/02/2021</td>\n",
       "      <td>...</td>\n",
       "      <td>NoData</td>\n",
       "      <td>04/10/2020</td>\n",
       "      <td>20/10/2021</td>\n",
       "      <td>20/10/2021</td>\n",
       "      <td>18/02/2021</td>\n",
       "      <td>05/11/2020</td>\n",
       "      <td>18/02/2021</td>\n",
       "      <td>11/04/2021</td>\n",
       "      <td>03/12/2021</td>\n",
       "      <td>22/07/2021</td>\n",
       "    </tr>\n",
       "    <tr>\n",
       "      <th>2195</th>\n",
       "      <td>שעה נתון מינימלי</td>\n",
       "      <td>00:00</td>\n",
       "      <td>00:00</td>\n",
       "      <td>00:00</td>\n",
       "      <td>00:00</td>\n",
       "      <td>00:00</td>\n",
       "      <td>00:00</td>\n",
       "      <td>00:00</td>\n",
       "      <td>00:00</td>\n",
       "      <td>00:00</td>\n",
       "      <td>...</td>\n",
       "      <td>NoData</td>\n",
       "      <td>00:00</td>\n",
       "      <td>00:00</td>\n",
       "      <td>00:00</td>\n",
       "      <td>00:00</td>\n",
       "      <td>00:00</td>\n",
       "      <td>00:00</td>\n",
       "      <td>00:00</td>\n",
       "      <td>00:00</td>\n",
       "      <td>00:00</td>\n",
       "    </tr>\n",
       "  </tbody>\n",
       "</table>\n",
       "<p>2196 rows × 96 columns</p>\n",
       "</div>"
      ],
      "text/plain": [
       "     סוג: ממוצע, זמן מיצוע: 24 שעות, Period:01/01/2016 00:01 - 22/12/2021 00:00  \\\n",
       "0                                                   NaN                           \n",
       "1                                            תאריך ושעה                           \n",
       "2                                                   NaN                           \n",
       "3                                                   NaN                           \n",
       "4                                      24:00 01/01/2016                           \n",
       "...                                                 ...                           \n",
       "2191                                 תאריך נתון מקסימלי                           \n",
       "2192                                   שעה נתון מקסימלי                           \n",
       "2193                                            מינימלי                           \n",
       "2194                                 תאריך נתון מינימלי                           \n",
       "2195                                   שעה נתון מינימלי                           \n",
       "\n",
       "                 Unnamed: 1             Unnamed: 2        Unnamed: 3  \\\n",
       "0                       NaN                    NaN               NaN   \n",
       "1     תל אביב-יפו, רחוב לחי  ירושלים, רחוב בר אילן  באר שבע, שכונה ו   \n",
       "2                     PM2.5                  PM2.5             PM2.5   \n",
       "3                     µg/m³                  µg/m³             µg/m³   \n",
       "4                    NoData                   15.7               2.5   \n",
       "...                     ...                    ...               ...   \n",
       "2191             25/03/2021             17/02/2018        09/01/2016   \n",
       "2192                  00:00                  00:00             00:00   \n",
       "2193                    5.7                    1.2               1.7   \n",
       "2194             20/02/2021             21/05/2017        31/12/2016   \n",
       "2195                  00:00                  00:00             00:00   \n",
       "\n",
       "         Unnamed: 4            Unnamed: 5    Unnamed: 6  \\\n",
       "0               NaN                   NaN           NaN   \n",
       "1     ירושלים, בקעה  אלון שבות, גוש עציון  חולון, חולון   \n",
       "2             PM2.5                 PM2.5         PM2.5   \n",
       "3             µg/m³                 µg/m³         µg/m³   \n",
       "4               2.5              &lt;Samp           5.8   \n",
       "...             ...                   ...           ...   \n",
       "2191     17/02/2018            09/01/2016    19/01/2016   \n",
       "2192          00:00                 00:00         00:00   \n",
       "2193            2.1                   0.5          -0.4   \n",
       "2194     28/12/2019            08/02/2016    11/04/2019   \n",
       "2195          00:00                 00:00         00:00   \n",
       "\n",
       "                         Unnamed: 7                Unnamed: 8  \\\n",
       "0                               NaN                       NaN   \n",
       "1     תל אביב-יפו, רחוב יהודה המכבי  בני ברק, רחוב ז'בוטינסקי   \n",
       "2                             PM2.5                     PM2.5   \n",
       "3                             µg/m³                     µg/m³   \n",
       "4                               6.3                  &lt;Samp   \n",
       "...                             ...                       ...   \n",
       "2191                     19/01/2016                19/01/2016   \n",
       "2192                          00:00                     00:00   \n",
       "2193                            0.4                     -28.3   \n",
       "2194                     18/02/2021                09/01/2019   \n",
       "2195                          00:00                     00:00   \n",
       "\n",
       "           Unnamed: 9  ...                 Unnamed: 86       Unnamed: 87  \\\n",
       "0                 NaN  ...                         NaN               NaN   \n",
       "1     בני ברק, כביש 4  ...  ירושלים, רחוב דבורה הנביאה  אביגדור, אביגדור   \n",
       "2               PM2.5  ...                       PM2.5             PM2.5   \n",
       "3               µg/m³  ...                       µg/m³             µg/m³   \n",
       "4                 5.1  ...                      NoData            NoData   \n",
       "...               ...  ...                         ...               ...   \n",
       "2191       09/01/2016  ...                      NoData        25/03/2021   \n",
       "2192            00:00  ...                      NoData             00:00   \n",
       "2193              1.6  ...                      NoData               2.4   \n",
       "2194       18/02/2021  ...                      NoData        04/10/2020   \n",
       "2195            00:00  ...                      NoData             00:00   \n",
       "\n",
       "           Unnamed: 88       Unnamed: 89               Unnamed: 90  \\\n",
       "0                  NaN               NaN                       NaN   \n",
       "1     תימורים, תימורים  נחשולים, נחשולים  חיפה, קרית חיים - מערבית   \n",
       "2                PM2.5             PM2.5                     PM2.5   \n",
       "3                µg/m³             µg/m³                     µg/m³   \n",
       "4               NoData            NoData                    NoData   \n",
       "...                ...               ...                       ...   \n",
       "2191        01/11/2020        25/03/2020                25/03/2021   \n",
       "2192             00:00             00:00                     00:00   \n",
       "2193               2.6               2.4                       0.7   \n",
       "2194        20/10/2021        20/10/2021                18/02/2021   \n",
       "2195             00:00             00:00                     00:00   \n",
       "\n",
       "         Unnamed: 91 Unnamed: 92          Unnamed: 93   Unnamed: 94  \\\n",
       "0                NaN         NaN                  NaN           NaN   \n",
       "1     איבטין, איבטין  חריש, חריש  ירושלים, מלכי ישראל  אלעד, רובע א   \n",
       "2              PM2.5       PM2.5                PM2.5         PM2.5   \n",
       "3              µg/m³       µg/m³                µg/m³         µg/m³   \n",
       "4             NoData      NoData               NoData        NoData   \n",
       "...              ...         ...                  ...           ...   \n",
       "2191      25/03/2021  25/03/2021           09/12/2021    25/03/2021   \n",
       "2192           00:00       00:00                00:00         00:00   \n",
       "2193             2.7         3.2                  3.6           2.6   \n",
       "2194      05/11/2020  18/02/2021           11/04/2021    03/12/2021   \n",
       "2195           00:00       00:00                00:00         00:00   \n",
       "\n",
       "             Unnamed: 95  \n",
       "0                    NaN  \n",
       "1     רמלה, שכונת האמנים  \n",
       "2                  PM2.5  \n",
       "3                  µg/m³  \n",
       "4                 NoData  \n",
       "...                  ...  \n",
       "2191          09/12/2021  \n",
       "2192               00:00  \n",
       "2193                 7.9  \n",
       "2194          22/07/2021  \n",
       "2195               00:00  \n",
       "\n",
       "[2196 rows x 96 columns]"
      ]
     },
     "execution_count": 3,
     "metadata": {},
     "output_type": "execute_result"
    }
   ],
   "source": [
    "dfs=[pm25_df,pm10_df,Nox_df,So2_df ]\n",
    "dfs[0]"
   ]
  },
  {
   "cell_type": "markdown",
   "metadata": {},
   "source": [
    "row 0 is all nan\n",
    "so we slice the first row and last 10 are non relevnt\n"
   ]
  },
  {
   "cell_type": "code",
   "execution_count": 4,
   "metadata": {},
   "outputs": [],
   "source": [
    "for i in range (len(dfs)):\n",
    "    dfs[i] = dfs[i][1:]\n",
    "    dfs[i] = dfs[i][:-10]"
   ]
  },
  {
   "cell_type": "markdown",
   "metadata": {},
   "source": [
    "Names the column by the cities in the first new row"
   ]
  },
  {
   "cell_type": "code",
   "execution_count": 5,
   "metadata": {},
   "outputs": [],
   "source": [
    "for i in range (len(dfs)):\n",
    "    cols_names = dfs[i][:1]\n",
    "    dfs[i] = dfs[i][1:]\n",
    "    dfs[i].columns = np.array( cols_names)[0]\n"
   ]
  },
  {
   "cell_type": "markdown",
   "metadata": {},
   "source": [
    "Now two first Rows are type of pollution and std (i think)"
   ]
  },
  {
   "cell_type": "code",
   "execution_count": 6,
   "metadata": {},
   "outputs": [],
   "source": [
    "for i in range (len(dfs)):\n",
    "    dfs[i] = dfs[i][2:]"
   ]
  },
  {
   "cell_type": "markdown",
   "metadata": {},
   "source": [
    "Chande the column date to date type"
   ]
  },
  {
   "cell_type": "code",
   "execution_count": 7,
   "metadata": {},
   "outputs": [],
   "source": [
    "for i in range (len(dfs)):\n",
    "    #no need it the string 24:00 and other stiring\n",
    "    dfs[i][dfs[i].columns[0]]= dfs[i][dfs[i].columns[0]].replace(\"24:00\",\"\" ,regex=True)\n",
    "    dfs[i]= dfs[i].replace(\"NoData\", np.NaN, regex=True)\n",
    "    dfs[i]= dfs[i].replace(\"&lt;Samp\", np.NaN, regex=True)\n",
    "    dfs[i]= dfs[i].replace(\"Down\", np.NaN, regex=True)\n",
    "    dfs[i]= dfs[i].replace(\"InVld\", np.NaN, regex=True)\n",
    "    dfs[i]= dfs[i].replace(\"Calib\", np.NaN, regex=True)\n",
    "    dfs[i]= dfs[i].replace(\"_\", np.NaN, regex=True)\n",
    "\n",
    "    dfs[i][dfs[i].columns[0]] = pd.to_datetime( dfs[i][dfs[i].columns[0]])\n",
    "    for j in range(1,len(dfs[i].columns)):\n",
    "        dfs[i][dfs[i].columns[j]] = dfs[i][dfs[i].columns[j]].astype(\"float64\")\n"
   ]
  },
  {
   "cell_type": "markdown",
   "metadata": {},
   "source": [
    "save in the orignal dfs"
   ]
  },
  {
   "cell_type": "code",
   "execution_count": 10,
   "metadata": {},
   "outputs": [],
   "source": [
    "pm25_df = dfs[0] \n",
    "pm10_df = dfs[1]\n",
    "Nox_df = dfs[2]\n",
    "So2_df = dfs[3]\n",
    "\n"
   ]
  },
  {
   "cell_type": "code",
   "execution_count": 15,
   "metadata": {},
   "outputs": [],
   "source": [
    "pm25_df.to_excel(\"pm25_cleaner_NEW_WITH_NO_DROP_CITIES.xlsx\")\n",
    "pm10_df.to_excel(\"pm10_cleaner_NEW_WITH_NO_DROP_CITIES.xlsx\")\n",
    "Nox_df.to_excel(\"Nox_cleaner_NEW_WITH_NO_DROP_CITIES.xlsx\")\n",
    "So2_df.to_excel(\"So2_cleaner_NEW_WITH_NO_DROP_CITIES.xlsx\")"
   ]
  },
  {
   "cell_type": "markdown",
   "metadata": {},
   "source": [
    "Change df to date,city and value"
   ]
  },
  {
   "cell_type": "code",
   "execution_count": 16,
   "metadata": {},
   "outputs": [],
   "source": [
    "for i in range (len(dfs)):\n",
    "    dfs[i] = pd.melt(dfs[i], 'תאריך ושעה')\n",
    "    dfs[i] = dfs[i].sort_values(\"תאריך ושעה\")\n",
    "    dfs[i].reset_index(drop=True,inplace=True)\n",
    "    dfs[i].columns = [\"Date\",\"City\",\"Value\"]"
   ]
  },
  {
   "cell_type": "markdown",
   "metadata": {},
   "source": [
    "change column name by pollutions"
   ]
  },
  {
   "cell_type": "code",
   "execution_count": 17,
   "metadata": {},
   "outputs": [],
   "source": [
    "dfs[0].columns = [\"Date\",\"City\",\"PM25\"]\n",
    "dfs[1].columns = [\"Date\",\"City\",\"PM10\"]\n",
    "dfs[2].columns = [\"Date\",\"City\",\"Nox\"]\n",
    "dfs[3].columns = [\"Date\",\"City\",\"So2\"]\n",
    "\n"
   ]
  },
  {
   "cell_type": "code",
   "execution_count": 18,
   "metadata": {},
   "outputs": [],
   "source": [
    "# name citiys \n",
    "\n",
    "citiys = [ word.split(\",\")[0] for i in range (4) for word in dfs[i].City.unique() ]\n",
    "citiys = list(set(citiys))"
   ]
  },
  {
   "cell_type": "code",
   "execution_count": 19,
   "metadata": {},
   "outputs": [
    {
     "name": "stderr",
     "output_type": "stream",
     "text": [
      "C:\\Users\\asars\\AppData\\Local\\Temp/ipykernel_1884/590537316.py:3: SettingWithCopyWarning: \n",
      "A value is trying to be set on a copy of a slice from a DataFrame\n",
      "\n",
      "See the caveats in the documentation: https://pandas.pydata.org/pandas-docs/stable/user_guide/indexing.html#returning-a-view-versus-a-copy\n",
      "  dfs[i].City[dfs[i].City.str.contains(citiys[j])] = citiys[j]\n"
     ]
    }
   ],
   "source": [
    "#change cities name for more comfortable\n",
    "for i in range(4):\n",
    "    for j in range(len(citiys)):\n",
    "        dfs[i].City[dfs[i].City.str.contains(citiys[j])] = citiys[j]"
   ]
  },
  {
   "cell_type": "code",
   "execution_count": 20,
   "metadata": {},
   "outputs": [],
   "source": [
    "for i in range(4):\n",
    "    tmp = dfs[i]\n",
    "    tmp2 = tmp.groupby([\"Date\",'City'], sort=False)[tmp.columns[-1]].max()\n",
    "    tmp3=tmp2.reset_index()\n",
    "    dfs[i] = tmp3"
   ]
  },
  {
   "cell_type": "markdown",
   "metadata": {},
   "source": [
    "merge dfs"
   ]
  },
  {
   "cell_type": "code",
   "execution_count": 21,
   "metadata": {},
   "outputs": [],
   "source": [
    "df_m=dfs[0]\n",
    "df_m=df_m.merge(right=dfs[1],how=\"inner\",on=[\"Date\",\"City\"])\n",
    "df_m=df_m.merge(right=dfs[2],how=\"inner\",on=[\"Date\",\"City\"])\n",
    "df_m=df_m.merge(right=dfs[3],how=\"inner\",on=[\"Date\",\"City\"])\n",
    "df_m.to_excel('merag.xlsx')"
   ]
  },
  {
   "cell_type": "markdown",
   "metadata": {},
   "source": [
    "merage all dfs into one and save it without null"
   ]
  },
  {
   "cell_type": "code",
   "execution_count": 22,
   "metadata": {},
   "outputs": [
    {
     "name": "stdout",
     "output_type": "stream",
     "text": [
      "(17456, 6)\n"
     ]
    },
    {
     "data": {
      "text/plain": [
       "(14154, 6)"
      ]
     },
     "execution_count": 22,
     "metadata": {},
     "output_type": "execute_result"
    }
   ],
   "source": [
    "print(df_m.shape)\n",
    "df_m_NoNan=df_m.dropna(thresh=6)\n",
    "df_m_NoNan.shape"
   ]
  },
  {
   "cell_type": "markdown",
   "metadata": {},
   "source": [
    "Check how many dates have been lost"
   ]
  },
  {
   "cell_type": "code",
   "execution_count": 23,
   "metadata": {},
   "outputs": [
    {
     "name": "stdout",
     "output_type": "stream",
     "text": [
      "Number of unique dates: with null 2182\n",
      "Number of unique dates: with without null 2181\n"
     ]
    }
   ],
   "source": [
    "print(\"Number of unique dates: with null\",df_m.Date.nunique())\n",
    "print(\"Number of unique dates: with without null\",df_m_NoNan.Date.nunique())"
   ]
  },
  {
   "cell_type": "markdown",
   "metadata": {},
   "source": [
    "Save merage without null"
   ]
  },
  {
   "cell_type": "code",
   "execution_count": 24,
   "metadata": {},
   "outputs": [],
   "source": [
    "df_m_NoNan.to_excel(\"merageWithoutNull.xlsx\")\n"
   ]
  },
  {
   "cell_type": "code",
   "execution_count": 25,
   "metadata": {},
   "outputs": [
    {
     "data": {
      "text/plain": [
       "2019-05-24    8\n",
       "2019-08-20    8\n",
       "2020-11-15    8\n",
       "2020-11-14    8\n",
       "2020-11-13    8\n",
       "             ..\n",
       "2016-06-15    7\n",
       "2016-06-17    7\n",
       "2016-06-18    7\n",
       "2016-06-20    7\n",
       "2016-06-21    7\n",
       "Name: Date, Length: 1000, dtype: int64"
      ]
     },
     "execution_count": 25,
     "metadata": {},
     "output_type": "execute_result"
    }
   ],
   "source": [
    "df_m_NoNan[\"Date\"].value_counts().nlargest(1000)"
   ]
  },
  {
   "cell_type": "code",
   "execution_count": 26,
   "metadata": {},
   "outputs": [],
   "source": [
    "# dfs[0].isna().sum()/len(dfs[0])*100\n",
    "# pm25_df = dfs[0] \n",
    "# pm10_df = dfs[1]\n",
    "# Nox_df = dfs[2]\n",
    "# So2_df = dfs[3]\n",
    "# pm25_df"
   ]
  },
  {
   "cell_type": "code",
   "execution_count": 27,
   "metadata": {},
   "outputs": [],
   "source": []
  },
  {
   "cell_type": "code",
   "execution_count": 28,
   "metadata": {},
   "outputs": [
    {
     "data": {
      "text/html": [
       "<div>\n",
       "<style scoped>\n",
       "    .dataframe tbody tr th:only-of-type {\n",
       "        vertical-align: middle;\n",
       "    }\n",
       "\n",
       "    .dataframe tbody tr th {\n",
       "        vertical-align: top;\n",
       "    }\n",
       "\n",
       "    .dataframe thead th {\n",
       "        text-align: right;\n",
       "    }\n",
       "</style>\n",
       "<table border=\"1\" class=\"dataframe\">\n",
       "  <thead>\n",
       "    <tr style=\"text-align: right;\">\n",
       "      <th></th>\n",
       "      <th>Date</th>\n",
       "      <th>City</th>\n",
       "      <th>PM25</th>\n",
       "      <th>PM10</th>\n",
       "      <th>Nox</th>\n",
       "      <th>So2</th>\n",
       "    </tr>\n",
       "  </thead>\n",
       "  <tbody>\n",
       "    <tr>\n",
       "      <th>0</th>\n",
       "      <td>2016-01-01</td>\n",
       "      <td>באר שבע</td>\n",
       "      <td>2.5</td>\n",
       "      <td>4.9</td>\n",
       "      <td>3.4</td>\n",
       "      <td>0.8</td>\n",
       "    </tr>\n",
       "    <tr>\n",
       "      <th>1</th>\n",
       "      <td>2016-01-01</td>\n",
       "      <td>חיפה</td>\n",
       "      <td>6.7</td>\n",
       "      <td>14.4</td>\n",
       "      <td>54.3</td>\n",
       "      <td>2.5</td>\n",
       "    </tr>\n",
       "    <tr>\n",
       "      <th>2</th>\n",
       "      <td>2016-01-01</td>\n",
       "      <td>נשר</td>\n",
       "      <td>5.3</td>\n",
       "      <td>17.8</td>\n",
       "      <td>8.3</td>\n",
       "      <td>0.4</td>\n",
       "    </tr>\n",
       "    <tr>\n",
       "      <th>3</th>\n",
       "      <td>2016-01-01</td>\n",
       "      <td>קריית אתא</td>\n",
       "      <td>5.6</td>\n",
       "      <td>21.7</td>\n",
       "      <td>6.2</td>\n",
       "      <td>0.3</td>\n",
       "    </tr>\n",
       "    <tr>\n",
       "      <th>6</th>\n",
       "      <td>2016-01-01</td>\n",
       "      <td>תל אביב-יפו</td>\n",
       "      <td>7.6</td>\n",
       "      <td>22.5</td>\n",
       "      <td>26.4</td>\n",
       "      <td>3.2</td>\n",
       "    </tr>\n",
       "  </tbody>\n",
       "</table>\n",
       "</div>"
      ],
      "text/plain": [
       "        Date         City  PM25  PM10   Nox  So2\n",
       "0 2016-01-01      באר שבע   2.5   4.9   3.4  0.8\n",
       "1 2016-01-01         חיפה   6.7  14.4  54.3  2.5\n",
       "2 2016-01-01          נשר   5.3  17.8   8.3  0.4\n",
       "3 2016-01-01    קריית אתא   5.6  21.7   6.2  0.3\n",
       "6 2016-01-01  תל אביב-יפו   7.6  22.5  26.4  3.2"
      ]
     },
     "execution_count": 28,
     "metadata": {},
     "output_type": "execute_result"
    }
   ],
   "source": [
    "df_m_NoNan.head()"
   ]
  },
  {
   "cell_type": "code",
   "execution_count": 37,
   "metadata": {},
   "outputs": [
    {
     "data": {
      "text/plain": [
       "array(['באר שבע', 'חיפה', 'נשר', 'קריית אתא', 'תל אביב-יפו', 'ערד',\n",
       "       'סדום', 'קיריית טבעון'], dtype=object)"
      ]
     },
     "execution_count": 37,
     "metadata": {},
     "output_type": "execute_result"
    }
   ],
   "source": [
    "df_m_NoNan.City.unique()"
   ]
  },
  {
   "cell_type": "code",
   "execution_count": null,
   "metadata": {},
   "outputs": [],
   "source": []
  }
 ],
 "metadata": {
  "kernelspec": {
   "display_name": "Python 3.9.9 64-bit",
   "language": "python",
   "name": "python3"
  },
  "language_info": {
   "codemirror_mode": {
    "name": "ipython",
    "version": 3
   },
   "file_extension": ".py",
   "mimetype": "text/x-python",
   "name": "python",
   "nbconvert_exporter": "python",
   "pygments_lexer": "ipython3",
   "version": "3.9.9"
  },
  "orig_nbformat": 4,
  "vscode": {
   "interpreter": {
    "hash": "ddf3f600d40d2341c955235ce25b28b4350cbf03e579f97bb09eddb1e42d4194"
   }
  }
 },
 "nbformat": 4,
 "nbformat_minor": 2
}
