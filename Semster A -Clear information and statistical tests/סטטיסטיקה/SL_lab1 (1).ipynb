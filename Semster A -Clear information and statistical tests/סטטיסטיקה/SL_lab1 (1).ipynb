{
  "cells": [
    {
      "cell_type": "markdown",
      "metadata": {
        "id": "Yjy-tvZ_jDHh"
      },
      "source": [
        "### **Statistical Learning - lab 1**\n"
      ]
    },
    {
      "cell_type": "markdown",
      "metadata": {
        "id": "IEAXWvmViudy"
      },
      "source": [
        "Three purposes of this lab:\n",
        "\n",
        "[**a. Recall already known python functions learned in the previous course**](#recall)\n",
        "\n",
        "[**b. Learn basic statistical tests learned in the <i>statistical inference</i> course**](#basic)\n",
        "\n",
        "[**c. Learn nonparametric tests in python**](#nonp)"
      ]
    },
    {
      "cell_type": "markdown",
      "metadata": {
        "id": "KvAPQtnjhmu3"
      },
      "source": [
        "Let's start with some reminders of basic python and matehmatics\n"
      ]
    },
    {
      "cell_type": "markdown",
      "metadata": {
        "id": "UEk8JP0NkQBF"
      },
      "source": [
        "**Basic mathematics in python**\n",
        "<a id='recall'></a>\n"
      ]
    },
    {
      "cell_type": "code",
      "execution_count": 1,
      "metadata": {
        "colab": {
          "base_uri": "https://localhost:8080/"
        },
        "id": "IJwceMNWhf0L",
        "outputId": "58749f86-1690-4964-9aec-709697477568"
      },
      "outputs": [
        {
          "name": "stdout",
          "output_type": "stream",
          "text": [
            "9\n",
            "20\n",
            "1024\n",
            "<class 'int'>\n",
            "0.8\n",
            "<class 'float'>\n",
            "0.8\n",
            "<class 'float'>\n"
          ]
        }
      ],
      "source": [
        "a=4\n",
        "b=5\n",
        "print(a+b)\n",
        "print(a*b)\n",
        "print(a**b)\n",
        "print(type(a))\n",
        "\n",
        "print(a/b)\n",
        "print(type(a/b))\n",
        "\n",
        "\n",
        "c=(float(a)/b)\n",
        "print(c)\n",
        "print(type(c))"
      ]
    },
    {
      "cell_type": "markdown",
      "metadata": {
        "id": "Ql4-XTfzksIr"
      },
      "source": [
        "\n",
        "**More mathematics**\n"
      ]
    },
    {
      "cell_type": "code",
      "execution_count": 2,
      "metadata": {
        "colab": {
          "base_uri": "https://localhost:8080/"
        },
        "id": "KLtEpZhnhqB2",
        "outputId": "1d8425b6-ebc9-4b2c-ec88-ae817bee2719"
      },
      "outputs": [
        {
          "name": "stdout",
          "output_type": "stream",
          "text": [
            "2.0\n",
            "24\n"
          ]
        },
        {
          "data": {
            "text/plain": [
              "210.0"
            ]
          },
          "execution_count": 2,
          "metadata": {},
          "output_type": "execute_result"
        }
      ],
      "source": [
        "import math  #  This command will import all functions from the math module.\n",
        "print(math.sqrt(a))  # this is executed!\n",
        "print(math.factorial(a))\n",
        "\n",
        "# n choose k (10 choose 4) \n",
        "# 10 over 4\n",
        "c=10\n",
        "(math.factorial(c))/((math.factorial(a))*(math.factorial(c-a)))\n"
      ]
    },
    {
      "cell_type": "markdown",
      "metadata": {
        "id": "D1GnxPRCluHC"
      },
      "source": [
        "Binomial calculations"
      ]
    },
    {
      "cell_type": "code",
      "execution_count": 3,
      "metadata": {
        "colab": {
          "base_uri": "https://localhost:8080/"
        },
        "id": "QHjizFSyldUf",
        "outputId": "12ee740c-6a8a-427c-9e0b-f1a34776e6c8"
      },
      "outputs": [
        {
          "data": {
            "text/plain": [
              "0.03125"
            ]
          },
          "execution_count": 3,
          "metadata": {},
          "output_type": "execute_result"
        }
      ],
      "source": [
        "# what is the chance to get six successes when n=6?\n",
        "from scipy import stats\n",
        "stats.binom_test(6, n=6, p=0.5, alternative='greater')\n",
        "stats.binom_test(6, n=6, p=0.5, alternative='two-sided')\n"
      ]
    },
    {
      "cell_type": "markdown",
      "metadata": {
        "id": "MOU_YxaXsBzB"
      },
      "source": [
        "**And pandas**"
      ]
    },
    {
      "cell_type": "code",
      "execution_count": 4,
      "metadata": {
        "id": "QjB5WG5EsCh2"
      },
      "outputs": [],
      "source": [
        "import pandas as pd # import the pandas library with the convention alias \"pd\"\n",
        "import numpy as np  # import the numpy library with the convention alias \"np\""
      ]
    },
    {
      "cell_type": "code",
      "execution_count": 5,
      "metadata": {
        "colab": {
          "base_uri": "https://localhost:8080/",
          "height": 669
        },
        "id": "znJi93NIvG2O",
        "outputId": "ef29f47f-d647-4476-a12f-d0a2d6dedcc6"
      },
      "outputs": [
        {
          "ename": "FileNotFoundError",
          "evalue": "[Errno 2] No such file or directory: 'salaries.csv'",
          "output_type": "error",
          "traceback": [
            "\u001b[1;31m---------------------------------------------------------------------------\u001b[0m",
            "\u001b[1;31mFileNotFoundError\u001b[0m                         Traceback (most recent call last)",
            "\u001b[1;32m~\\AppData\\Local\\Temp/ipykernel_17940/2461700433.py\u001b[0m in \u001b[0;36m<module>\u001b[1;34m\u001b[0m\n\u001b[1;32m----> 1\u001b[1;33m \u001b[0mdf\u001b[0m \u001b[1;33m=\u001b[0m \u001b[0mpd\u001b[0m\u001b[1;33m.\u001b[0m\u001b[0mread_csv\u001b[0m\u001b[1;33m(\u001b[0m\u001b[1;34m\"salaries.csv\"\u001b[0m\u001b[1;33m)\u001b[0m\u001b[1;33m\u001b[0m\u001b[1;33m\u001b[0m\u001b[0m\n\u001b[0m\u001b[0;32m      2\u001b[0m \u001b[0mdf\u001b[0m\u001b[1;33m.\u001b[0m\u001b[0mhead\u001b[0m\u001b[1;33m(\u001b[0m\u001b[1;36m20\u001b[0m\u001b[1;33m)\u001b[0m\u001b[1;33m\u001b[0m\u001b[1;33m\u001b[0m\u001b[0m\n",
            "\u001b[1;32mc:\\Users\\asars\\AppData\\Local\\Programs\\Python\\Python39\\lib\\site-packages\\pandas\\util\\_decorators.py\u001b[0m in \u001b[0;36mwrapper\u001b[1;34m(*args, **kwargs)\u001b[0m\n\u001b[0;32m    309\u001b[0m                     \u001b[0mstacklevel\u001b[0m\u001b[1;33m=\u001b[0m\u001b[0mstacklevel\u001b[0m\u001b[1;33m,\u001b[0m\u001b[1;33m\u001b[0m\u001b[1;33m\u001b[0m\u001b[0m\n\u001b[0;32m    310\u001b[0m                 )\n\u001b[1;32m--> 311\u001b[1;33m             \u001b[1;32mreturn\u001b[0m \u001b[0mfunc\u001b[0m\u001b[1;33m(\u001b[0m\u001b[1;33m*\u001b[0m\u001b[0margs\u001b[0m\u001b[1;33m,\u001b[0m \u001b[1;33m**\u001b[0m\u001b[0mkwargs\u001b[0m\u001b[1;33m)\u001b[0m\u001b[1;33m\u001b[0m\u001b[1;33m\u001b[0m\u001b[0m\n\u001b[0m\u001b[0;32m    312\u001b[0m \u001b[1;33m\u001b[0m\u001b[0m\n\u001b[0;32m    313\u001b[0m         \u001b[1;32mreturn\u001b[0m \u001b[0mwrapper\u001b[0m\u001b[1;33m\u001b[0m\u001b[1;33m\u001b[0m\u001b[0m\n",
            "\u001b[1;32mc:\\Users\\asars\\AppData\\Local\\Programs\\Python\\Python39\\lib\\site-packages\\pandas\\io\\parsers\\readers.py\u001b[0m in \u001b[0;36mread_csv\u001b[1;34m(filepath_or_buffer, sep, delimiter, header, names, index_col, usecols, squeeze, prefix, mangle_dupe_cols, dtype, engine, converters, true_values, false_values, skipinitialspace, skiprows, skipfooter, nrows, na_values, keep_default_na, na_filter, verbose, skip_blank_lines, parse_dates, infer_datetime_format, keep_date_col, date_parser, dayfirst, cache_dates, iterator, chunksize, compression, thousands, decimal, lineterminator, quotechar, quoting, doublequote, escapechar, comment, encoding, encoding_errors, dialect, error_bad_lines, warn_bad_lines, on_bad_lines, delim_whitespace, low_memory, memory_map, float_precision, storage_options)\u001b[0m\n\u001b[0;32m    584\u001b[0m     \u001b[0mkwds\u001b[0m\u001b[1;33m.\u001b[0m\u001b[0mupdate\u001b[0m\u001b[1;33m(\u001b[0m\u001b[0mkwds_defaults\u001b[0m\u001b[1;33m)\u001b[0m\u001b[1;33m\u001b[0m\u001b[1;33m\u001b[0m\u001b[0m\n\u001b[0;32m    585\u001b[0m \u001b[1;33m\u001b[0m\u001b[0m\n\u001b[1;32m--> 586\u001b[1;33m     \u001b[1;32mreturn\u001b[0m \u001b[0m_read\u001b[0m\u001b[1;33m(\u001b[0m\u001b[0mfilepath_or_buffer\u001b[0m\u001b[1;33m,\u001b[0m \u001b[0mkwds\u001b[0m\u001b[1;33m)\u001b[0m\u001b[1;33m\u001b[0m\u001b[1;33m\u001b[0m\u001b[0m\n\u001b[0m\u001b[0;32m    587\u001b[0m \u001b[1;33m\u001b[0m\u001b[0m\n\u001b[0;32m    588\u001b[0m \u001b[1;33m\u001b[0m\u001b[0m\n",
            "\u001b[1;32mc:\\Users\\asars\\AppData\\Local\\Programs\\Python\\Python39\\lib\\site-packages\\pandas\\io\\parsers\\readers.py\u001b[0m in \u001b[0;36m_read\u001b[1;34m(filepath_or_buffer, kwds)\u001b[0m\n\u001b[0;32m    480\u001b[0m \u001b[1;33m\u001b[0m\u001b[0m\n\u001b[0;32m    481\u001b[0m     \u001b[1;31m# Create the parser.\u001b[0m\u001b[1;33m\u001b[0m\u001b[1;33m\u001b[0m\u001b[0m\n\u001b[1;32m--> 482\u001b[1;33m     \u001b[0mparser\u001b[0m \u001b[1;33m=\u001b[0m \u001b[0mTextFileReader\u001b[0m\u001b[1;33m(\u001b[0m\u001b[0mfilepath_or_buffer\u001b[0m\u001b[1;33m,\u001b[0m \u001b[1;33m**\u001b[0m\u001b[0mkwds\u001b[0m\u001b[1;33m)\u001b[0m\u001b[1;33m\u001b[0m\u001b[1;33m\u001b[0m\u001b[0m\n\u001b[0m\u001b[0;32m    483\u001b[0m \u001b[1;33m\u001b[0m\u001b[0m\n\u001b[0;32m    484\u001b[0m     \u001b[1;32mif\u001b[0m \u001b[0mchunksize\u001b[0m \u001b[1;32mor\u001b[0m \u001b[0miterator\u001b[0m\u001b[1;33m:\u001b[0m\u001b[1;33m\u001b[0m\u001b[1;33m\u001b[0m\u001b[0m\n",
            "\u001b[1;32mc:\\Users\\asars\\AppData\\Local\\Programs\\Python\\Python39\\lib\\site-packages\\pandas\\io\\parsers\\readers.py\u001b[0m in \u001b[0;36m__init__\u001b[1;34m(self, f, engine, **kwds)\u001b[0m\n\u001b[0;32m    809\u001b[0m             \u001b[0mself\u001b[0m\u001b[1;33m.\u001b[0m\u001b[0moptions\u001b[0m\u001b[1;33m[\u001b[0m\u001b[1;34m\"has_index_names\"\u001b[0m\u001b[1;33m]\u001b[0m \u001b[1;33m=\u001b[0m \u001b[0mkwds\u001b[0m\u001b[1;33m[\u001b[0m\u001b[1;34m\"has_index_names\"\u001b[0m\u001b[1;33m]\u001b[0m\u001b[1;33m\u001b[0m\u001b[1;33m\u001b[0m\u001b[0m\n\u001b[0;32m    810\u001b[0m \u001b[1;33m\u001b[0m\u001b[0m\n\u001b[1;32m--> 811\u001b[1;33m         \u001b[0mself\u001b[0m\u001b[1;33m.\u001b[0m\u001b[0m_engine\u001b[0m \u001b[1;33m=\u001b[0m \u001b[0mself\u001b[0m\u001b[1;33m.\u001b[0m\u001b[0m_make_engine\u001b[0m\u001b[1;33m(\u001b[0m\u001b[0mself\u001b[0m\u001b[1;33m.\u001b[0m\u001b[0mengine\u001b[0m\u001b[1;33m)\u001b[0m\u001b[1;33m\u001b[0m\u001b[1;33m\u001b[0m\u001b[0m\n\u001b[0m\u001b[0;32m    812\u001b[0m \u001b[1;33m\u001b[0m\u001b[0m\n\u001b[0;32m    813\u001b[0m     \u001b[1;32mdef\u001b[0m \u001b[0mclose\u001b[0m\u001b[1;33m(\u001b[0m\u001b[0mself\u001b[0m\u001b[1;33m)\u001b[0m\u001b[1;33m:\u001b[0m\u001b[1;33m\u001b[0m\u001b[1;33m\u001b[0m\u001b[0m\n",
            "\u001b[1;32mc:\\Users\\asars\\AppData\\Local\\Programs\\Python\\Python39\\lib\\site-packages\\pandas\\io\\parsers\\readers.py\u001b[0m in \u001b[0;36m_make_engine\u001b[1;34m(self, engine)\u001b[0m\n\u001b[0;32m   1038\u001b[0m             )\n\u001b[0;32m   1039\u001b[0m         \u001b[1;31m# error: Too many arguments for \"ParserBase\"\u001b[0m\u001b[1;33m\u001b[0m\u001b[1;33m\u001b[0m\u001b[0m\n\u001b[1;32m-> 1040\u001b[1;33m         \u001b[1;32mreturn\u001b[0m \u001b[0mmapping\u001b[0m\u001b[1;33m[\u001b[0m\u001b[0mengine\u001b[0m\u001b[1;33m]\u001b[0m\u001b[1;33m(\u001b[0m\u001b[0mself\u001b[0m\u001b[1;33m.\u001b[0m\u001b[0mf\u001b[0m\u001b[1;33m,\u001b[0m \u001b[1;33m**\u001b[0m\u001b[0mself\u001b[0m\u001b[1;33m.\u001b[0m\u001b[0moptions\u001b[0m\u001b[1;33m)\u001b[0m  \u001b[1;31m# type: ignore[call-arg]\u001b[0m\u001b[1;33m\u001b[0m\u001b[1;33m\u001b[0m\u001b[0m\n\u001b[0m\u001b[0;32m   1041\u001b[0m \u001b[1;33m\u001b[0m\u001b[0m\n\u001b[0;32m   1042\u001b[0m     \u001b[1;32mdef\u001b[0m \u001b[0m_failover_to_python\u001b[0m\u001b[1;33m(\u001b[0m\u001b[0mself\u001b[0m\u001b[1;33m)\u001b[0m\u001b[1;33m:\u001b[0m\u001b[1;33m\u001b[0m\u001b[1;33m\u001b[0m\u001b[0m\n",
            "\u001b[1;32mc:\\Users\\asars\\AppData\\Local\\Programs\\Python\\Python39\\lib\\site-packages\\pandas\\io\\parsers\\c_parser_wrapper.py\u001b[0m in \u001b[0;36m__init__\u001b[1;34m(self, src, **kwds)\u001b[0m\n\u001b[0;32m     49\u001b[0m \u001b[1;33m\u001b[0m\u001b[0m\n\u001b[0;32m     50\u001b[0m         \u001b[1;31m# open handles\u001b[0m\u001b[1;33m\u001b[0m\u001b[1;33m\u001b[0m\u001b[0m\n\u001b[1;32m---> 51\u001b[1;33m         \u001b[0mself\u001b[0m\u001b[1;33m.\u001b[0m\u001b[0m_open_handles\u001b[0m\u001b[1;33m(\u001b[0m\u001b[0msrc\u001b[0m\u001b[1;33m,\u001b[0m \u001b[0mkwds\u001b[0m\u001b[1;33m)\u001b[0m\u001b[1;33m\u001b[0m\u001b[1;33m\u001b[0m\u001b[0m\n\u001b[0m\u001b[0;32m     52\u001b[0m         \u001b[1;32massert\u001b[0m \u001b[0mself\u001b[0m\u001b[1;33m.\u001b[0m\u001b[0mhandles\u001b[0m \u001b[1;32mis\u001b[0m \u001b[1;32mnot\u001b[0m \u001b[1;32mNone\u001b[0m\u001b[1;33m\u001b[0m\u001b[1;33m\u001b[0m\u001b[0m\n\u001b[0;32m     53\u001b[0m \u001b[1;33m\u001b[0m\u001b[0m\n",
            "\u001b[1;32mc:\\Users\\asars\\AppData\\Local\\Programs\\Python\\Python39\\lib\\site-packages\\pandas\\io\\parsers\\base_parser.py\u001b[0m in \u001b[0;36m_open_handles\u001b[1;34m(self, src, kwds)\u001b[0m\n\u001b[0;32m    220\u001b[0m         \u001b[0mLet\u001b[0m \u001b[0mthe\u001b[0m \u001b[0mreaders\u001b[0m \u001b[0mopen\u001b[0m \u001b[0mIOHandles\u001b[0m \u001b[0mafter\u001b[0m \u001b[0mthey\u001b[0m \u001b[0mare\u001b[0m \u001b[0mdone\u001b[0m \u001b[1;32mwith\u001b[0m \u001b[0mtheir\u001b[0m \u001b[0mpotential\u001b[0m \u001b[0mraises\u001b[0m\u001b[1;33m.\u001b[0m\u001b[1;33m\u001b[0m\u001b[1;33m\u001b[0m\u001b[0m\n\u001b[0;32m    221\u001b[0m         \"\"\"\n\u001b[1;32m--> 222\u001b[1;33m         self.handles = get_handle(\n\u001b[0m\u001b[0;32m    223\u001b[0m             \u001b[0msrc\u001b[0m\u001b[1;33m,\u001b[0m\u001b[1;33m\u001b[0m\u001b[1;33m\u001b[0m\u001b[0m\n\u001b[0;32m    224\u001b[0m             \u001b[1;34m\"r\"\u001b[0m\u001b[1;33m,\u001b[0m\u001b[1;33m\u001b[0m\u001b[1;33m\u001b[0m\u001b[0m\n",
            "\u001b[1;32mc:\\Users\\asars\\AppData\\Local\\Programs\\Python\\Python39\\lib\\site-packages\\pandas\\io\\common.py\u001b[0m in \u001b[0;36mget_handle\u001b[1;34m(path_or_buf, mode, encoding, compression, memory_map, is_text, errors, storage_options)\u001b[0m\n\u001b[0;32m    700\u001b[0m         \u001b[1;32mif\u001b[0m \u001b[0mioargs\u001b[0m\u001b[1;33m.\u001b[0m\u001b[0mencoding\u001b[0m \u001b[1;32mand\u001b[0m \u001b[1;34m\"b\"\u001b[0m \u001b[1;32mnot\u001b[0m \u001b[1;32min\u001b[0m \u001b[0mioargs\u001b[0m\u001b[1;33m.\u001b[0m\u001b[0mmode\u001b[0m\u001b[1;33m:\u001b[0m\u001b[1;33m\u001b[0m\u001b[1;33m\u001b[0m\u001b[0m\n\u001b[0;32m    701\u001b[0m             \u001b[1;31m# Encoding\u001b[0m\u001b[1;33m\u001b[0m\u001b[1;33m\u001b[0m\u001b[0m\n\u001b[1;32m--> 702\u001b[1;33m             handle = open(\n\u001b[0m\u001b[0;32m    703\u001b[0m                 \u001b[0mhandle\u001b[0m\u001b[1;33m,\u001b[0m\u001b[1;33m\u001b[0m\u001b[1;33m\u001b[0m\u001b[0m\n\u001b[0;32m    704\u001b[0m                 \u001b[0mioargs\u001b[0m\u001b[1;33m.\u001b[0m\u001b[0mmode\u001b[0m\u001b[1;33m,\u001b[0m\u001b[1;33m\u001b[0m\u001b[1;33m\u001b[0m\u001b[0m\n",
            "\u001b[1;31mFileNotFoundError\u001b[0m: [Errno 2] No such file or directory: 'salaries.csv'"
          ]
        }
      ],
      "source": [
        "df = pd.read_csv(\"salaries.csv\") \n",
        "df.head(20)\n"
      ]
    },
    {
      "cell_type": "markdown",
      "metadata": {
        "id": "Wr4F5YKWpP9_"
      },
      "source": [
        "**Let's do some basic statistics**\n",
        "<a id='basic'></a>\n"
      ]
    },
    {
      "cell_type": "code",
      "execution_count": null,
      "metadata": {
        "colab": {
          "base_uri": "https://localhost:8080/",
          "height": 142
        },
        "id": "8zLDXl92z9VR",
        "outputId": "db73a46a-5f7d-4209-b655-1e44673d88c9"
      },
      "outputs": [
        {
          "data": {
            "text/html": [
              "<div>\n",
              "<style scoped>\n",
              "    .dataframe tbody tr th:only-of-type {\n",
              "        vertical-align: middle;\n",
              "    }\n",
              "\n",
              "    .dataframe tbody tr th {\n",
              "        vertical-align: top;\n",
              "    }\n",
              "\n",
              "    .dataframe thead th {\n",
              "        text-align: right;\n",
              "    }\n",
              "</style>\n",
              "<table border=\"1\" class=\"dataframe\">\n",
              "  <thead>\n",
              "    <tr style=\"text-align: right;\">\n",
              "      <th>col_0</th>\n",
              "      <th>count</th>\n",
              "    </tr>\n",
              "    <tr>\n",
              "      <th>RACE</th>\n",
              "      <th></th>\n",
              "    </tr>\n",
              "  </thead>\n",
              "  <tbody>\n",
              "    <tr>\n",
              "      <th>Black</th>\n",
              "      <td>35</td>\n",
              "    </tr>\n",
              "    <tr>\n",
              "      <th>White</th>\n",
              "      <td>267</td>\n",
              "    </tr>\n",
              "  </tbody>\n",
              "</table>\n",
              "</div>"
            ],
            "text/plain": [
              "col_0   count\n",
              "RACE         \n",
              " Black     35\n",
              " White    267"
            ]
          },
          "execution_count": 12,
          "metadata": {
            "tags": []
          },
          "output_type": "execute_result"
        }
      ],
      "source": [
        "of_df1 = pd.crosstab(df.RACE, columns=['count'])\n",
        "of_df1\n",
        "#of_df1 = pd.crosstab(df.GENDER, columns=['count'])\n",
        "#of_df1\n",
        "#of_df2 = pd.crosstab(df.RACE, df.GENDER, margins='True')\n",
        "#of_df2"
      ]
    },
    {
      "cell_type": "markdown",
      "metadata": {
        "id": "rpAoolPqArYR"
      },
      "source": [
        "*Descriptive statistics*"
      ]
    },
    {
      "cell_type": "code",
      "execution_count": null,
      "metadata": {
        "id": "riK4190iArmn"
      },
      "outputs": [],
      "source": [
        "df['SALARY'].count()\n",
        "df['SALARY'].mean()\n",
        "df['SALARY'].median()\n",
        "df['SALARY'].max()\n",
        "df['SALARY'].min()\n",
        "df['SALARY'].std()\n",
        "df['SALARY'].describe()\n"
      ]
    },
    {
      "cell_type": "markdown",
      "metadata": {
        "id": "li1Vh4l-CZKP"
      },
      "source": [
        "*The groupby approach (for interval features)*"
      ]
    },
    {
      "cell_type": "code",
      "execution_count": null,
      "metadata": {
        "id": "er2NVhS9CPrt"
      },
      "outputs": [],
      "source": [
        "groupby_gender = df.groupby('GENDER')\n",
        "groupby_gender.mean()\n",
        "\n",
        "#groupby_race = df.groupby('RACE')\n",
        "#groupby_race.mean()\n",
        "\n",
        "#groupby_mar = df.groupby('MARTIAL')\n",
        "#groupby_mar.mean()\n"
      ]
    },
    {
      "cell_type": "markdown",
      "metadata": {
        "id": "Xn0KnbdiDMki"
      },
      "source": [
        "*Basic plots*"
      ]
    },
    {
      "cell_type": "code",
      "execution_count": null,
      "metadata": {
        "colab": {
          "base_uri": "https://localhost:8080/",
          "height": 468
        },
        "id": "LsoWMLHLDMur",
        "outputId": "f1d1bedd-c17c-4f20-a305-5cd9c43ee051"
      },
      "outputs": [
        {
          "data": {
            "text/plain": [
              "array([[<matplotlib.axes._subplots.AxesSubplot object at 0x7f31956fd410>,\n",
              "        <matplotlib.axes._subplots.AxesSubplot object at 0x7f31956d9590>,\n",
              "        <matplotlib.axes._subplots.AxesSubplot object at 0x7f3195696650>],\n",
              "       [<matplotlib.axes._subplots.AxesSubplot object at 0x7f319564e850>,\n",
              "        <matplotlib.axes._subplots.AxesSubplot object at 0x7f3195604a50>,\n",
              "        <matplotlib.axes._subplots.AxesSubplot object at 0x7f31955bdc50>],\n",
              "       [<matplotlib.axes._subplots.AxesSubplot object at 0x7f31955f6e50>,\n",
              "        <matplotlib.axes._subplots.AxesSubplot object at 0x7f31955b8090>,\n",
              "        <matplotlib.axes._subplots.AxesSubplot object at 0x7f3195573290>]],\n",
              "      dtype=object)"
            ]
          },
          "execution_count": 13,
          "metadata": {
            "tags": []
          },
          "output_type": "execute_result"
        },
        {
          "data": {
            "image/png": "[encoded data removed]",
            "text/plain": [
              "<Figure size 432x288 with 9 Axes>"
            ]
          },
          "metadata": {
            "tags": []
          },
          "output_type": "display_data"
        }
      ],
      "source": [
        "from pandas import plotting\n",
        "plotting.scatter_matrix(df[['AGE', 'YEARS STUDY', 'SALARY']])   \n"
      ]
    },
    {
      "cell_type": "markdown",
      "metadata": {
        "id": "wKwVkisBzByE"
      },
      "source": [
        "**Let's test if the salaries are normally distributed**\n",
        "\n",
        "1. Let's draw a histogram"
      ]
    },
    {
      "cell_type": "code",
      "execution_count": null,
      "metadata": {
        "colab": {
          "base_uri": "https://localhost:8080/",
          "height": 337
        },
        "id": "55hQDJ1tzH74",
        "outputId": "bea583c8-470b-4f3f-aaf1-2b729e1ea011"
      },
      "outputs": [
        {
          "data": {
            "text/plain": [
              "(array([35., 29., 77., 77., 32., 27., 16.,  4.,  4.,  1.]),\n",
              " array([  153. ,  3520.4,  6887.8, 10255.2, 13622.6, 16990. , 20357.4,\n",
              "        23724.8, 27092.2, 30459.6, 33827. ]),\n",
              " <a list of 10 Patch objects>)"
            ]
          },
          "execution_count": 14,
          "metadata": {
            "tags": []
          },
          "output_type": "execute_result"
        },
        {
          "data": {
            "image/png": "[encoded data removed]",
            "text/plain": [
              "<Figure size 432x288 with 1 Axes>"
            ]
          },
          "metadata": {
            "tags": []
          },
          "output_type": "display_data"
        }
      ],
      "source": [
        "from statsmodels.stats import weightstats as stests\n",
        "import matplotlib.pyplot as plt\n",
        "\n",
        "plt.hist(df.SALARY, color='b',edgecolor='black', linewidth=1.2)\n"
      ]
    },
    {
      "cell_type": "markdown",
      "metadata": {
        "id": "70DBgjK_uiuN"
      },
      "source": [
        "does it look as normally distributed?\n"
      ]
    },
    {
      "cell_type": "markdown",
      "metadata": {
        "id": "ei0gVp07uo17"
      },
      "source": [
        "2. we can check for normality using the z-test. This is a statistically test in which:\n",
        "\n",
        "*   H0 - the distribution is normal\n",
        "*   H1 - the distribution is not normal\n",
        "בדיקה האם התפלגות היא התלפגות נורמלית לפי ערך שמכניסים"
      ]
    },
    {
      "cell_type": "code",
      "execution_count": null,
      "metadata": {
        "colab": {
          "base_uri": "https://localhost:8080/"
        },
        "id": "wMcYnXurvPrV",
        "outputId": "9373fdd6-c04c-402c-869f-ebfef4e90faf"
      },
      "outputs": [
        {
          "name": "stdout",
          "output_type": "stream",
          "text": [
            "11300.288079470198\n",
            "1.0\n",
            "0.0\n"
          ]
        }
      ],
      "source": [
        "from statsmodels.stats import weightstats as stests\n",
        "\n",
        "smean = df['SALARY'].mean()\n",
        "print(smean)\n",
        "\n",
        "# H0 if normal, H1 otherwise\n",
        "ztest ,pval = stests.ztest(df['SALARY'], x2=None, value=smean)\n",
        "\n",
        "print(float(pval))\n",
        "print(float(ztest))\n",
        "\n",
        "# what will happen if we change the value to an exreme value (say -100000 or 40000) - try it\n"
      ]
    },
    {
      "cell_type": "markdown",
      "metadata": {
        "id": "uetR7It-qz2p"
      },
      "source": [
        "**Parametric statistical tests for comparisons**"
      ]
    },
    {
      "cell_type": "markdown",
      "metadata": {
        "id": "QBsnnpUxF7N2"
      },
      "source": [
        "*Standard statistical table*"
      ]
    },
    {
      "cell_type": "code",
      "execution_count": null,
      "metadata": {
        "colab": {
          "base_uri": "https://localhost:8080/"
        },
        "id": "HhuxlKuNGB2S",
        "outputId": "d7f4e609-df36-46f0-e4bf-7bc8c0e89efc"
      },
      "outputs": [
        {
          "data": {
            "text/plain": [
              "1.6448536269514722"
            ]
          },
          "execution_count": 18,
          "metadata": {
            "tags": []
          },
          "output_type": "execute_result"
        }
      ],
      "source": [
        "from scipy import stats\n",
        "\n",
        "# Z to phi (probability)\n",
        "stats.norm.cdf(1.92)\n",
        "\n",
        "# phi to Z (statistics)\n",
        "stats.norm.ppf(.95)\n"
      ]
    },
    {
      "cell_type": "markdown",
      "metadata": {
        "id": "1AvGF_VHCMBJ"
      },
      "source": [
        "*1-sample t-test* (check if sample has a sprcific mean)\n"
      ]
    },
    {
      "cell_type": "markdown",
      "metadata": {
        "id": "Xl_ZyTgx98gh"
      },
      "source": [
        "האם ההתפלגות מתפלגת T "
      ]
    },
    {
      "cell_type": "code",
      "execution_count": null,
      "metadata": {
        "id": "Tv_acSNgCiGf"
      },
      "outputs": [],
      "source": [
        "import statistics\n",
        "from numpy import array\n",
        "\n",
        "x=array([10,20,30,40,50])\n",
        "stats.ttest_1samp(x, statistics.mean(x))\n",
        "#stats.ttest_1samp(x+8, statistics.mean(x))\n",
        "\n",
        "# what will happen here?\n",
        "# sal=(df['SALARY'])\n",
        "#stats.ttest_1samp(sal, statistics.mean(sal))\n"
      ]
    },
    {
      "cell_type": "markdown",
      "metadata": {
        "id": "IzBsTSuTzFzO"
      },
      "source": [
        "*Let's compare the salaries of men and women*\n",
        "\n",
        "First let's plot a boxplot to visualzie the differences\n"
      ]
    },
    {
      "cell_type": "code",
      "execution_count": null,
      "metadata": {
        "colab": {
          "base_uri": "https://localhost:8080/",
          "height": 312
        },
        "id": "BFXLj9K1EqRB",
        "outputId": "62ff6ef3-a796-417a-8d74-9f157abcc886"
      },
      "outputs": [
        {
          "data": {
            "text/plain": [
              "Text(0.5,1,'SALARY by GENDER')"
            ]
          },
          "execution_count": 19,
          "metadata": {
            "tags": []
          },
          "output_type": "execute_result"
        },
        {
          "data": {
            "image/png": "[encoded data removed]",
            "text/plain": [
              "<Figure size 432x288 with 1 Axes>"
            ]
          },
          "metadata": {
            "tags": []
          },
          "output_type": "display_data"
        }
      ],
      "source": [
        "import seaborn as sns\n",
        "sns.boxplot(x=\"GENDER\", y=\"SALARY\",data=df).set_title('SALARY by GENDER')\n"
      ]
    },
    {
      "cell_type": "markdown",
      "metadata": {
        "id": "ANhsJfR7FDkD"
      },
      "source": [
        "Then let's apply t-test to assess the difference (Unpaired t-test)\n",
        "\n",
        "*   notice it returns a two-sided test p-value\n"
      ]
    },
    {
      "cell_type": "code",
      "execution_count": null,
      "metadata": {
        "id": "DXOkJE_lDpZO"
      },
      "outputs": [],
      "source": [
        "from scipy import stats\n",
        "df.loc[df['AGE'] < 50]\n",
        "females = df.loc[df['GENDER'] == 'Female']\n",
        "males = df.loc[df['GENDER'] == 'Male']\n",
        "\n",
        "fes = females['SALARY']\n",
        "mes = males['SALARY']\n",
        "print(females)\n",
        "stats.ttest_ind(fes,mes) "
      ]
    },
    {
      "cell_type": "markdown",
      "metadata": {
        "id": "v5Cbnd40HVlq"
      },
      "source": [
        "Paired t-test in python\n",
        "\n",
        "*   notice it returns a two-sided test p-value\n"
      ]
    },
    {
      "cell_type": "code",
      "execution_count": null,
      "metadata": {
        "id": "W2kHx6s7HR3q"
      },
      "outputs": [],
      "source": [
        "data1 = [0.873, 2.817, 0.121, -0.945, -0.055, -1.436, 0.360, -1.478, -1.637, -1.869]\n",
        "data2 = [1.142, -0.432, -0.938, -0.729, -0.846, -0.157, 0.500, 1.183, -1.075, -0.169]\n",
        "#data2 = [-142, 432, 938, 729, 846, 157, 500, 1183, 1075, 169]\n",
        "\n",
        "stat, p = stats.ttest_rel(data1, data2)\n",
        "\n",
        "print('stat=%.3f, p=%.3f' % (stat, p))\n",
        "if p > 0.05:\n",
        "\tprint('Probably the same distribution')\n",
        "else:\n",
        "\tprint('Probably different distributions')"
      ]
    },
    {
      "cell_type": "markdown",
      "metadata": {
        "id": "lYHhUZkgFpKP"
      },
      "source": [
        "*Let's compare the salaries of participants from different martial statuses (ANOVA)*\n"
      ]
    },
    {
      "cell_type": "code",
      "execution_count": null,
      "metadata": {
        "id": "3CS9ITIkFvCI"
      },
      "outputs": [],
      "source": [
        "groupby_gender = df.groupby('MARTIAL')\n",
        "groupby_gender.mean()\n",
        "\n",
        "sns.boxplot(x=\"MARTIAL\", y=\"SALARY\",data=df).set_title('SALARY by MARTIAL')"
      ]
    },
    {
      "cell_type": "code",
      "execution_count": null,
      "metadata": {
        "colab": {
          "background_save": true
        },
        "id": "OWNdLMF3JU80",
        "outputId": "e48a5d77-27d8-4b6a-d12d-676749b7b93d"
      },
      "outputs": [
        {
          "ename": "NameError",
          "evalue": "ignored",
          "output_type": "error",
          "traceback": [
            "\u001b[0;31m\u001b[0m",
            "\u001b[0;31mNameError\u001b[0mTraceback (most recent call last)",
            "\u001b[0;32m<ipython-input-2-581d006909c1>\u001b[0m in \u001b[0;36m<module>\u001b[0;34m()\u001b[0m\n\u001b[0;32m----> 1\u001b[0;31m \u001b[0mwid\u001b[0m \u001b[0;34m=\u001b[0m \u001b[0mdf\u001b[0m\u001b[0;34m.\u001b[0m\u001b[0mloc\u001b[0m\u001b[0;34m[\u001b[0m\u001b[0mdf\u001b[0m\u001b[0;34m[\u001b[0m\u001b[0;34m'MARTIAL'\u001b[0m\u001b[0;34m]\u001b[0m \u001b[0;34m==\u001b[0m \u001b[0;34m'Widowed'\u001b[0m\u001b[0;34m]\u001b[0m\u001b[0;34m\u001b[0m\u001b[0m\n\u001b[0m\u001b[1;32m      2\u001b[0m \u001b[0mmar\u001b[0m \u001b[0;34m=\u001b[0m \u001b[0mdf\u001b[0m\u001b[0;34m.\u001b[0m\u001b[0mloc\u001b[0m\u001b[0;34m[\u001b[0m\u001b[0mdf\u001b[0m\u001b[0;34m[\u001b[0m\u001b[0;34m'MARTIAL'\u001b[0m\u001b[0;34m]\u001b[0m \u001b[0;34m==\u001b[0m \u001b[0;34m'Married'\u001b[0m\u001b[0;34m]\u001b[0m\u001b[0;34m\u001b[0m\u001b[0m\n\u001b[1;32m      3\u001b[0m \u001b[0mnmar\u001b[0m \u001b[0;34m=\u001b[0m \u001b[0mdf\u001b[0m\u001b[0;34m.\u001b[0m\u001b[0mloc\u001b[0m\u001b[0;34m[\u001b[0m\u001b[0mdf\u001b[0m\u001b[0;34m[\u001b[0m\u001b[0;34m'MARTIAL'\u001b[0m\u001b[0;34m]\u001b[0m \u001b[0;34m==\u001b[0m \u001b[0;34m'Never-married'\u001b[0m\u001b[0;34m]\u001b[0m\u001b[0;34m\u001b[0m\u001b[0m\n\u001b[1;32m      4\u001b[0m \u001b[0mdiv\u001b[0m \u001b[0;34m=\u001b[0m \u001b[0mdf\u001b[0m\u001b[0;34m.\u001b[0m\u001b[0mloc\u001b[0m\u001b[0;34m[\u001b[0m\u001b[0mdf\u001b[0m\u001b[0;34m[\u001b[0m\u001b[0;34m'MARTIAL'\u001b[0m\u001b[0;34m]\u001b[0m \u001b[0;34m==\u001b[0m \u001b[0;34m'Divorced'\u001b[0m\u001b[0;34m]\u001b[0m\u001b[0;34m\u001b[0m\u001b[0m\n\u001b[1;32m      5\u001b[0m \u001b[0mdiv\u001b[0m\u001b[0;34m\u001b[0m\u001b[0m\n",
            "\u001b[0;31mNameError\u001b[0m: name 'df' is not defined"
          ]
        }
      ],
      "source": [
        "wid = df.loc[df['MARTIAL'] == 'Widowed']\n",
        "mar = df.loc[df['MARTIAL'] == 'Married']\n",
        "nmar = df.loc[df['MARTIAL'] == 'Never-married']\n",
        "div = df.loc[df['MARTIAL'] == 'Divorced']\n",
        "div\n",
        "div['SALARY']\n",
        "stat, p = stats.f_oneway(wid['SALARY'], mar['SALARY'],nmar['SALARY'],div['SALARY'])\n",
        "\n",
        "print('stat=%.3f, p=%.3f' % (stat, p))\n",
        "if p > 0.05:\n",
        "\tprint('Probably the same distribution')\n",
        "else:\n",
        "\tprint('Probably different distributions')"
      ]
    },
    {
      "cell_type": "markdown",
      "metadata": {
        "id": "L0o-bueOynnP"
      },
      "source": [
        "## **Class Exercise (1)**: \n",
        "*make sure there is no difference*"
      ]
    },
    {
      "cell_type": "code",
      "execution_count": null,
      "metadata": {
        "colab": {
          "base_uri": "https://localhost:8080/"
        },
        "id": "z7pQnMwo_bsj",
        "outputId": "9386b249-6bc6-44be-ca77-370d0ca54b62"
      },
      "outputs": [
        {
          "name": "stdout",
          "output_type": "stream",
          "text": [
            "0.2056557575915693\n",
            "0.3366144209952484\n",
            "0.26630893344027234\n",
            "0.6579932300895486\n"
          ]
        }
      ],
      "source": [
        "stat, p = stats.ttest_ind(wid['SALARY'], mar['SALARY'])\n",
        "print(p)\n",
        "stat, p = stats.ttest_ind(wid['SALARY'], nmar['SALARY'])\n",
        "print(p)\n",
        "stat, p = stats.ttest_ind(wid['SALARY'], div['SALARY'])\n",
        "print(p)\n",
        "stat, p = stats.ttest_ind(mar['SALARY'], nmar['SALARY'])\n",
        "print(p)\n",
        "#and so on....\n"
      ]
    },
    {
      "cell_type": "markdown",
      "metadata": {
        "id": "MjjNNMW6zxZE"
      },
      "source": [
        "# **Non-parametric tests in pandas**\n",
        "<a id='nonp'></a>\n"
      ]
    },
    {
      "cell_type": "markdown",
      "metadata": {
        "id": "JmPSfrtYIL0_"
      },
      "source": [
        "**Chi-square test (contingency tables)**"
      ]
    },
    {
      "cell_type": "code",
      "execution_count": null,
      "metadata": {
        "id": "C8BswFrC8NDe"
      },
      "outputs": [],
      "source": [
        "# Example of the Chi-Squared Test\n",
        "from scipy.stats import chi2_contingency\n",
        "table = [[10, 20, 30],[6,  9,  17]]\n",
        "table = [[10, 20, 30],[9996,  999,  179]]\n",
        "\n",
        "stat, p, dof, expected = chi2_contingency(table)\n",
        "print('stat=%.3f, p=%.3f' % (stat, p))\n",
        "if p > 0.05:\n",
        "\tprint('Probably independent')\n",
        "else:\n",
        "\tprint('Probably dependent')"
      ]
    },
    {
      "cell_type": "markdown",
      "metadata": {
        "id": "nInJcn6lT81-"
      },
      "source": [
        "**Wilcoxon test for paired samples**"
      ]
    },
    {
      "cell_type": "code",
      "execution_count": null,
      "metadata": {
        "id": "5v-Rzt8xL5hi"
      },
      "outputs": [],
      "source": [
        "data1 = [0.8, -2.8, 0.1, -0.9, -0.1, -1.4, 0.360, -1.8, -1.7, -1.9, 2.0, -3.2]\n",
        "data2 = [0.1, 2.3, 0.2, 9.4, -0.1, 2.4, -3.0, -1.4, 1.6, 8.69, 3.1, 4.2]\n",
        "\n",
        "stat, p = stats.wilcoxon(data1,data2,zero_method='wilcox')\n",
        "\n",
        "print('stat=%.3f, p=%.3f' % (stat, p))\n",
        "if p > 0.05:\n",
        "\tprint('Probably the same distribution')\n",
        "else:\n",
        "\tprint('Probably different distributions')"
      ]
    },
    {
      "cell_type": "markdown",
      "metadata": {
        "id": "aBe6WRE5UnFO"
      },
      "source": [
        "**Wilcoxon (Mann Whitney) test for non-paired samples (equivalent to wilcoxson)**"
      ]
    },
    {
      "cell_type": "code",
      "execution_count": null,
      "metadata": {
        "id": "Zq7-P_u3UBFF"
      },
      "outputs": [],
      "source": [
        "group1 = [1, 5 ,7 ,3 ,5 ,8 ,34 ,1 ,3 ,5 ,200, 3]\n",
        "group2 = [10, 18, 11, 12, 15, 19, 9, 17, 1, 22, 9, 8]\n",
        "group3 = [1, 5 ,7 ,3 ,5 ,8 ,34 ,1 ,3 ,5 ,200, 3]\n",
        "\n",
        "stat, p = stats.mannwhitneyu(group1, group2)\n",
        "\n",
        "print('stat=%.3f, p=%.3f' % (stat, p))\n",
        "if p > 0.05:\n",
        "\tprint('Probably the same distribution')\n",
        "else:\n",
        "\tprint('Probably different distributions')\n"
      ]
    },
    {
      "cell_type": "markdown",
      "metadata": {
        "id": "bKvgbqpdcOHo"
      },
      "source": [
        "##**Class Exercise (2)**: \n",
        "*Check the difference between men's and women's salaries.*\n",
        "\n",
        "*What are the differences between the parametric and the non-parametric tests?*"
      ]
    },
    {
      "cell_type": "code",
      "execution_count": null,
      "metadata": {
        "colab": {
          "base_uri": "https://localhost:8080/"
        },
        "id": "ekkXu3SXD1lK",
        "outputId": "62d5bb33-41e0-4b27-f4a0-d0a39cf0ddcf"
      },
      "outputs": [
        {
          "name": "stdout",
          "output_type": "stream",
          "text": [
            "non-parametric test results:\n",
            "stat=10407.500, p=0.096\n",
            "Probably the same distribution\n",
            "\n",
            "('parametric test results:', Ttest_indResult(statistic=-1.962279105783998, pvalue=0.05065412288354052))\n"
          ]
        }
      ],
      "source": [
        "stat, p = stats.mannwhitneyu(fes, mes)\n",
        "print(\"non-parametric test results:\")\n",
        "print('stat=%.3f, p=%.3f' % (stat, p))\n",
        "if p > 0.05:\n",
        "\tprint('Probably the same distribution\\n')\n",
        "else:\n",
        "\tprint('Probably different distributions\\n')\n",
        " \n",
        "print(\"parametric test results:\",stats.ttest_ind(fes,mes))"
      ]
    },
    {
      "cell_type": "markdown",
      "metadata": {
        "id": "nPR1VmhCVA_t"
      },
      "source": [
        "**Kolmogorov Smirnov test**"
      ]
    },
    {
      "cell_type": "code",
      "execution_count": null,
      "metadata": {
        "id": "6ZnAwWUEVEGZ"
      },
      "outputs": [],
      "source": [
        "from scipy.stats import ks_2samp\n",
        "ks_2samp(group1, group2)\n"
      ]
    },
    {
      "cell_type": "markdown",
      "metadata": {
        "id": "x6_69o2tXhaE"
      },
      "source": [
        "**Friedman test**"
      ]
    },
    {
      "cell_type": "code",
      "execution_count": null,
      "metadata": {
        "colab": {
          "base_uri": "https://localhost:8080/"
        },
        "id": "8mA0twdfXhmp",
        "outputId": "55b711cc-474a-4c9c-dfd8-933f1525efff"
      },
      "outputs": [
        {
          "name": "stdout",
          "output_type": "stream",
          "text": [
            "stat=0.884, p=0.643\n",
            "Probably the same distribution\n"
          ]
        }
      ],
      "source": [
        "from scipy.stats import friedmanchisquare\n",
        "data1 = [0.873, 2.817, 0.121, -0.945, -0.055, -1.436, 0.360, -1.478, -1.637, -1.869, 4]\n",
        "data2 = [1.142, -0.432, -0.938, -0.729, -0.846, -0.157, 0.500, 1.183, -1.075, -0.169, 4]\n",
        "data3 = [-0.208, 0.696, 0.928, -1.148, -0.213, 0.229, 0.137, 0.269, -0.870, -1.204, -1]\n",
        "data4 = [-1.142, 0.432, 0.938, 0.729, 0.846, 0.157, 0.500, 1.183, 1.075, 0.169, 4]\n",
        "\n",
        "stat, p = friedmanchisquare(data1, data2, data3)\n",
        "\n",
        "print('stat=%.3f, p=%.3f' % (stat, p))\n",
        "if p > 0.05:\n",
        "\tprint('Probably the same distribution')\n",
        "else:\n",
        "\tprint('Probably different distributions')\n"
      ]
    },
    {
      "cell_type": "markdown",
      "metadata": {
        "id": "RHOjnASRjo2z"
      },
      "source": [
        "##**Class Exercise (3)**: \n",
        "*Check the difference between data1, data2, data4.*\n",
        "\n",
        "*Which pair(s) make(s) the difference?*"
      ]
    },
    {
      "cell_type": "code",
      "execution_count": null,
      "metadata": {
        "id": "1JfZB3EHEzxc"
      },
      "outputs": [],
      "source": [
        "stat, p = friedmanchisquare(data1, data2, data4)\n",
        "\n",
        "print('stat=%.3f, p=%.3f' % (stat, p))\n",
        "if p > 0.05:\n",
        "\tprint('Probably the same distribution')\n",
        "else:\n",
        "\tprint('Probably different distributions')\n",
        " \n",
        "print(\"pairs testing:\\n\")\n",
        "stat, p = stats.wilcoxon(data1,data2,zero_method='wilcox')\n",
        "print(\"pair 1 and 2\")\n",
        "print('stat=%.3f, p=%.3f' % (stat, p))\n",
        "if p > 0.05:\n",
        "\tprint('Probably the same distribution')\n",
        "else:\n",
        "\tprint('Probably different distributions')\n",
        "\n",
        "stat, p = stats.wilcoxon(data1,data4,zero_method='wilcox')\n",
        "print(\"pair 1 and 4\")\n",
        "print('stat=%.3f, p=%.3f' % (stat, p))\n",
        "if p > 0.05:\n",
        "\tprint('Probably the same distribution')\n",
        "else:\n",
        "\tprint('Probably different distributions')\n",
        " \n",
        "stat, p = stats.wilcoxon(data4,data2,zero_method='wilcox')\n",
        "print(\"pair 2 and 4\")\n",
        "print('stat=%.3f, p=%.3f' % (stat, p))\n",
        "if p > 0.05:\n",
        "\tprint('Probably the same distribution')\n",
        "else:\n",
        "\tprint('Probably different distributions')"
      ]
    },
    {
      "cell_type": "markdown",
      "metadata": {
        "id": "dgM2qvrsYKVG"
      },
      "source": [
        "**Kruskal-Wallis test**"
      ]
    },
    {
      "cell_type": "code",
      "execution_count": null,
      "metadata": {
        "id": "EoTqnrrnmsq3"
      },
      "outputs": [],
      "source": [
        "from scipy.stats import kruskal\n",
        "data1 = [0.873, 2.817, 0.121, -0.945, -0.055, -1.436, 0.360, -1.478, -1.637]\n",
        "data2 = [1.142, -0.432, -0.938, -0.729, -0.846, -0.157, 0.500, 1.183, -1.075, -0.169]\n",
        "data3 = [-0.208, 0.696, 0.928, -1.148, -0.213, 0.229, 0.137, 0.269, -0.870, -1.204, 0.23, 0.98]\n",
        "\n",
        "stat, p = kruskal(data1, data2,data3)\n",
        "print('stat=%.3f, p=%.3f' % (stat, p))\n",
        "if p > 0.05:\n",
        "\tprint('Probably the same distribution')\n",
        "else:\n",
        "\tprint('Probably different distributions')"
      ]
    },
    {
      "cell_type": "markdown",
      "metadata": {
        "id": "QyqxzbeJkEAj"
      },
      "source": [
        "##**Class Exercise (4)**: \n",
        "*Check the difference between the parameteric and the non-parameteric test, regarding the salaries according to the martial status.*"
      ]
    },
    {
      "cell_type": "code",
      "execution_count": null,
      "metadata": {
        "colab": {
          "base_uri": "https://localhost:8080/"
        },
        "id": "H8gpAxibG765",
        "outputId": "82462843-e077-4342-9d61-663d67fa5693"
      },
      "outputs": [
        {
          "name": "stdout",
          "output_type": "stream",
          "text": [
            "('result for parametric test: ', 0.530506512761904)\n",
            "result for non-parametric test: \n",
            "\n",
            "stat=0.892, p=0.827\n",
            "Probably the same distribution\n"
          ]
        }
      ],
      "source": [
        "from scipy.stats import kruskal\n",
        "wid = df.loc[df['MARTIAL'] == 'Widowed']\n",
        "mar = df.loc[df['MARTIAL'] == 'Married']\n",
        "nmar = df.loc[df['MARTIAL'] == 'Never-married']\n",
        "div = df.loc[df['MARTIAL'] == 'Divorced']\n",
        "div\n",
        "div['SALARY']\n",
        "stat, p = stats.f_oneway(wid['SALARY'], mar['SALARY'],nmar['SALARY'],div['SALARY'])\n",
        "print(\"result for parametric test: \",p)\n",
        "print(\"result for non-parametric test: \\n\")\n",
        "\n",
        "stat, p = kruskal(wid['SALARY'], mar['SALARY'],nmar['SALARY'],div['SALARY'])\n",
        "print('stat=%.3f, p=%.3f' % (stat, p))\n",
        "if p > 0.05:\n",
        "\tprint('Probably the same distribution')\n",
        "else:\n",
        "\tprint('Probably different distributions')"
      ]
    },
    {
      "cell_type": "markdown",
      "metadata": {
        "id": "XhhUSHIEZ1MG"
      },
      "source": [
        "**Cochran test**"
      ]
    },
    {
      "cell_type": "code",
      "execution_count": null,
      "metadata": {
        "id": "_L-IkFh1Z1WK"
      },
      "outputs": [],
      "source": [
        "from statsmodels.sandbox.stats.runs import cochrans_q\n",
        "\n",
        "tasks = array([[0,1,1,0,1,0,0,1,0,0,0,0],\n",
        "                      [1,1,1,0,0,1,0,1,1,1,1,1],\n",
        "                      [0,0,1,0,0,1,0,0,0,0,0,0]])\n",
        "\n",
        "\n",
        "tasks = array([[0,1,0,1,0,1],[1,1,1,1,1,1],\n",
        "                      [0,0,0,0,0,0],[1,1,1,1,1,1],[1,1,1,1,1,1],[0,0,0,1,1,1],\n",
        "                      [1,1,1,1,1,1],[0,0,0,1,1,0],[0,0,0,0,0,0]])\n",
        "\n",
        "#    df = pd.DataFrame(tasks.T, columns = ['Task1', 'Task2', 'Task3'])\n",
        "    \n",
        "stat, p = cochrans_q(tasks)\n",
        "\n",
        "print('stat=%.3f, p=%.3f' % (stat, p))\n",
        "if p > 0.05:\n",
        "\tprint('Probably the same distribution')\n",
        "else:\n",
        "\tprint('Probably different distributions')\n"
      ]
    }
  ],
  "metadata": {
    "colab": {
      "collapsed_sections": [],
      "name": "SL_lab1.ipynb",
      "provenance": [],
      "toc_visible": true
    },
    "interpreter": {
      "hash": "ddf3f600d40d2341c955235ce25b28b4350cbf03e579f97bb09eddb1e42d4194"
    },
    "kernelspec": {
      "display_name": "Python 3.9.9 64-bit",
      "language": "python",
      "name": "python3"
    },
    "language_info": {
      "codemirror_mode": {
        "name": "ipython",
        "version": 3
      },
      "file_extension": ".py",
      "mimetype": "text/x-python",
      "name": "python",
      "nbconvert_exporter": "python",
      "pygments_lexer": "ipython3",
      "version": "3.9.9"
    }
  },
  "nbformat": 4,
  "nbformat_minor": 0
}
